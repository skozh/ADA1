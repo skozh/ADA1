{
  "nbformat": 4,
  "nbformat_minor": 0,
  "metadata": {
    "colab": {
      "name": "Task3.ipynb",
      "provenance": [],
      "collapsed_sections": [],
      "authorship_tag": "ABX9TyMqsQVsVKTLUWIrC4liIhKt",
      "include_colab_link": true
    },
    "kernelspec": {
      "name": "python3",
      "display_name": "Python 3"
    }
  },
  "cells": [
    {
      "cell_type": "markdown",
      "metadata": {
        "id": "view-in-github",
        "colab_type": "text"
      },
      "source": [
        "<a href=\"https://colab.research.google.com/github/skozh/ADA1/blob/master/Task3.ipynb\" target=\"_parent\"><img src=\"https://colab.research.google.com/assets/colab-badge.svg\" alt=\"Open In Colab\"/></a>"
      ]
    },
    {
      "cell_type": "code",
      "metadata": {
        "id": "MUgFyBCbQV1M",
        "colab_type": "code",
        "colab": {}
      },
      "source": [
        "import numpy as np\n",
        "import matplotlib.pyplot as plt\n",
        "from scipy import optimize"
      ],
      "execution_count": 1,
      "outputs": []
    },
    {
      "cell_type": "markdown",
      "metadata": {
        "id": "_ClU-7sPxKBM",
        "colab_type": "text"
      },
      "source": [
        "## **Generate Noisy Data**"
      ]
    },
    {
      "cell_type": "code",
      "metadata": {
        "id": "-tR_Q3r4xgj-",
        "colab_type": "code",
        "colab": {}
      },
      "source": [
        "def linear_fun(x, alpha, beta):\n",
        "  return alpha*x+beta"
      ],
      "execution_count": 2,
      "outputs": []
    },
    {
      "cell_type": "code",
      "metadata": {
        "id": "hqOGGCEz57yV",
        "colab_type": "code",
        "colab": {}
      },
      "source": [
        "def rational_fun(x, alpha, beta):\n",
        "  return alpha/(1+beta*x)"
      ],
      "execution_count": 3,
      "outputs": []
    },
    {
      "cell_type": "code",
      "metadata": {
        "id": "kYvIGem5xucy",
        "colab_type": "code",
        "colab": {
          "base_uri": "https://localhost:8080/",
          "height": 34
        },
        "outputId": "b08603a9-ce15-472a-a2ae-3de66ab2fc63"
      },
      "source": [
        "alpha = np.random.rand()\n",
        "beta = np.random.rand()\n",
        "noise = np.random.normal(0,1,101)\n",
        "print(alpha, beta)"
      ],
      "execution_count": 4,
      "outputs": [
        {
          "output_type": "stream",
          "text": [
            "0.7810201968991864 0.699117593522251\n"
          ],
          "name": "stdout"
        }
      ]
    },
    {
      "cell_type": "code",
      "metadata": {
        "id": "UO1Z8r0AxxPy",
        "colab_type": "code",
        "colab": {}
      },
      "source": [
        "k = [*range(0, 101, 1)]\n",
        "x = np.array([x/100 for x in k])\n",
        "y = alpha*x + beta + noise"
      ],
      "execution_count": 5,
      "outputs": []
    },
    {
      "cell_type": "code",
      "metadata": {
        "id": "MKkFHvFwrN-s",
        "colab_type": "code",
        "colab": {
          "base_uri": "https://localhost:8080/",
          "height": 282
        },
        "outputId": "a6d6304e-b775-498c-a009-22c55491e4fc"
      },
      "source": [
        "fig, ax = plt.subplots(1, 1)\n",
        "ax.plot(x, y, 'ob', label='data')"
      ],
      "execution_count": 6,
      "outputs": [
        {
          "output_type": "execute_result",
          "data": {
            "text/plain": [
              "[<matplotlib.lines.Line2D at 0x7f8d872aceb8>]"
            ]
          },
          "metadata": {
            "tags": []
          },
          "execution_count": 6
        },
        {
          "output_type": "display_data",
          "data": {
            "image/png": "[encoded data removed]",
            "text/plain": [
              "<Figure size 432x288 with 1 Axes>"
            ]
          },
          "metadata": {
            "tags": [],
            "needs_background": "light"
          }
        }
      ]
    },
    {
      "cell_type": "code",
      "metadata": {
        "id": "zRRcVmOgnu6C",
        "colab_type": "code",
        "colab": {}
      },
      "source": [
        "def objective_linear(params):\n",
        "  alpha, beta = params\n",
        "  return np.sum(((alpha*x+beta)-y)**2)"
      ],
      "execution_count": 7,
      "outputs": []
    },
    {
      "cell_type": "code",
      "metadata": {
        "id": "CiwS0SwhH7ZD",
        "colab_type": "code",
        "colab": {}
      },
      "source": [
        "def objective_rational(params):\n",
        "  alpha, beta = params\n",
        "  return np.sum(((alpha/(1+x*beta))-y)**2)"
      ],
      "execution_count": 8,
      "outputs": []
    },
    {
      "cell_type": "markdown",
      "metadata": {
        "id": "NyGZsmV4FdAw",
        "colab_type": "text"
      },
      "source": [
        "**Conjugate Gradient Descent**"
      ]
    },
    {
      "cell_type": "markdown",
      "metadata": {
        "id": "lMIPMJZYIFyX",
        "colab_type": "text"
      },
      "source": [
        "Linear Approximant"
      ]
    },
    {
      "cell_type": "code",
      "metadata": {
        "id": "f3NZ4WrWppO1",
        "colab_type": "code",
        "colab": {
          "base_uri": "https://localhost:8080/",
          "height": 170
        },
        "outputId": "18a96ed5-8e32-4d44-c8c4-a3d6ca78d536"
      },
      "source": [
        "initial = [0,0]\n",
        "result = optimize.minimize(fun=objective_linear, x0=initial,method='CG', tol=0.001) \n",
        "result"
      ],
      "execution_count": 9,
      "outputs": [
        {
          "output_type": "execute_result",
          "data": {
            "text/plain": [
              "     fun: 87.74530128568709\n",
              "     jac: array([-0.00045586,  0.00010681])\n",
              " message: 'Optimization terminated successfully.'\n",
              "    nfev: 52\n",
              "     nit: 8\n",
              "    njev: 13\n",
              "  status: 0\n",
              " success: True\n",
              "       x: array([1.24166376, 0.49249717])"
            ]
          },
          "metadata": {
            "tags": []
          },
          "execution_count": 9
        }
      ]
    },
    {
      "cell_type": "code",
      "metadata": {
        "id": "FK_Epoo16YZw",
        "colab_type": "code",
        "colab": {
          "base_uri": "https://localhost:8080/",
          "height": 282
        },
        "outputId": "fb42a2cf-37bf-40ba-d76f-875b02081c1a"
      },
      "source": [
        "fig, ax = plt.subplots(1, 1)\n",
        "ax.plot(x, y, 'ob', label='data')\n",
        "ax.plot(x, linear_fun(x, result.x[0],result.x[1]), '-k', lw=2, label='CG')\n",
        "ax.legend()"
      ],
      "execution_count": 10,
      "outputs": [
        {
          "output_type": "execute_result",
          "data": {
            "text/plain": [
              "<matplotlib.legend.Legend at 0x7f8d86d68208>"
            ]
          },
          "metadata": {
            "tags": []
          },
          "execution_count": 10
        },
        {
          "output_type": "display_data",
          "data": {
            "image/png": "[encoded data removed]",
            "text/plain": [
              "<Figure size 432x288 with 1 Axes>"
            ]
          },
          "metadata": {
            "tags": [],
            "needs_background": "light"
          }
        }
      ]
    },
    {
      "cell_type": "markdown",
      "metadata": {
        "id": "pdRZ0bLSIOTK",
        "colab_type": "text"
      },
      "source": [
        "Rational Approximant\n",
        "\n"
      ]
    },
    {
      "cell_type": "code",
      "metadata": {
        "id": "erJ6AziwIRdd",
        "colab_type": "code",
        "colab": {
          "base_uri": "https://localhost:8080/",
          "height": 170
        },
        "outputId": "009b41f7-de15-44ce-ac25-a8f006cce307"
      },
      "source": [
        "initial = [0,0]\n",
        "result = optimize.minimize(fun=objective_rational, x0=initial,method='CG', tol=0.001) \n",
        "result"
      ],
      "execution_count": 11,
      "outputs": [
        {
          "output_type": "execute_result",
          "data": {
            "text/plain": [
              "     fun: 86.22763042538955\n",
              "     jac: array([-0.00014496,  0.00018692])\n",
              " message: 'Optimization terminated successfully.'\n",
              "    nfev: 120\n",
              "     nit: 12\n",
              "    njev: 30\n",
              "  status: 0\n",
              " success: True\n",
              "       x: array([ 0.66544321, -0.67811825])"
            ]
          },
          "metadata": {
            "tags": []
          },
          "execution_count": 11
        }
      ]
    },
    {
      "cell_type": "code",
      "metadata": {
        "id": "1jHcMn5aIUcb",
        "colab_type": "code",
        "colab": {
          "base_uri": "https://localhost:8080/",
          "height": 282
        },
        "outputId": "e1d62232-43f6-4988-c927-800f55fe82e2"
      },
      "source": [
        "fig, ax = plt.subplots(1, 1)\n",
        "ax.plot(x, y, 'ob', label='data')\n",
        "ax.plot(x, rational_fun(x, result.x[0],result.x[1]), '-k', lw=2, label='CG')\n",
        "ax.legend()"
      ],
      "execution_count": 12,
      "outputs": [
        {
          "output_type": "execute_result",
          "data": {
            "text/plain": [
              "<matplotlib.legend.Legend at 0x7f8d86d5d9e8>"
            ]
          },
          "metadata": {
            "tags": []
          },
          "execution_count": 12
        },
        {
          "output_type": "display_data",
          "data": {
            "image/png": "[encoded data removed]",
            "text/plain": [
              "<Figure size 432x288 with 1 Axes>"
            ]
          },
          "metadata": {
            "tags": [],
            "needs_background": "light"
          }
        }
      ]
    },
    {
      "cell_type": "markdown",
      "metadata": {
        "id": "rzmmuZYwIiLf",
        "colab_type": "text"
      },
      "source": [
        "**Newton's Method**"
      ]
    },
    {
      "cell_type": "markdown",
      "metadata": {
        "id": "7UKef1S0I13E",
        "colab_type": "text"
      },
      "source": [
        "Linear Approximant"
      ]
    },
    {
      "cell_type": "code",
      "metadata": {
        "id": "Hm3b3k2KIdoA",
        "colab_type": "code",
        "colab": {
          "base_uri": "https://localhost:8080/",
          "height": 187
        },
        "outputId": "7cbd6cb3-4938-483a-84e3-2a4a45302a41"
      },
      "source": [
        "initial = [0,0]\n",
        "fprime = lambda x: optimize.approx_fprime(x, objective_linear, 0.001)\n",
        "result = optimize.minimize(fun=objective_linear, x0=initial,method='Newton-CG', tol=0.001, jac=fprime) \n",
        "result"
      ],
      "execution_count": 13,
      "outputs": [
        {
          "output_type": "execute_result",
          "data": {
            "text/plain": [
              "     fun: 87.7453345168344\n",
              "     jac: array([ 0.00012996, -0.00017804])\n",
              " message: 'Optimization terminated successfully.'\n",
              "    nfev: 4\n",
              "    nhev: 0\n",
              "     nit: 3\n",
              "    njev: 30\n",
              "  status: 0\n",
              " success: True\n",
              "       x: array([1.2426584 , 0.49149938])"
            ]
          },
          "metadata": {
            "tags": []
          },
          "execution_count": 13
        }
      ]
    },
    {
      "cell_type": "code",
      "metadata": {
        "id": "JBikPEqYI7a_",
        "colab_type": "code",
        "colab": {
          "base_uri": "https://localhost:8080/",
          "height": 282
        },
        "outputId": "b84e6473-41ff-4120-ce8d-85271d242189"
      },
      "source": [
        "fig, ax = plt.subplots(1, 1)\n",
        "ax.plot(x, y, 'ob', label='data')\n",
        "ax.plot(x, linear_fun(x, result.x[0],result.x[1]), '-k', lw=2, label='Newton-CG')\n",
        "ax.legend()"
      ],
      "execution_count": 14,
      "outputs": [
        {
          "output_type": "execute_result",
          "data": {
            "text/plain": [
              "<matplotlib.legend.Legend at 0x7f8d86cd8160>"
            ]
          },
          "metadata": {
            "tags": []
          },
          "execution_count": 14
        },
        {
          "output_type": "display_data",
          "data": {
            "image/png": "[encoded data removed]",
            "text/plain": [
              "<Figure size 432x288 with 1 Axes>"
            ]
          },
          "metadata": {
            "tags": [],
            "needs_background": "light"
          }
        }
      ]
    },
    {
      "cell_type": "markdown",
      "metadata": {
        "id": "gjUuvpXWKEwM",
        "colab_type": "text"
      },
      "source": [
        "Rational Approximant"
      ]
    },
    {
      "cell_type": "code",
      "metadata": {
        "colab_type": "code",
        "id": "Jg0yUXw_KDfm",
        "colab": {
          "base_uri": "https://localhost:8080/",
          "height": 187
        },
        "outputId": "4da1211b-dc1c-463e-d006-fec32ce7610e"
      },
      "source": [
        "initial = [0,0]\n",
        "fprime = lambda x: optimize.approx_fprime(x, objective_rational, 0.001)\n",
        "result = optimize.minimize(fun=objective_rational, x0=initial,method='Newton-CG', tol=0.001, jac=fprime) \n",
        "result"
      ],
      "execution_count": 15,
      "outputs": [
        {
          "output_type": "execute_result",
          "data": {
            "text/plain": [
              "     fun: 86.23063522493186\n",
              "     jac: array([ 0.19479755, -0.70246287])\n",
              " message: 'Optimization terminated successfully.'\n",
              "    nfev: 11\n",
              "    nhev: 0\n",
              "     nit: 8\n",
              "    njev: 46\n",
              "  status: 0\n",
              " success: True\n",
              "       x: array([ 0.65962475, -0.68277051])"
            ]
          },
          "metadata": {
            "tags": []
          },
          "execution_count": 15
        }
      ]
    },
    {
      "cell_type": "code",
      "metadata": {
        "colab_type": "code",
        "id": "QbwiFi8mKDfx",
        "colab": {
          "base_uri": "https://localhost:8080/",
          "height": 282
        },
        "outputId": "8ac1a1d5-1bfb-4b0f-ddf8-5ee7937b79a9"
      },
      "source": [
        "fig, ax = plt.subplots(1, 1)\n",
        "ax.plot(x, y, 'ob', label='data')\n",
        "ax.plot(x, rational_fun(x, result.x[0],result.x[1]), '-k', lw=2, label='Newton-CG')\n",
        "ax.legend()"
      ],
      "execution_count": 16,
      "outputs": [
        {
          "output_type": "execute_result",
          "data": {
            "text/plain": [
              "<matplotlib.legend.Legend at 0x7f8d86c408d0>"
            ]
          },
          "metadata": {
            "tags": []
          },
          "execution_count": 16
        },
        {
          "output_type": "display_data",
          "data": {
            "image/png": "[encoded data removed]",
            "text/plain": [
              "<Figure size 432x288 with 1 Axes>"
            ]
          },
          "metadata": {
            "tags": [],
            "needs_background": "light"
          }
        }
      ]
    },
    {
      "cell_type": "markdown",
      "metadata": {
        "id": "PGKfl464K3nl",
        "colab_type": "text"
      },
      "source": [
        "**Levenberg-Marquardt algorithm**"
      ]
    },
    {
      "cell_type": "markdown",
      "metadata": {
        "id": "4ywcTXibK6-m",
        "colab_type": "text"
      },
      "source": [
        "Linear Approximant"
      ]
    },
    {
      "cell_type": "code",
      "metadata": {
        "id": "jt_zPbL-IIbE",
        "colab_type": "code",
        "colab": {
          "base_uri": "https://localhost:8080/",
          "height": 34
        },
        "outputId": "e575c7da-7ab8-4b96-8ef9-b575972cb630"
      },
      "source": [
        "result = optimize.curve_fit(linear_fun, x, y, method='lm')[0]\n",
        "result"
      ],
      "execution_count": 17,
      "outputs": [
        {
          "output_type": "execute_result",
          "data": {
            "text/plain": [
              "array([1.24169346, 0.4924818 ])"
            ]
          },
          "metadata": {
            "tags": []
          },
          "execution_count": 17
        }
      ]
    },
    {
      "cell_type": "code",
      "metadata": {
        "id": "mXF7XCyXZG0l",
        "colab_type": "code",
        "colab": {
          "base_uri": "https://localhost:8080/",
          "height": 282
        },
        "outputId": "2b3dd05e-ee8f-4d7c-e1c6-a5b5b3be3eb3"
      },
      "source": [
        "fig, ax = plt.subplots(1, 1)\n",
        "ax.plot(x, y, 'ob', label='data')\n",
        "ax.plot(x, linear_fun(x, result[0],result[1]), '-k', lw=2, label='LM')\n",
        "ax.legend()"
      ],
      "execution_count": 18,
      "outputs": [
        {
          "output_type": "execute_result",
          "data": {
            "text/plain": [
              "<matplotlib.legend.Legend at 0x7f8d86bee4e0>"
            ]
          },
          "metadata": {
            "tags": []
          },
          "execution_count": 18
        },
        {
          "output_type": "display_data",
          "data": {
            "image/png": "[encoded data removed]",
            "text/plain": [
              "<Figure size 432x288 with 1 Axes>"
            ]
          },
          "metadata": {
            "tags": [],
            "needs_background": "light"
          }
        }
      ]
    },
    {
      "cell_type": "markdown",
      "metadata": {
        "id": "JbTVsrA7G60V",
        "colab_type": "text"
      },
      "source": [
        "Rational Approximant"
      ]
    },
    {
      "cell_type": "code",
      "metadata": {
        "id": "GLxv-ZT0HX5y",
        "colab_type": "code",
        "colab": {
          "base_uri": "https://localhost:8080/",
          "height": 34
        },
        "outputId": "2b914c83-a7a2-4d8f-eb62-fcdbdd97a83a"
      },
      "source": [
        "result = optimize.curve_fit(rational_fun, x, y, method='lm')[0]\n",
        "result"
      ],
      "execution_count": 19,
      "outputs": [
        {
          "output_type": "execute_result",
          "data": {
            "text/plain": [
              "array([ 0.66544594, -0.67811587])"
            ]
          },
          "metadata": {
            "tags": []
          },
          "execution_count": 19
        }
      ]
    },
    {
      "cell_type": "code",
      "metadata": {
        "id": "V3B7sUYkZ4Jz",
        "colab_type": "code",
        "colab": {
          "base_uri": "https://localhost:8080/",
          "height": 282
        },
        "outputId": "be201e1c-37b3-4ef4-b8fe-4a464abb3ac9"
      },
      "source": [
        "fig, ax = plt.subplots(1, 1)\n",
        "ax.plot(x, y, 'ob', label='data')\n",
        "ax.plot(x, rational_fun(x, result[0],result[1]), '-k', lw=2, label='LM')\n",
        "ax.legend()"
      ],
      "execution_count": 20,
      "outputs": [
        {
          "output_type": "execute_result",
          "data": {
            "text/plain": [
              "<matplotlib.legend.Legend at 0x7f8d86b257f0>"
            ]
          },
          "metadata": {
            "tags": []
          },
          "execution_count": 20
        },
        {
          "output_type": "display_data",
          "data": {
            "image/png": "[encoded data removed]",
            "text/plain": [
              "<Figure size 432x288 with 1 Axes>"
            ]
          },
          "metadata": {
            "tags": [],
            "needs_background": "light"
          }
        }
      ]
    },
    {
      "cell_type": "markdown",
      "metadata": {
        "id": "Wq7m2AZAnYfq",
        "colab_type": "text"
      },
      "source": [
        "**Gradient Descent**"
      ]
    },
    {
      "cell_type": "markdown",
      "metadata": {
        "id": "gYOg2AmD5AzY",
        "colab_type": "text"
      },
      "source": [
        "Linear Approximant"
      ]
    },
    {
      "cell_type": "code",
      "metadata": {
        "id": "EiPC4Bu4nXhD",
        "colab_type": "code",
        "colab": {}
      },
      "source": [
        "def GradientDescentLinear(x, y, alpha, beta, lr, tol=0.001):\n",
        "  for i in range(100):\n",
        "    der_alpha = np.sum(2*x*(alpha*x+beta-y))\n",
        "    der_beta = np.sum(2*(alpha*x+beta-y))\n",
        "    alpha = alpha - lr*der_alpha\n",
        "    beta = beta - lr*der_beta\n",
        "    if np.abs(lr*der_alpha) < tol and np.abs(lr*der_beta) < tol:\n",
        "      return alpha, beta, i\n",
        "  return alpha, beta, i"
      ],
      "execution_count": 21,
      "outputs": []
    },
    {
      "cell_type": "code",
      "metadata": {
        "id": "FEr6G0d_vGqj",
        "colab_type": "code",
        "colab": {
          "base_uri": "https://localhost:8080/",
          "height": 34
        },
        "outputId": "b1d1c7af-d01a-4fdc-d675-79043427b269"
      },
      "source": [
        "alpha, beta, iteration = GradientDescentLinear(x, y, 0, 0, 0.001)\n",
        "print(alpha, beta)"
      ],
      "execution_count": 22,
      "outputs": [
        {
          "output_type": "stream",
          "text": [
            "1.047396357381943 0.5966108092728358\n"
          ],
          "name": "stdout"
        }
      ]
    },
    {
      "cell_type": "code",
      "metadata": {
        "id": "WLyGMpWmvLj7",
        "colab_type": "code",
        "colab": {
          "base_uri": "https://localhost:8080/",
          "height": 282
        },
        "outputId": "93d4f1e0-8ab8-4e46-bb8d-fbaeaa4b736e"
      },
      "source": [
        "fig, ax = plt.subplots(1, 1)\n",
        "ax.plot(x, y, 'ob', label='data')\n",
        "ax.plot(x, linear_fun(x, alpha,beta), '-k', lw=2, label='GD')\n",
        "ax.legend()"
      ],
      "execution_count": 23,
      "outputs": [
        {
          "output_type": "execute_result",
          "data": {
            "text/plain": [
              "<matplotlib.legend.Legend at 0x7f8d86b13e80>"
            ]
          },
          "metadata": {
            "tags": []
          },
          "execution_count": 23
        },
        {
          "output_type": "display_data",
          "data": {
            "image/png": "[encoded data removed]",
            "text/plain": [
              "<Figure size 432x288 with 1 Axes>"
            ]
          },
          "metadata": {
            "tags": [],
            "needs_background": "light"
          }
        }
      ]
    },
    {
      "cell_type": "markdown",
      "metadata": {
        "id": "MrEznpRZ5E0k",
        "colab_type": "text"
      },
      "source": [
        "Rational Approximant"
      ]
    },
    {
      "cell_type": "code",
      "metadata": {
        "id": "6WIgoLIX46h-",
        "colab_type": "code",
        "colab": {}
      },
      "source": [
        "def GradientDescentRational(x, y, alpha, beta, lr, tol=0.001):\n",
        "  for i in range(100):\n",
        "    t = (1 + beta*x)\n",
        "    der_alpha = np.sum(2*((alpha/t) - y)/t)\n",
        "    der_beta = np.sum(2*alpha*x*(t*y - alpha)/(t**3))\n",
        "    alpha = alpha - lr*der_alpha\n",
        "    beta = beta - lr*der_beta\n",
        "    if np.abs(lr*der_alpha) < tol and np.abs(lr*der_beta) < tol:\n",
        "      return alpha, beta, i\n",
        "  return alpha, beta, i"
      ],
      "execution_count": 24,
      "outputs": []
    },
    {
      "cell_type": "code",
      "metadata": {
        "id": "mrVagnNK7dlc",
        "colab_type": "code",
        "colab": {
          "base_uri": "https://localhost:8080/",
          "height": 34
        },
        "outputId": "aa1c1dc3-d5e0-4879-c29a-a65d12604f0d"
      },
      "source": [
        "alpha, beta, iteration = GradientDescentRational(x, y, 0, 0, 0.001)\n",
        "print(alpha, beta, iteration)"
      ],
      "execution_count": 25,
      "outputs": [
        {
          "output_type": "stream",
          "text": [
            "0.673492679375012 -0.671692540770859 51\n"
          ],
          "name": "stdout"
        }
      ]
    },
    {
      "cell_type": "code",
      "metadata": {
        "id": "gF0ZnIMp7iDk",
        "colab_type": "code",
        "colab": {
          "base_uri": "https://localhost:8080/",
          "height": 282
        },
        "outputId": "3763f9f5-00d7-4cde-9837-732d27857dea"
      },
      "source": [
        "fig, ax = plt.subplots(1, 1)\n",
        "ax.plot(x, y, 'ob', label='data')\n",
        "ax.plot(x, rational_fun(x, alpha,beta), '-k', lw=2, label='GD')\n",
        "ax.legend()"
      ],
      "execution_count": 26,
      "outputs": [
        {
          "output_type": "execute_result",
          "data": {
            "text/plain": [
              "<matplotlib.legend.Legend at 0x7f8d86a8f668>"
            ]
          },
          "metadata": {
            "tags": []
          },
          "execution_count": 26
        },
        {
          "output_type": "display_data",
          "data": {
            "image/png": "[encoded data removed]",
            "text/plain": [
              "<Figure size 432x288 with 1 Axes>"
            ]
          },
          "metadata": {
            "tags": [],
            "needs_background": "light"
          }
        }
      ]
    }
  ]
}