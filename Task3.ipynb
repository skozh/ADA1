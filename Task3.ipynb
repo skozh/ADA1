{
  "nbformat": 4,
  "nbformat_minor": 0,
  "metadata": {
    "colab": {
      "name": "Task3.ipynb",
      "provenance": [],
      "collapsed_sections": [],
      "authorship_tag": "ABX9TyNtCKLZAR3domGn1CdIBjM4",
      "include_colab_link": true
    },
    "kernelspec": {
      "name": "python3",
      "display_name": "Python 3"
    }
  },
  "cells": [
    {
      "cell_type": "markdown",
      "metadata": {
        "id": "view-in-github",
        "colab_type": "text"
      },
      "source": [
        "<a href=\"https://colab.research.google.com/github/skozh/ADA1/blob/master/Task3.ipynb\" target=\"_parent\"><img src=\"https://colab.research.google.com/assets/colab-badge.svg\" alt=\"Open In Colab\"/></a>"
      ]
    },
    {
      "cell_type": "code",
      "metadata": {
        "id": "MUgFyBCbQV1M",
        "colab_type": "code",
        "colab": {}
      },
      "source": [
        "import numpy as np\n",
        "import matplotlib.pyplot as plt\n",
        "from scipy import optimize"
      ],
      "execution_count": 20,
      "outputs": []
    },
    {
      "cell_type": "markdown",
      "metadata": {
        "id": "_ClU-7sPxKBM",
        "colab_type": "text"
      },
      "source": [
        "## **Generate Noisy Data**"
      ]
    },
    {
      "cell_type": "code",
      "metadata": {
        "id": "-tR_Q3r4xgj-",
        "colab_type": "code",
        "colab": {}
      },
      "source": [
        "def linear_fun(x, alpha, beta):\n",
        "  return alpha*x+beta"
      ],
      "execution_count": 21,
      "outputs": []
    },
    {
      "cell_type": "code",
      "metadata": {
        "id": "hqOGGCEz57yV",
        "colab_type": "code",
        "colab": {}
      },
      "source": [
        "def rational_fun(x, alpha, beta):\n",
        "  return alpha/(1+beta*x)"
      ],
      "execution_count": 22,
      "outputs": []
    },
    {
      "cell_type": "code",
      "metadata": {
        "id": "kYvIGem5xucy",
        "colab_type": "code",
        "colab": {
          "base_uri": "https://localhost:8080/",
          "height": 34
        },
        "outputId": "236eedaf-2422-4d94-8424-c69411da98c7"
      },
      "source": [
        "alpha = np.random.rand()\n",
        "beta = np.random.rand()\n",
        "noise = np.random.normal(0,0.1,101)\n",
        "print(alpha, beta)"
      ],
      "execution_count": 23,
      "outputs": [
        {
          "output_type": "stream",
          "text": [
            "0.4949679208416494 0.2957356700355449\n"
          ],
          "name": "stdout"
        }
      ]
    },
    {
      "cell_type": "code",
      "metadata": {
        "id": "UO1Z8r0AxxPy",
        "colab_type": "code",
        "colab": {}
      },
      "source": [
        "k = [*range(0, 101, 1)]\n",
        "x = np.array([x/100 for x in k])\n",
        "y = alpha*x + beta + noise"
      ],
      "execution_count": 24,
      "outputs": []
    },
    {
      "cell_type": "code",
      "metadata": {
        "id": "zRRcVmOgnu6C",
        "colab_type": "code",
        "colab": {}
      },
      "source": [
        "def objective_linear(params):\n",
        "  alpha, beta = params\n",
        "  return np.sum(((alpha*x+beta)-y)**2)"
      ],
      "execution_count": 25,
      "outputs": []
    },
    {
      "cell_type": "code",
      "metadata": {
        "id": "CiwS0SwhH7ZD",
        "colab_type": "code",
        "colab": {}
      },
      "source": [
        "def objective_rational(params):\n",
        "  alpha, beta = params\n",
        "  return np.sum(((alpha/(1+x*beta))-y)**2)"
      ],
      "execution_count": 26,
      "outputs": []
    },
    {
      "cell_type": "markdown",
      "metadata": {
        "id": "NyGZsmV4FdAw",
        "colab_type": "text"
      },
      "source": [
        "**Conjugate Gradient Descent**"
      ]
    },
    {
      "cell_type": "markdown",
      "metadata": {
        "id": "lMIPMJZYIFyX",
        "colab_type": "text"
      },
      "source": [
        "Linear Approximant"
      ]
    },
    {
      "cell_type": "code",
      "metadata": {
        "id": "f3NZ4WrWppO1",
        "colab_type": "code",
        "colab": {
          "base_uri": "https://localhost:8080/",
          "height": 170
        },
        "outputId": "cfd38bc2-39f8-4e46-cd98-9c1db8bd0f40"
      },
      "source": [
        "initial = [0,0]\n",
        "result = optimize.minimize(fun=objective_linear, x0=initial,method='CG', tol=0.001) \n",
        "result"
      ],
      "execution_count": 27,
      "outputs": [
        {
          "output_type": "execute_result",
          "data": {
            "text/plain": [
              "     fun: 0.8383615605468537\n",
              "     jac: array([9.23871994e-07, 1.93715096e-06])\n",
              " message: 'Optimization terminated successfully.'\n",
              "    nfev: 20\n",
              "     nit: 2\n",
              "    njev: 5\n",
              "  status: 0\n",
              " success: True\n",
              "       x: array([0.47931563, 0.29657299])"
            ]
          },
          "metadata": {
            "tags": []
          },
          "execution_count": 27
        }
      ]
    },
    {
      "cell_type": "code",
      "metadata": {
        "id": "FK_Epoo16YZw",
        "colab_type": "code",
        "colab": {
          "base_uri": "https://localhost:8080/",
          "height": 282
        },
        "outputId": "42053597-7ae1-4d9f-f59e-29a8b506aca0"
      },
      "source": [
        "fig, ax = plt.subplots(1, 1)\n",
        "ax.plot(x, y, 'ob', label='data')\n",
        "ax.plot(x, linear_fun(x, result.x[0],result.x[1]), '-k', lw=2, label='CG')\n",
        "ax.legend()"
      ],
      "execution_count": 28,
      "outputs": [
        {
          "output_type": "execute_result",
          "data": {
            "text/plain": [
              "<matplotlib.legend.Legend at 0x7f5e9a9dda58>"
            ]
          },
          "metadata": {
            "tags": []
          },
          "execution_count": 28
        },
        {
          "output_type": "display_data",
          "data": {
            "image/png": "[encoded data removed]",
            "text/plain": [
              "<Figure size 432x288 with 1 Axes>"
            ]
          },
          "metadata": {
            "tags": [],
            "needs_background": "light"
          }
        }
      ]
    },
    {
      "cell_type": "markdown",
      "metadata": {
        "id": "pdRZ0bLSIOTK",
        "colab_type": "text"
      },
      "source": [
        "Rational Approximant\n",
        "\n"
      ]
    },
    {
      "cell_type": "code",
      "metadata": {
        "id": "erJ6AziwIRdd",
        "colab_type": "code",
        "colab": {
          "base_uri": "https://localhost:8080/",
          "height": 170
        },
        "outputId": "187e1206-a5be-4821-dfa1-e60416daba16"
      },
      "source": [
        "initial = [0,0]\n",
        "result = optimize.minimize(fun=objective_rational, x0=initial,method='CG', tol=0.001) \n",
        "result"
      ],
      "execution_count": 29,
      "outputs": [
        {
          "output_type": "execute_result",
          "data": {
            "text/plain": [
              "     fun: 0.9164754091282847\n",
              "     jac: array([-7.82385468e-05,  3.76328826e-05])\n",
              " message: 'Optimization terminated successfully.'\n",
              "    nfev: 92\n",
              "     nit: 10\n",
              "    njev: 23\n",
              "  status: 0\n",
              " success: True\n",
              "       x: array([ 0.36568611, -0.56183462])"
            ]
          },
          "metadata": {
            "tags": []
          },
          "execution_count": 29
        }
      ]
    },
    {
      "cell_type": "code",
      "metadata": {
        "id": "1jHcMn5aIUcb",
        "colab_type": "code",
        "colab": {
          "base_uri": "https://localhost:8080/",
          "height": 282
        },
        "outputId": "8d84e74b-9c13-4310-feb8-9cae03b030d9"
      },
      "source": [
        "fig, ax = plt.subplots(1, 1)\n",
        "ax.plot(x, y, 'ob', label='data')\n",
        "ax.plot(x, rational_fun(x, result.x[0],result.x[1]), '-k', lw=2, label='CG')\n",
        "ax.legend()"
      ],
      "execution_count": 30,
      "outputs": [
        {
          "output_type": "execute_result",
          "data": {
            "text/plain": [
              "<matplotlib.legend.Legend at 0x7f5e9a9570b8>"
            ]
          },
          "metadata": {
            "tags": []
          },
          "execution_count": 30
        },
        {
          "output_type": "display_data",
          "data": {
            "image/png": "[encoded data removed]",
            "text/plain": [
              "<Figure size 432x288 with 1 Axes>"
            ]
          },
          "metadata": {
            "tags": [],
            "needs_background": "light"
          }
        }
      ]
    },
    {
      "cell_type": "markdown",
      "metadata": {
        "id": "rzmmuZYwIiLf",
        "colab_type": "text"
      },
      "source": [
        "**Newton's Method**"
      ]
    },
    {
      "cell_type": "markdown",
      "metadata": {
        "id": "7UKef1S0I13E",
        "colab_type": "text"
      },
      "source": [
        "Linear Approximant"
      ]
    },
    {
      "cell_type": "code",
      "metadata": {
        "id": "Hm3b3k2KIdoA",
        "colab_type": "code",
        "colab": {
          "base_uri": "https://localhost:8080/",
          "height": 187
        },
        "outputId": "f0541b0a-9a38-4160-97e4-02b3f30fdc02"
      },
      "source": [
        "initial = [0,0]\n",
        "fprime = lambda x: optimize.approx_fprime(x, objective_linear, 0.001)\n",
        "result = optimize.minimize(fun=objective_linear, x0=initial,method='Newton-CG', tol=0.001, jac=fprime) \n",
        "result"
      ],
      "execution_count": 31,
      "outputs": [
        {
          "output_type": "execute_result",
          "data": {
            "text/plain": [
              "     fun: 0.8383948950887411\n",
              "     jac: array([-1.72241543e-06,  1.23109256e-06])\n",
              " message: 'Warning: Desired error not necessarily achieved due to precision loss.'\n",
              "    nfev: 18\n",
              "    nhev: 0\n",
              "     nit: 2\n",
              "    njev: 52\n",
              "  status: 2\n",
              " success: False\n",
              "       x: array([0.48028607, 0.29558778])"
            ]
          },
          "metadata": {
            "tags": []
          },
          "execution_count": 31
        }
      ]
    },
    {
      "cell_type": "code",
      "metadata": {
        "id": "JBikPEqYI7a_",
        "colab_type": "code",
        "colab": {
          "base_uri": "https://localhost:8080/",
          "height": 282
        },
        "outputId": "b6905e16-9c79-4412-d828-0689b912135f"
      },
      "source": [
        "fig, ax = plt.subplots(1, 1)\n",
        "ax.plot(x, y, 'ob', label='data')\n",
        "ax.plot(x, linear_fun(x, result.x[0],result.x[1]), '-k', lw=2, label='Newton-CG')\n",
        "ax.legend()"
      ],
      "execution_count": 32,
      "outputs": [
        {
          "output_type": "execute_result",
          "data": {
            "text/plain": [
              "<matplotlib.legend.Legend at 0x7f5e9a8ca6a0>"
            ]
          },
          "metadata": {
            "tags": []
          },
          "execution_count": 32
        },
        {
          "output_type": "display_data",
          "data": {
            "image/png": "[encoded data removed]",
            "text/plain": [
              "<Figure size 432x288 with 1 Axes>"
            ]
          },
          "metadata": {
            "tags": [],
            "needs_background": "light"
          }
        }
      ]
    },
    {
      "cell_type": "markdown",
      "metadata": {
        "id": "gjUuvpXWKEwM",
        "colab_type": "text"
      },
      "source": [
        "Rational Approximant"
      ]
    },
    {
      "cell_type": "code",
      "metadata": {
        "colab_type": "code",
        "id": "Jg0yUXw_KDfm",
        "colab": {
          "base_uri": "https://localhost:8080/",
          "height": 187
        },
        "outputId": "0de5fdc3-60fe-4f9f-d015-bd7bbddc6c21"
      },
      "source": [
        "initial = [0,0]\n",
        "fprime = lambda x: optimize.approx_fprime(x, objective_rational, 0.001)\n",
        "result = optimize.minimize(fun=objective_rational, x0=initial,method='Newton-CG', tol=0.001, jac=fprime) \n",
        "result"
      ],
      "execution_count": 33,
      "outputs": [
        {
          "output_type": "execute_result",
          "data": {
            "text/plain": [
              "     fun: 0.9184548260785581\n",
              "     jac: array([ 0.35749887, -0.35661649])\n",
              " message: 'Optimization terminated successfully.'\n",
              "    nfev: 14\n",
              "    nhev: 0\n",
              "     nit: 7\n",
              "    njev: 44\n",
              "  status: 0\n",
              " success: True\n",
              "       x: array([ 0.36029138, -0.57273498])"
            ]
          },
          "metadata": {
            "tags": []
          },
          "execution_count": 33
        }
      ]
    },
    {
      "cell_type": "code",
      "metadata": {
        "colab_type": "code",
        "id": "QbwiFi8mKDfx",
        "colab": {
          "base_uri": "https://localhost:8080/",
          "height": 282
        },
        "outputId": "fbdbb98a-13dd-4cab-b221-9a26335bf93a"
      },
      "source": [
        "fig, ax = plt.subplots(1, 1)\n",
        "ax.plot(x, y, 'ob', label='data')\n",
        "ax.plot(x, rational_fun(x, result.x[0],result.x[1]), '-k', lw=2, label='Newton-CG')\n",
        "ax.legend()"
      ],
      "execution_count": 34,
      "outputs": [
        {
          "output_type": "execute_result",
          "data": {
            "text/plain": [
              "<matplotlib.legend.Legend at 0x7f5e9ac37a58>"
            ]
          },
          "metadata": {
            "tags": []
          },
          "execution_count": 34
        },
        {
          "output_type": "display_data",
          "data": {
            "image/png": "[encoded data removed]",
            "text/plain": [
              "<Figure size 432x288 with 1 Axes>"
            ]
          },
          "metadata": {
            "tags": [],
            "needs_background": "light"
          }
        }
      ]
    },
    {
      "cell_type": "markdown",
      "metadata": {
        "id": "PGKfl464K3nl",
        "colab_type": "text"
      },
      "source": [
        "**Levenberg-Marquardt algorithm**"
      ]
    },
    {
      "cell_type": "markdown",
      "metadata": {
        "id": "4ywcTXibK6-m",
        "colab_type": "text"
      },
      "source": [
        "Linear Approximant"
      ]
    },
    {
      "cell_type": "code",
      "metadata": {
        "id": "jt_zPbL-IIbE",
        "colab_type": "code",
        "colab": {
          "base_uri": "https://localhost:8080/",
          "height": 34
        },
        "outputId": "e0ad17ad-37bf-447d-ee99-e2e043560ec5"
      },
      "source": [
        "result = optimize.curve_fit(linear_fun, x, y, method='lm')[0]\n",
        "result"
      ],
      "execution_count": 35,
      "outputs": [
        {
          "output_type": "execute_result",
          "data": {
            "text/plain": [
              "array([0.47931562, 0.296573  ])"
            ]
          },
          "metadata": {
            "tags": []
          },
          "execution_count": 35
        }
      ]
    },
    {
      "cell_type": "code",
      "metadata": {
        "id": "mXF7XCyXZG0l",
        "colab_type": "code",
        "colab": {
          "base_uri": "https://localhost:8080/",
          "height": 282
        },
        "outputId": "bc6ab6a0-73c0-425a-d3f8-454cf017bdcc"
      },
      "source": [
        "fig, ax = plt.subplots(1, 1)\n",
        "ax.plot(x, y, 'ob', label='data')\n",
        "ax.plot(x, linear_fun(x, result[0],result[1]), '-k', lw=2, label='LM')\n",
        "ax.legend()"
      ],
      "execution_count": 36,
      "outputs": [
        {
          "output_type": "execute_result",
          "data": {
            "text/plain": [
              "<matplotlib.legend.Legend at 0x7f5e9a91e128>"
            ]
          },
          "metadata": {
            "tags": []
          },
          "execution_count": 36
        },
        {
          "output_type": "display_data",
          "data": {
            "image/png": "[encoded data removed]",
            "text/plain": [
              "<Figure size 432x288 with 1 Axes>"
            ]
          },
          "metadata": {
            "tags": [],
            "needs_background": "light"
          }
        }
      ]
    },
    {
      "cell_type": "markdown",
      "metadata": {
        "id": "JbTVsrA7G60V",
        "colab_type": "text"
      },
      "source": [
        "Rational Approximant"
      ]
    },
    {
      "cell_type": "code",
      "metadata": {
        "id": "GLxv-ZT0HX5y",
        "colab_type": "code",
        "colab": {
          "base_uri": "https://localhost:8080/",
          "height": 34
        },
        "outputId": "77fcfe40-701d-4351-9f21-34a90ea2104b"
      },
      "source": [
        "result = optimize.curve_fit(rational_fun, x, y, method='lm')[0]\n",
        "result"
      ],
      "execution_count": 37,
      "outputs": [
        {
          "output_type": "execute_result",
          "data": {
            "text/plain": [
              "array([ 0.36568681, -0.56183338])"
            ]
          },
          "metadata": {
            "tags": []
          },
          "execution_count": 37
        }
      ]
    },
    {
      "cell_type": "code",
      "metadata": {
        "id": "V3B7sUYkZ4Jz",
        "colab_type": "code",
        "colab": {
          "base_uri": "https://localhost:8080/",
          "height": 282
        },
        "outputId": "63b468e5-7add-4b49-8cd8-f6cbdd9f71c8"
      },
      "source": [
        "fig, ax = plt.subplots(1, 1)\n",
        "ax.plot(x, y, 'ob', label='data')\n",
        "ax.plot(x, rational_fun(x, result[0],result[1]), '-k', lw=2, label='LM')\n",
        "ax.legend()"
      ],
      "execution_count": 38,
      "outputs": [
        {
          "output_type": "execute_result",
          "data": {
            "text/plain": [
              "<matplotlib.legend.Legend at 0x7f5e9a788710>"
            ]
          },
          "metadata": {
            "tags": []
          },
          "execution_count": 38
        },
        {
          "output_type": "display_data",
          "data": {
            "image/png": "[encoded data removed]",
            "text/plain": [
              "<Figure size 432x288 with 1 Axes>"
            ]
          },
          "metadata": {
            "tags": [],
            "needs_background": "light"
          }
        }
      ]
    }
  ]
}