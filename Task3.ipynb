{
  "nbformat": 4,
  "nbformat_minor": 0,
  "metadata": {
    "colab": {
      "name": "Task3.ipynb",
      "provenance": [],
      "collapsed_sections": [],
      "authorship_tag": "ABX9TyMMgpD2QHtDIr138H+3wfz5",
      "include_colab_link": true
    },
    "kernelspec": {
      "name": "python3",
      "display_name": "Python 3"
    }
  },
  "cells": [
    {
      "cell_type": "markdown",
      "metadata": {
        "id": "view-in-github",
        "colab_type": "text"
      },
      "source": [
        "<a href=\"https://colab.research.google.com/github/skozh/ADA1/blob/master/Task3.ipynb\" target=\"_parent\"><img src=\"https://colab.research.google.com/assets/colab-badge.svg\" alt=\"Open In Colab\"/></a>"
      ]
    },
    {
      "cell_type": "code",
      "metadata": {
        "id": "MUgFyBCbQV1M",
        "colab_type": "code",
        "colab": {}
      },
      "source": [
        "import numpy as np\n",
        "import matplotlib.pyplot as plt\n",
        "from scipy import optimize"
      ],
      "execution_count": 1,
      "outputs": []
    },
    {
      "cell_type": "markdown",
      "metadata": {
        "id": "_ClU-7sPxKBM",
        "colab_type": "text"
      },
      "source": [
        "## **Generate Noisy Data**"
      ]
    },
    {
      "cell_type": "code",
      "metadata": {
        "id": "-tR_Q3r4xgj-",
        "colab_type": "code",
        "colab": {}
      },
      "source": [
        "def linear_fun(x, alpha, beta):\n",
        "  return alpha*x+beta"
      ],
      "execution_count": 2,
      "outputs": []
    },
    {
      "cell_type": "code",
      "metadata": {
        "id": "hqOGGCEz57yV",
        "colab_type": "code",
        "colab": {}
      },
      "source": [
        "def rational_fun(x, alpha, beta):\n",
        "  return alpha/(1+beta*x)"
      ],
      "execution_count": 3,
      "outputs": []
    },
    {
      "cell_type": "code",
      "metadata": {
        "id": "kYvIGem5xucy",
        "colab_type": "code",
        "colab": {
          "base_uri": "https://localhost:8080/",
          "height": 34
        },
        "outputId": "73f2ea4e-b67a-4bf2-fad7-a0557d94a323"
      },
      "source": [
        "alpha = np.random.rand()\n",
        "beta = np.random.rand()\n",
        "noise = np.random.normal(0,1,101)\n",
        "print(alpha, beta)"
      ],
      "execution_count": 4,
      "outputs": [
        {
          "output_type": "stream",
          "text": [
            "0.8792196532600404 0.5118897718493863\n"
          ],
          "name": "stdout"
        }
      ]
    },
    {
      "cell_type": "code",
      "metadata": {
        "id": "UO1Z8r0AxxPy",
        "colab_type": "code",
        "colab": {}
      },
      "source": [
        "k = [*range(0, 101, 1)]\n",
        "x = np.array([x/100 for x in k])\n",
        "y = alpha*x + beta + noise"
      ],
      "execution_count": 5,
      "outputs": []
    },
    {
      "cell_type": "code",
      "metadata": {
        "id": "zRRcVmOgnu6C",
        "colab_type": "code",
        "colab": {}
      },
      "source": [
        "def objective_linear(params):\n",
        "  alpha, beta = params\n",
        "  return np.sum(((alpha*x+beta)-y)**2)"
      ],
      "execution_count": 6,
      "outputs": []
    },
    {
      "cell_type": "code",
      "metadata": {
        "id": "CiwS0SwhH7ZD",
        "colab_type": "code",
        "colab": {}
      },
      "source": [
        "def objective_rational(params):\n",
        "  alpha, beta = params\n",
        "  return np.sum(((alpha/(1+x*beta))-y)**2)"
      ],
      "execution_count": 7,
      "outputs": []
    },
    {
      "cell_type": "markdown",
      "metadata": {
        "id": "NyGZsmV4FdAw",
        "colab_type": "text"
      },
      "source": [
        "**Conjugate Gradient Descent**"
      ]
    },
    {
      "cell_type": "markdown",
      "metadata": {
        "id": "lMIPMJZYIFyX",
        "colab_type": "text"
      },
      "source": [
        "Linear Approximant"
      ]
    },
    {
      "cell_type": "code",
      "metadata": {
        "id": "f3NZ4WrWppO1",
        "colab_type": "code",
        "colab": {
          "base_uri": "https://localhost:8080/",
          "height": 170
        },
        "outputId": "a103ffdf-49c1-4490-f93c-77a9625508ce"
      },
      "source": [
        "initial = [0,0]\n",
        "result = optimize.minimize(fun=objective_linear, x0=initial,method='CG', tol=0.001) \n",
        "result"
      ],
      "execution_count": 8,
      "outputs": [
        {
          "output_type": "execute_result",
          "data": {
            "text/plain": [
              "     fun: 106.74727329122781\n",
              "     jac: array([1.90734863e-06, 2.86102295e-06])\n",
              " message: 'Optimization terminated successfully.'\n",
              "    nfev: 24\n",
              "     nit: 2\n",
              "    njev: 6\n",
              "  status: 0\n",
              " success: True\n",
              "       x: array([0.91324693, 0.45188122])"
            ]
          },
          "metadata": {
            "tags": []
          },
          "execution_count": 8
        }
      ]
    },
    {
      "cell_type": "code",
      "metadata": {
        "id": "FK_Epoo16YZw",
        "colab_type": "code",
        "colab": {
          "base_uri": "https://localhost:8080/",
          "height": 282
        },
        "outputId": "d82d7050-0b27-40b6-fd0d-28e1c245de98"
      },
      "source": [
        "fig, ax = plt.subplots(1, 1)\n",
        "ax.plot(x, y, 'ob', label='data')\n",
        "ax.plot(x, linear_fun(x, result.x[0],result.x[1]), '-k', lw=2, label='CG')\n",
        "ax.legend()"
      ],
      "execution_count": 9,
      "outputs": [
        {
          "output_type": "execute_result",
          "data": {
            "text/plain": [
              "<matplotlib.legend.Legend at 0x7fd0889b0c88>"
            ]
          },
          "metadata": {
            "tags": []
          },
          "execution_count": 9
        },
        {
          "output_type": "display_data",
          "data": {
            "image/png": "[encoded data removed]",
            "text/plain": [
              "<Figure size 432x288 with 1 Axes>"
            ]
          },
          "metadata": {
            "tags": [],
            "needs_background": "light"
          }
        }
      ]
    },
    {
      "cell_type": "markdown",
      "metadata": {
        "id": "pdRZ0bLSIOTK",
        "colab_type": "text"
      },
      "source": [
        "Rational Approximant\n",
        "\n"
      ]
    },
    {
      "cell_type": "code",
      "metadata": {
        "id": "erJ6AziwIRdd",
        "colab_type": "code",
        "colab": {
          "base_uri": "https://localhost:8080/",
          "height": 170
        },
        "outputId": "1aae5f13-7bd7-4e46-b894-64d1808550b2"
      },
      "source": [
        "initial = [0,0]\n",
        "result = optimize.minimize(fun=objective_rational, x0=initial,method='CG', tol=0.001) \n",
        "result"
      ],
      "execution_count": 10,
      "outputs": [
        {
          "output_type": "execute_result",
          "data": {
            "text/plain": [
              "     fun: 105.89011486811546\n",
              "     jac: array([ 0.00057697, -0.00054359])\n",
              " message: 'Optimization terminated successfully.'\n",
              "    nfev: 96\n",
              "     nit: 8\n",
              "    njev: 24\n",
              "  status: 0\n",
              " success: True\n",
              "       x: array([ 0.56544322, -0.64454574])"
            ]
          },
          "metadata": {
            "tags": []
          },
          "execution_count": 10
        }
      ]
    },
    {
      "cell_type": "code",
      "metadata": {
        "id": "1jHcMn5aIUcb",
        "colab_type": "code",
        "colab": {
          "base_uri": "https://localhost:8080/",
          "height": 282
        },
        "outputId": "d0f37e85-afd0-4656-dcf5-191c4c1b36e1"
      },
      "source": [
        "fig, ax = plt.subplots(1, 1)\n",
        "ax.plot(x, y, 'ob', label='data')\n",
        "ax.plot(x, rational_fun(x, result.x[0],result.x[1]), '-k', lw=2, label='CG')\n",
        "ax.legend()"
      ],
      "execution_count": 11,
      "outputs": [
        {
          "output_type": "execute_result",
          "data": {
            "text/plain": [
              "<matplotlib.legend.Legend at 0x7fd08849a5f8>"
            ]
          },
          "metadata": {
            "tags": []
          },
          "execution_count": 11
        },
        {
          "output_type": "display_data",
          "data": {
            "image/png": "[encoded data removed]",
            "text/plain": [
              "<Figure size 432x288 with 1 Axes>"
            ]
          },
          "metadata": {
            "tags": [],
            "needs_background": "light"
          }
        }
      ]
    },
    {
      "cell_type": "markdown",
      "metadata": {
        "id": "rzmmuZYwIiLf",
        "colab_type": "text"
      },
      "source": [
        "**Newton's Method**"
      ]
    },
    {
      "cell_type": "markdown",
      "metadata": {
        "id": "7UKef1S0I13E",
        "colab_type": "text"
      },
      "source": [
        "Linear Approximant"
      ]
    },
    {
      "cell_type": "code",
      "metadata": {
        "id": "Hm3b3k2KIdoA",
        "colab_type": "code",
        "colab": {
          "base_uri": "https://localhost:8080/",
          "height": 187
        },
        "outputId": "2ed33737-e43b-401b-bd65-9e46f087dfd9"
      },
      "source": [
        "initial = [0,0]\n",
        "fprime = lambda x: optimize.approx_fprime(x, objective_linear, 0.001)\n",
        "result = optimize.minimize(fun=objective_linear, x0=initial,method='Newton-CG', tol=0.001, jac=fprime) \n",
        "result"
      ],
      "execution_count": 12,
      "outputs": [
        {
          "output_type": "execute_result",
          "data": {
            "text/plain": [
              "     fun: 106.74730640214057\n",
              "     jac: array([-2.03414544e-04,  3.09344301e-05])\n",
              " message: 'Warning: Desired error not necessarily achieved due to precision loss.'\n",
              "    nfev: 84\n",
              "    nhev: 0\n",
              "     nit: 2\n",
              "    njev: 88\n",
              "  status: 2\n",
              " success: False\n",
              "       x: array([0.91420477, 0.45090246])"
            ]
          },
          "metadata": {
            "tags": []
          },
          "execution_count": 12
        }
      ]
    },
    {
      "cell_type": "code",
      "metadata": {
        "id": "JBikPEqYI7a_",
        "colab_type": "code",
        "colab": {
          "base_uri": "https://localhost:8080/",
          "height": 282
        },
        "outputId": "2068d196-e470-4399-bdb2-557d11957f75"
      },
      "source": [
        "fig, ax = plt.subplots(1, 1)\n",
        "ax.plot(x, y, 'ob', label='data')\n",
        "ax.plot(x, linear_fun(x, result.x[0],result.x[1]), '-k', lw=2, label='Newton-CG')\n",
        "ax.legend()"
      ],
      "execution_count": 13,
      "outputs": [
        {
          "output_type": "execute_result",
          "data": {
            "text/plain": [
              "<matplotlib.legend.Legend at 0x7fd088416240>"
            ]
          },
          "metadata": {
            "tags": []
          },
          "execution_count": 13
        },
        {
          "output_type": "display_data",
          "data": {
            "image/png": "[encoded data removed]",
            "text/plain": [
              "<Figure size 432x288 with 1 Axes>"
            ]
          },
          "metadata": {
            "tags": [],
            "needs_background": "light"
          }
        }
      ]
    },
    {
      "cell_type": "markdown",
      "metadata": {
        "id": "gjUuvpXWKEwM",
        "colab_type": "text"
      },
      "source": [
        "Rational Approximant"
      ]
    },
    {
      "cell_type": "code",
      "metadata": {
        "colab_type": "code",
        "id": "Jg0yUXw_KDfm",
        "colab": {
          "base_uri": "https://localhost:8080/",
          "height": 187
        },
        "outputId": "76248975-0b33-4fde-989a-9f1796bf4ba5"
      },
      "source": [
        "initial = [0,0]\n",
        "fprime = lambda x: optimize.approx_fprime(x, objective_rational, 0.001)\n",
        "result = optimize.minimize(fun=objective_rational, x0=initial,method='Newton-CG', tol=0.001, jac=fprime) \n",
        "result"
      ],
      "execution_count": 14,
      "outputs": [
        {
          "output_type": "execute_result",
          "data": {
            "text/plain": [
              "     fun: 105.89260209293532\n",
              "     jac: array([ 0.22941822, -0.56074293])\n",
              " message: 'Optimization terminated successfully.'\n",
              "    nfev: 10\n",
              "    nhev: 0\n",
              "     nit: 7\n",
              "    njev: 42\n",
              "  status: 0\n",
              " success: True\n",
              "       x: array([ 0.5598442 , -0.65034648])"
            ]
          },
          "metadata": {
            "tags": []
          },
          "execution_count": 14
        }
      ]
    },
    {
      "cell_type": "code",
      "metadata": {
        "colab_type": "code",
        "id": "QbwiFi8mKDfx",
        "colab": {
          "base_uri": "https://localhost:8080/",
          "height": 282
        },
        "outputId": "1ed4479f-3940-4d4d-b603-dcb0d6a6e319"
      },
      "source": [
        "fig, ax = plt.subplots(1, 1)\n",
        "ax.plot(x, y, 'ob', label='data')\n",
        "ax.plot(x, rational_fun(x, result.x[0],result.x[1]), '-k', lw=2, label='Newton-CG')\n",
        "ax.legend()"
      ],
      "execution_count": 15,
      "outputs": [
        {
          "output_type": "execute_result",
          "data": {
            "text/plain": [
              "<matplotlib.legend.Legend at 0x7fd0883809b0>"
            ]
          },
          "metadata": {
            "tags": []
          },
          "execution_count": 15
        },
        {
          "output_type": "display_data",
          "data": {
            "image/png": "[encoded data removed]",
            "text/plain": [
              "<Figure size 432x288 with 1 Axes>"
            ]
          },
          "metadata": {
            "tags": [],
            "needs_background": "light"
          }
        }
      ]
    },
    {
      "cell_type": "markdown",
      "metadata": {
        "id": "PGKfl464K3nl",
        "colab_type": "text"
      },
      "source": [
        "**Levenberg-Marquardt algorithm**"
      ]
    },
    {
      "cell_type": "markdown",
      "metadata": {
        "id": "4ywcTXibK6-m",
        "colab_type": "text"
      },
      "source": [
        "Linear Approximant"
      ]
    },
    {
      "cell_type": "code",
      "metadata": {
        "id": "jt_zPbL-IIbE",
        "colab_type": "code",
        "colab": {
          "base_uri": "https://localhost:8080/",
          "height": 34
        },
        "outputId": "34f2fbf1-5879-47ff-aae5-8137df4e1cd8"
      },
      "source": [
        "result = optimize.curve_fit(linear_fun, x, y, method='lm')[0]\n",
        "result"
      ],
      "execution_count": 16,
      "outputs": [
        {
          "output_type": "execute_result",
          "data": {
            "text/plain": [
              "array([0.91324692, 0.45188123])"
            ]
          },
          "metadata": {
            "tags": []
          },
          "execution_count": 16
        }
      ]
    },
    {
      "cell_type": "code",
      "metadata": {
        "id": "mXF7XCyXZG0l",
        "colab_type": "code",
        "colab": {
          "base_uri": "https://localhost:8080/",
          "height": 282
        },
        "outputId": "0d9f3256-d783-405c-b51f-d84c03fbc47e"
      },
      "source": [
        "fig, ax = plt.subplots(1, 1)\n",
        "ax.plot(x, y, 'ob', label='data')\n",
        "ax.plot(x, linear_fun(x, result[0],result[1]), '-k', lw=2, label='LM')\n",
        "ax.legend()"
      ],
      "execution_count": 17,
      "outputs": [
        {
          "output_type": "execute_result",
          "data": {
            "text/plain": [
              "<matplotlib.legend.Legend at 0x7fd0882ff160>"
            ]
          },
          "metadata": {
            "tags": []
          },
          "execution_count": 17
        },
        {
          "output_type": "display_data",
          "data": {
            "image/png": "[encoded data removed]",
            "text/plain": [
              "<Figure size 432x288 with 1 Axes>"
            ]
          },
          "metadata": {
            "tags": [],
            "needs_background": "light"
          }
        }
      ]
    },
    {
      "cell_type": "markdown",
      "metadata": {
        "id": "JbTVsrA7G60V",
        "colab_type": "text"
      },
      "source": [
        "Rational Approximant"
      ]
    },
    {
      "cell_type": "code",
      "metadata": {
        "id": "GLxv-ZT0HX5y",
        "colab_type": "code",
        "colab": {
          "base_uri": "https://localhost:8080/",
          "height": 34
        },
        "outputId": "5051381e-d865-4500-e110-1479a2ba29fd"
      },
      "source": [
        "result = optimize.curve_fit(rational_fun, x, y, method='lm')[0]\n",
        "result"
      ],
      "execution_count": 18,
      "outputs": [
        {
          "output_type": "execute_result",
          "data": {
            "text/plain": [
              "array([ 0.56544416, -0.64454332])"
            ]
          },
          "metadata": {
            "tags": []
          },
          "execution_count": 18
        }
      ]
    },
    {
      "cell_type": "code",
      "metadata": {
        "id": "V3B7sUYkZ4Jz",
        "colab_type": "code",
        "colab": {
          "base_uri": "https://localhost:8080/",
          "height": 282
        },
        "outputId": "fb14b61c-cb4b-427b-fe89-4b03c1579a19"
      },
      "source": [
        "fig, ax = plt.subplots(1, 1)\n",
        "ax.plot(x, y, 'ob', label='data')\n",
        "ax.plot(x, rational_fun(x, result[0],result[1]), '-k', lw=2, label='LM')\n",
        "ax.legend()"
      ],
      "execution_count": 19,
      "outputs": [
        {
          "output_type": "execute_result",
          "data": {
            "text/plain": [
              "<matplotlib.legend.Legend at 0x7fd0882e48d0>"
            ]
          },
          "metadata": {
            "tags": []
          },
          "execution_count": 19
        },
        {
          "output_type": "display_data",
          "data": {
            "image/png": "[encoded data removed]",
            "text/plain": [
              "<Figure size 432x288 with 1 Axes>"
            ]
          },
          "metadata": {
            "tags": [],
            "needs_background": "light"
          }
        }
      ]
    },
    {
      "cell_type": "markdown",
      "metadata": {
        "id": "Wq7m2AZAnYfq",
        "colab_type": "text"
      },
      "source": [
        "**Gradient Descent**"
      ]
    },
    {
      "cell_type": "markdown",
      "metadata": {
        "id": "gYOg2AmD5AzY",
        "colab_type": "text"
      },
      "source": [
        "Linear Approximant"
      ]
    },
    {
      "cell_type": "code",
      "metadata": {
        "id": "EiPC4Bu4nXhD",
        "colab_type": "code",
        "colab": {}
      },
      "source": [
        "def GradientDescentLinear(x, y, alpha, beta, lr, tol=0.001):\n",
        "  for i in range(100):\n",
        "    der_alpha = np.sum(2*x*(alpha*x+beta-y))\n",
        "    der_beta = np.sum(2*(alpha*x+beta-y))\n",
        "    alpha = alpha - lr*der_alpha\n",
        "    beta = beta - lr*der_beta\n",
        "    if np.abs(lr*der_alpha) < tol and np.abs(lr*der_beta) < tol:\n",
        "      return alpha, beta, i\n",
        "  return alpha, beta, i"
      ],
      "execution_count": 20,
      "outputs": []
    },
    {
      "cell_type": "code",
      "metadata": {
        "id": "FEr6G0d_vGqj",
        "colab_type": "code",
        "colab": {
          "base_uri": "https://localhost:8080/",
          "height": 34
        },
        "outputId": "18f3a949-b7ce-4a62-c3ea-a7fd3bc75f46"
      },
      "source": [
        "alpha, beta, iteration = GradientDescentLinear(x, y, 0, 0, 0.001)\n",
        "print(alpha, beta)"
      ],
      "execution_count": 21,
      "outputs": [
        {
          "output_type": "stream",
          "text": [
            "0.7798937728017076 0.5233487464322447\n"
          ],
          "name": "stdout"
        }
      ]
    },
    {
      "cell_type": "code",
      "metadata": {
        "id": "WLyGMpWmvLj7",
        "colab_type": "code",
        "colab": {
          "base_uri": "https://localhost:8080/",
          "height": 282
        },
        "outputId": "b2f5f186-d66f-4e75-97f8-e86f2e3024c8"
      },
      "source": [
        "fig, ax = plt.subplots(1, 1)\n",
        "ax.plot(x, y, 'ob', label='data')\n",
        "ax.plot(x, linear_fun(x, alpha,beta), '-k', lw=2, label='GD')\n",
        "ax.legend()"
      ],
      "execution_count": 22,
      "outputs": [
        {
          "output_type": "execute_result",
          "data": {
            "text/plain": [
              "<matplotlib.legend.Legend at 0x7fd088257f28>"
            ]
          },
          "metadata": {
            "tags": []
          },
          "execution_count": 22
        },
        {
          "output_type": "display_data",
          "data": {
            "image/png": "[encoded data removed]",
            "text/plain": [
              "<Figure size 432x288 with 1 Axes>"
            ]
          },
          "metadata": {
            "tags": [],
            "needs_background": "light"
          }
        }
      ]
    },
    {
      "cell_type": "markdown",
      "metadata": {
        "id": "MrEznpRZ5E0k",
        "colab_type": "text"
      },
      "source": [
        "Rational Approximant"
      ]
    },
    {
      "cell_type": "code",
      "metadata": {
        "id": "6WIgoLIX46h-",
        "colab_type": "code",
        "colab": {}
      },
      "source": [
        "def GradientDescentRational(x, y, alpha, beta, lr, tol=0.001):\n",
        "  for i in range(100):\n",
        "    t = (1 + beta*x)\n",
        "    der_alpha = np.sum(2*((alpha/t) - y)/t)\n",
        "    der_beta = np.sum(2*alpha*x*(t*y - alpha)/(t**3))\n",
        "    alpha = alpha - lr*der_alpha\n",
        "    beta = beta - lr*der_beta\n",
        "    if np.abs(lr*der_alpha) < tol and np.abs(lr*der_beta) < tol:\n",
        "      return alpha, beta, i\n",
        "  return alpha, beta, i"
      ],
      "execution_count": 23,
      "outputs": []
    },
    {
      "cell_type": "code",
      "metadata": {
        "id": "mrVagnNK7dlc",
        "colab_type": "code",
        "colab": {
          "base_uri": "https://localhost:8080/",
          "height": 34
        },
        "outputId": "bee958ba-4749-4e30-8570-05ba66a1bc4a"
      },
      "source": [
        "alpha, beta, iteration = GradientDescentRational(x, y, 0, 0, 0.001)\n",
        "print(alpha, beta, iteration)"
      ],
      "execution_count": 24,
      "outputs": [
        {
          "output_type": "stream",
          "text": [
            "0.5767938857630593 -0.6321366650979512 70\n"
          ],
          "name": "stdout"
        }
      ]
    },
    {
      "cell_type": "code",
      "metadata": {
        "id": "gF0ZnIMp7iDk",
        "colab_type": "code",
        "colab": {
          "base_uri": "https://localhost:8080/",
          "height": 282
        },
        "outputId": "4425b6df-af4e-4a90-ae5a-a820190c8b30"
      },
      "source": [
        "fig, ax = plt.subplots(1, 1)\n",
        "ax.plot(x, y, 'ob', label='data')\n",
        "ax.plot(x, rational_fun(x, alpha,beta), '-k', lw=2, label='GD')\n",
        "ax.legend()"
      ],
      "execution_count": 25,
      "outputs": [
        {
          "output_type": "execute_result",
          "data": {
            "text/plain": [
              "<matplotlib.legend.Legend at 0x7fd0881cd710>"
            ]
          },
          "metadata": {
            "tags": []
          },
          "execution_count": 25
        },
        {
          "output_type": "display_data",
          "data": {
            "image/png": "[encoded data removed]",
            "text/plain": [
              "<Figure size 432x288 with 1 Axes>"
            ]
          },
          "metadata": {
            "tags": [],
            "needs_background": "light"
          }
        }
      ]
    }
  ]
}