{
  "nbformat": 4,
  "nbformat_minor": 0,
  "metadata": {
    "colab": {
      "name": "Task3.ipynb",
      "provenance": [],
      "collapsed_sections": [],
      "authorship_tag": "ABX9TyOfxNtjjgPczjxqp3/+2Lhd",
      "include_colab_link": true
    },
    "kernelspec": {
      "name": "python3",
      "display_name": "Python 3"
    }
  },
  "cells": [
    {
      "cell_type": "markdown",
      "metadata": {
        "id": "view-in-github",
        "colab_type": "text"
      },
      "source": [
        "<a href=\"https://colab.research.google.com/github/skozh/ADA1/blob/master/Task3.ipynb\" target=\"_parent\"><img src=\"https://colab.research.google.com/assets/colab-badge.svg\" alt=\"Open In Colab\"/></a>"
      ]
    },
    {
      "cell_type": "code",
      "metadata": {
        "id": "MUgFyBCbQV1M",
        "colab_type": "code",
        "colab": {}
      },
      "source": [
        "import numpy as np\n",
        "import matplotlib.pyplot as plt\n",
        "from scipy import optimize"
      ],
      "execution_count": 1,
      "outputs": []
    },
    {
      "cell_type": "markdown",
      "metadata": {
        "id": "_ClU-7sPxKBM",
        "colab_type": "text"
      },
      "source": [
        "## **Generate Noisy Data**"
      ]
    },
    {
      "cell_type": "code",
      "metadata": {
        "id": "-tR_Q3r4xgj-",
        "colab_type": "code",
        "colab": {}
      },
      "source": [
        "def linear_fun(x, alpha, beta):\n",
        "  return alpha*x+beta"
      ],
      "execution_count": 2,
      "outputs": []
    },
    {
      "cell_type": "code",
      "metadata": {
        "id": "hqOGGCEz57yV",
        "colab_type": "code",
        "colab": {}
      },
      "source": [
        "def rational_fun(x, alpha, beta):\n",
        "  return alpha/(1+beta*x)"
      ],
      "execution_count": 3,
      "outputs": []
    },
    {
      "cell_type": "code",
      "metadata": {
        "id": "kYvIGem5xucy",
        "colab_type": "code",
        "colab": {
          "base_uri": "https://localhost:8080/",
          "height": 34
        },
        "outputId": "eb08d54c-b2bb-42aa-db35-3a77c8961ada"
      },
      "source": [
        "alpha = np.random.rand()\n",
        "beta = np.random.rand()\n",
        "noise = np.random.normal(0,0.1,101)\n",
        "print(alpha, beta)"
      ],
      "execution_count": 4,
      "outputs": [
        {
          "output_type": "stream",
          "text": [
            "0.9681079805424251 0.8008893268575759\n"
          ],
          "name": "stdout"
        }
      ]
    },
    {
      "cell_type": "code",
      "metadata": {
        "id": "UO1Z8r0AxxPy",
        "colab_type": "code",
        "colab": {}
      },
      "source": [
        "k = [*range(0, 101, 1)]\n",
        "x = np.array([x/100 for x in k])\n",
        "y = alpha*x + beta + noise"
      ],
      "execution_count": 5,
      "outputs": []
    },
    {
      "cell_type": "code",
      "metadata": {
        "id": "zRRcVmOgnu6C",
        "colab_type": "code",
        "colab": {}
      },
      "source": [
        "def objective_linear(params):\n",
        "  alpha, beta = params\n",
        "  return np.sum(((alpha*x+beta)-y)**2)"
      ],
      "execution_count": 6,
      "outputs": []
    },
    {
      "cell_type": "code",
      "metadata": {
        "id": "CiwS0SwhH7ZD",
        "colab_type": "code",
        "colab": {}
      },
      "source": [
        "def objective_rational(params):\n",
        "  alpha, beta = params\n",
        "  return np.sum(((alpha/(1+x*beta))-y)**2)"
      ],
      "execution_count": 7,
      "outputs": []
    },
    {
      "cell_type": "markdown",
      "metadata": {
        "id": "NyGZsmV4FdAw",
        "colab_type": "text"
      },
      "source": [
        "**Conjugate Gradient Descent**"
      ]
    },
    {
      "cell_type": "markdown",
      "metadata": {
        "id": "lMIPMJZYIFyX",
        "colab_type": "text"
      },
      "source": [
        "Linear Approximant"
      ]
    },
    {
      "cell_type": "code",
      "metadata": {
        "id": "f3NZ4WrWppO1",
        "colab_type": "code",
        "colab": {
          "base_uri": "https://localhost:8080/",
          "height": 170
        },
        "outputId": "1e4b31c8-01a9-4758-f0fe-f934938917cf"
      },
      "source": [
        "initial = [0,0]\n",
        "result = optimize.minimize(fun=objective_linear, x0=initial,method='CG', tol=0.001) \n",
        "result"
      ],
      "execution_count": 8,
      "outputs": [
        {
          "output_type": "execute_result",
          "data": {
            "text/plain": [
              "     fun: 0.9889747153995152\n",
              "     jac: array([-2.60770321e-07,  3.12924385e-07])\n",
              " message: 'Optimization terminated successfully.'\n",
              "    nfev: 24\n",
              "     nit: 3\n",
              "    njev: 6\n",
              "  status: 0\n",
              " success: True\n",
              "       x: array([0.99750515, 0.79986556])"
            ]
          },
          "metadata": {
            "tags": []
          },
          "execution_count": 8
        }
      ]
    },
    {
      "cell_type": "code",
      "metadata": {
        "id": "FK_Epoo16YZw",
        "colab_type": "code",
        "colab": {
          "base_uri": "https://localhost:8080/",
          "height": 285
        },
        "outputId": "ca16ffe0-726f-42b1-b650-7bb322e49f3c"
      },
      "source": [
        "fig, ax = plt.subplots(1, 1)\n",
        "ax.plot(x, y, 'ob', label='data')\n",
        "ax.plot(x, linear_fun(x, result.x[0],result.x[1]), '-k', lw=2, label='CG')\n",
        "ax.legend()"
      ],
      "execution_count": 9,
      "outputs": [
        {
          "output_type": "execute_result",
          "data": {
            "text/plain": [
              "<matplotlib.legend.Legend at 0x7f9babbf2cf8>"
            ]
          },
          "metadata": {
            "tags": []
          },
          "execution_count": 9
        },
        {
          "output_type": "display_data",
          "data": {
            "image/png": "[encoded data removed]",
            "text/plain": [
              "<Figure size 432x288 with 1 Axes>"
            ]
          },
          "metadata": {
            "tags": [],
            "needs_background": "light"
          }
        }
      ]
    },
    {
      "cell_type": "markdown",
      "metadata": {
        "id": "pdRZ0bLSIOTK",
        "colab_type": "text"
      },
      "source": [
        "Rational Approximant\n",
        "\n"
      ]
    },
    {
      "cell_type": "code",
      "metadata": {
        "id": "erJ6AziwIRdd",
        "colab_type": "code",
        "colab": {
          "base_uri": "https://localhost:8080/",
          "height": 170
        },
        "outputId": "05c7f005-73d4-4b9c-b0ec-ae0cdf470efc"
      },
      "source": [
        "initial = [0,0]\n",
        "result = optimize.minimize(fun=objective_rational, x0=initial,method='CG', tol=0.001) \n",
        "result"
      ],
      "execution_count": 10,
      "outputs": [
        {
          "output_type": "execute_result",
          "data": {
            "text/plain": [
              "     fun: 1.3929830485941523\n",
              "     jac: array([-2.68101692e-04,  8.36551189e-05])\n",
              " message: 'Optimization terminated successfully.'\n",
              "    nfev: 92\n",
              "     nit: 10\n",
              "    njev: 23\n",
              "  status: 0\n",
              " success: True\n",
              "       x: array([ 0.92947792, -0.50977282])"
            ]
          },
          "metadata": {
            "tags": []
          },
          "execution_count": 10
        }
      ]
    },
    {
      "cell_type": "code",
      "metadata": {
        "id": "1jHcMn5aIUcb",
        "colab_type": "code",
        "colab": {
          "base_uri": "https://localhost:8080/",
          "height": 285
        },
        "outputId": "34053123-f405-4958-ee65-5a4cf53c7c33"
      },
      "source": [
        "fig, ax = plt.subplots(1, 1)\n",
        "ax.plot(x, y, 'ob', label='data')\n",
        "ax.plot(x, rational_fun(x, result.x[0],result.x[1]), '-k', lw=2, label='CG')\n",
        "ax.legend()"
      ],
      "execution_count": 11,
      "outputs": [
        {
          "output_type": "execute_result",
          "data": {
            "text/plain": [
              "<matplotlib.legend.Legend at 0x7f9bab6e05f8>"
            ]
          },
          "metadata": {
            "tags": []
          },
          "execution_count": 11
        },
        {
          "output_type": "display_data",
          "data": {
            "image/png": "[encoded data removed]",
            "text/plain": [
              "<Figure size 432x288 with 1 Axes>"
            ]
          },
          "metadata": {
            "tags": [],
            "needs_background": "light"
          }
        }
      ]
    },
    {
      "cell_type": "markdown",
      "metadata": {
        "id": "rzmmuZYwIiLf",
        "colab_type": "text"
      },
      "source": [
        "**Newton's Method**"
      ]
    },
    {
      "cell_type": "markdown",
      "metadata": {
        "id": "7UKef1S0I13E",
        "colab_type": "text"
      },
      "source": [
        "Linear Approximant"
      ]
    },
    {
      "cell_type": "code",
      "metadata": {
        "id": "Hm3b3k2KIdoA",
        "colab_type": "code",
        "colab": {
          "base_uri": "https://localhost:8080/",
          "height": 187
        },
        "outputId": "45bb65f7-a3d5-463d-8bc7-7958418b4c50"
      },
      "source": [
        "initial = [0,0]\n",
        "fprime = lambda x: optimize.approx_fprime(x, objective_linear, 0.001)\n",
        "result = optimize.minimize(fun=objective_linear, x0=initial,method='Newton-CG', tol=0.001, jac=fprime) \n",
        "result"
      ],
      "execution_count": 12,
      "outputs": [
        {
          "output_type": "execute_result",
          "data": {
            "text/plain": [
              "     fun: 0.9890080525455668\n",
              "     jac: array([4.32284808e-06, 3.13108717e-06])\n",
              " message: 'Optimization terminated successfully.'\n",
              "    nfev: 6\n",
              "    nhev: 0\n",
              "     nit: 5\n",
              "    njev: 28\n",
              "  status: 0\n",
              " success: True\n",
              "       x: array([0.99847576, 0.79888027])"
            ]
          },
          "metadata": {
            "tags": []
          },
          "execution_count": 12
        }
      ]
    },
    {
      "cell_type": "code",
      "metadata": {
        "id": "JBikPEqYI7a_",
        "colab_type": "code",
        "colab": {
          "base_uri": "https://localhost:8080/",
          "height": 285
        },
        "outputId": "15c8325c-cd79-4500-83e0-85fd7edd5cc1"
      },
      "source": [
        "fig, ax = plt.subplots(1, 1)\n",
        "ax.plot(x, y, 'ob', label='data')\n",
        "ax.plot(x, linear_fun(x, result.x[0],result.x[1]), '-k', lw=2, label='Newton-CG')\n",
        "ax.legend()"
      ],
      "execution_count": 13,
      "outputs": [
        {
          "output_type": "execute_result",
          "data": {
            "text/plain": [
              "<matplotlib.legend.Legend at 0x7f9bab65afd0>"
            ]
          },
          "metadata": {
            "tags": []
          },
          "execution_count": 13
        },
        {
          "output_type": "display_data",
          "data": {
            "image/png": "[encoded data removed]",
            "text/plain": [
              "<Figure size 432x288 with 1 Axes>"
            ]
          },
          "metadata": {
            "tags": [],
            "needs_background": "light"
          }
        }
      ]
    },
    {
      "cell_type": "markdown",
      "metadata": {
        "id": "gjUuvpXWKEwM",
        "colab_type": "text"
      },
      "source": [
        "Rational Approximant"
      ]
    },
    {
      "cell_type": "code",
      "metadata": {
        "colab_type": "code",
        "id": "Jg0yUXw_KDfm",
        "colab": {
          "base_uri": "https://localhost:8080/",
          "height": 187
        },
        "outputId": "48cd1777-85ae-4417-8719-98d798e2a120"
      },
      "source": [
        "initial = [0,0]\n",
        "fprime = lambda x: optimize.approx_fprime(x, objective_rational, 0.001)\n",
        "result = optimize.minimize(fun=objective_rational, x0=initial,method='Newton-CG', tol=0.001, jac=fprime) \n",
        "result"
      ],
      "execution_count": 14,
      "outputs": [
        {
          "output_type": "execute_result",
          "data": {
            "text/plain": [
              "     fun: 1.3929893801615667\n",
              "     jac: array([0.16254869, 0.33064008])\n",
              " message: 'Warning: Desired error not necessarily achieved due to precision loss.'\n",
              "    nfev: 66\n",
              "    nhev: 0\n",
              "     nit: 7\n",
              "    njev: 90\n",
              "  status: 2\n",
              " success: False\n",
              "       x: array([ 0.92960448, -0.50952966])"
            ]
          },
          "metadata": {
            "tags": []
          },
          "execution_count": 14
        }
      ]
    },
    {
      "cell_type": "code",
      "metadata": {
        "colab_type": "code",
        "id": "QbwiFi8mKDfx",
        "colab": {
          "base_uri": "https://localhost:8080/",
          "height": 285
        },
        "outputId": "6297ff23-2fc4-463e-f2d7-fc85c9830096"
      },
      "source": [
        "fig, ax = plt.subplots(1, 1)\n",
        "ax.plot(x, y, 'ob', label='data')\n",
        "ax.plot(x, rational_fun(x, result.x[0],result.x[1]), '-k', lw=2, label='Newton-CG')\n",
        "ax.legend()"
      ],
      "execution_count": 15,
      "outputs": [
        {
          "output_type": "execute_result",
          "data": {
            "text/plain": [
              "<matplotlib.legend.Legend at 0x7f9bab5d9668>"
            ]
          },
          "metadata": {
            "tags": []
          },
          "execution_count": 15
        },
        {
          "output_type": "display_data",
          "data": {
            "image/png": "[encoded data removed]",
            "text/plain": [
              "<Figure size 432x288 with 1 Axes>"
            ]
          },
          "metadata": {
            "tags": [],
            "needs_background": "light"
          }
        }
      ]
    },
    {
      "cell_type": "markdown",
      "metadata": {
        "id": "PGKfl464K3nl",
        "colab_type": "text"
      },
      "source": [
        "**Levenberg-Marquardt algorithm**"
      ]
    },
    {
      "cell_type": "markdown",
      "metadata": {
        "id": "4ywcTXibK6-m",
        "colab_type": "text"
      },
      "source": [
        "Linear Approximant"
      ]
    },
    {
      "cell_type": "code",
      "metadata": {
        "id": "jt_zPbL-IIbE",
        "colab_type": "code",
        "colab": {
          "base_uri": "https://localhost:8080/",
          "height": 34
        },
        "outputId": "6f379a86-d10b-49d0-ce41-759d28c6c5e4"
      },
      "source": [
        "result = optimize.curve_fit(linear_fun, x, y, method='lm')[0]\n",
        "result"
      ],
      "execution_count": 16,
      "outputs": [
        {
          "output_type": "execute_result",
          "data": {
            "text/plain": [
              "array([0.99750517, 0.79986556])"
            ]
          },
          "metadata": {
            "tags": []
          },
          "execution_count": 16
        }
      ]
    },
    {
      "cell_type": "code",
      "metadata": {
        "id": "mXF7XCyXZG0l",
        "colab_type": "code",
        "colab": {
          "base_uri": "https://localhost:8080/",
          "height": 285
        },
        "outputId": "f6cfd359-b775-4742-df0f-af3f8f863585"
      },
      "source": [
        "fig, ax = plt.subplots(1, 1)\n",
        "ax.plot(x, y, 'ob', label='data')\n",
        "ax.plot(x, linear_fun(x, result[0],result[1]), '-k', lw=2, label='LM')\n",
        "ax.legend()"
      ],
      "execution_count": 17,
      "outputs": [
        {
          "output_type": "execute_result",
          "data": {
            "text/plain": [
              "<matplotlib.legend.Legend at 0x7f9bab54cc88>"
            ]
          },
          "metadata": {
            "tags": []
          },
          "execution_count": 17
        },
        {
          "output_type": "display_data",
          "data": {
            "image/png": "[encoded data removed]",
            "text/plain": [
              "<Figure size 432x288 with 1 Axes>"
            ]
          },
          "metadata": {
            "tags": [],
            "needs_background": "light"
          }
        }
      ]
    },
    {
      "cell_type": "markdown",
      "metadata": {
        "id": "JbTVsrA7G60V",
        "colab_type": "text"
      },
      "source": [
        "Rational Approximant"
      ]
    },
    {
      "cell_type": "code",
      "metadata": {
        "id": "GLxv-ZT0HX5y",
        "colab_type": "code",
        "colab": {
          "base_uri": "https://localhost:8080/",
          "height": 34
        },
        "outputId": "3fc31c70-1170-4e66-88cb-f4becf2e63ea"
      },
      "source": [
        "result = optimize.curve_fit(rational_fun, x, y, method='lm')[0]\n",
        "result"
      ],
      "execution_count": 18,
      "outputs": [
        {
          "output_type": "execute_result",
          "data": {
            "text/plain": [
              "array([ 0.92947973, -0.50977161])"
            ]
          },
          "metadata": {
            "tags": []
          },
          "execution_count": 18
        }
      ]
    },
    {
      "cell_type": "code",
      "metadata": {
        "id": "V3B7sUYkZ4Jz",
        "colab_type": "code",
        "colab": {
          "base_uri": "https://localhost:8080/",
          "height": 285
        },
        "outputId": "ebf48956-613b-4876-9d9e-2afbf69dfd41"
      },
      "source": [
        "fig, ax = plt.subplots(1, 1)\n",
        "ax.plot(x, y, 'ob', label='data')\n",
        "ax.plot(x, rational_fun(x, result[0],result[1]), '-k', lw=2, label='LM')\n",
        "ax.legend()"
      ],
      "execution_count": 19,
      "outputs": [
        {
          "output_type": "execute_result",
          "data": {
            "text/plain": [
              "<matplotlib.legend.Legend at 0x7f9bab4ca2e8>"
            ]
          },
          "metadata": {
            "tags": []
          },
          "execution_count": 19
        },
        {
          "output_type": "display_data",
          "data": {
            "image/png": "[encoded data removed]",
            "text/plain": [
              "<Figure size 432x288 with 1 Axes>"
            ]
          },
          "metadata": {
            "tags": [],
            "needs_background": "light"
          }
        }
      ]
    },
    {
      "cell_type": "markdown",
      "metadata": {
        "id": "Wq7m2AZAnYfq",
        "colab_type": "text"
      },
      "source": [
        "**Gradient Descent**"
      ]
    },
    {
      "cell_type": "markdown",
      "metadata": {
        "id": "gYOg2AmD5AzY",
        "colab_type": "text"
      },
      "source": [
        "Linear Approximant"
      ]
    },
    {
      "cell_type": "code",
      "metadata": {
        "id": "EiPC4Bu4nXhD",
        "colab_type": "code",
        "colab": {}
      },
      "source": [
        "def GradientDescentLinear(x, y, alpha, beta, lr, tol=0.001):\n",
        "  for i in range(100):\n",
        "    der_alpha = np.sum(2*x*(alpha*x+beta-y))\n",
        "    der_beta = np.sum(2*(alpha*x+beta-y))\n",
        "    alpha = alpha - lr*der_alpha\n",
        "    beta = beta - lr*der_beta\n",
        "    if np.abs(lr*der_alpha) < tol and np.abs(lr*der_beta) < tol:\n",
        "      return alpha, beta, i\n",
        "  return alpha, beta, i"
      ],
      "execution_count": 20,
      "outputs": []
    },
    {
      "cell_type": "code",
      "metadata": {
        "id": "FEr6G0d_vGqj",
        "colab_type": "code",
        "colab": {
          "base_uri": "https://localhost:8080/",
          "height": 34
        },
        "outputId": "377074fe-f6de-4475-889a-03b361921ef5"
      },
      "source": [
        "alpha, beta, iteration = GradientDescentLinear(x, y, 0, 0, 0.001)\n",
        "print(alpha, beta)"
      ],
      "execution_count": 21,
      "outputs": [
        {
          "output_type": "stream",
          "text": [
            "0.8844679794255945 0.8604452106317785\n"
          ],
          "name": "stdout"
        }
      ]
    },
    {
      "cell_type": "code",
      "metadata": {
        "id": "WLyGMpWmvLj7",
        "colab_type": "code",
        "colab": {
          "base_uri": "https://localhost:8080/",
          "height": 285
        },
        "outputId": "785e96ae-eb2f-4a69-eb2c-46f5230fc164"
      },
      "source": [
        "fig, ax = plt.subplots(1, 1)\n",
        "ax.plot(x, y, 'ob', label='data')\n",
        "ax.plot(x, linear_fun(x, alpha,beta), '-k', lw=2, label='GD')\n",
        "ax.legend()"
      ],
      "execution_count": 22,
      "outputs": [
        {
          "output_type": "execute_result",
          "data": {
            "text/plain": [
              "<matplotlib.legend.Legend at 0x7f9bab4be7f0>"
            ]
          },
          "metadata": {
            "tags": []
          },
          "execution_count": 22
        },
        {
          "output_type": "display_data",
          "data": {
            "image/png": "[encoded data removed]",
            "text/plain": [
              "<Figure size 432x288 with 1 Axes>"
            ]
          },
          "metadata": {
            "tags": [],
            "needs_background": "light"
          }
        }
      ]
    },
    {
      "cell_type": "markdown",
      "metadata": {
        "id": "MrEznpRZ5E0k",
        "colab_type": "text"
      },
      "source": [
        "Rational Approximant"
      ]
    },
    {
      "cell_type": "code",
      "metadata": {
        "id": "6WIgoLIX46h-",
        "colab_type": "code",
        "colab": {}
      },
      "source": [
        "def GradientDescentRational(x, y, alpha, beta, lr, tol=0.001):\n",
        "  for i in range(100):\n",
        "    t = (1 + beta*x)\n",
        "    der_alpha = np.sum(2*((alpha/t) - y)/t)\n",
        "    der_beta = np.sum(2*alpha*x*(t*y - alpha)/(t**3))\n",
        "    alpha = alpha - lr*der_alpha\n",
        "    beta = beta - lr*der_beta\n",
        "    if np.abs(lr*der_alpha) < tol and np.abs(lr*der_beta) < tol:\n",
        "      return alpha, beta, i\n",
        "  return alpha, beta, i"
      ],
      "execution_count": 23,
      "outputs": []
    },
    {
      "cell_type": "code",
      "metadata": {
        "id": "mrVagnNK7dlc",
        "colab_type": "code",
        "colab": {
          "base_uri": "https://localhost:8080/",
          "height": 34
        },
        "outputId": "66bfa89a-16ac-4f3f-c8e0-c0bb2f6a151c"
      },
      "source": [
        "alpha, beta, iteration = GradientDescentRational(x, y, 0, 0, 0.001)\n",
        "print(alpha, beta, iteration)"
      ],
      "execution_count": 26,
      "outputs": [
        {
          "output_type": "stream",
          "text": [
            "0.9441793420175288 -0.49669762963628733 45\n"
          ],
          "name": "stdout"
        }
      ]
    },
    {
      "cell_type": "code",
      "metadata": {
        "id": "gF0ZnIMp7iDk",
        "colab_type": "code",
        "colab": {
          "base_uri": "https://localhost:8080/",
          "height": 285
        },
        "outputId": "d2f25c73-1d6d-448a-f922-7d7a61bd35d4"
      },
      "source": [
        "fig, ax = plt.subplots(1, 1)\n",
        "ax.plot(x, y, 'ob', label='data')\n",
        "ax.plot(x, rational_fun(x, alpha,beta), '-k', lw=2, label='GD')\n",
        "ax.legend()"
      ],
      "execution_count": 27,
      "outputs": [
        {
          "output_type": "execute_result",
          "data": {
            "text/plain": [
              "<matplotlib.legend.Legend at 0x7f9bab389128>"
            ]
          },
          "metadata": {
            "tags": []
          },
          "execution_count": 27
        },
        {
          "output_type": "display_data",
          "data": {
            "image/png": "[encoded data removed]",
            "text/plain": [
              "<Figure size 432x288 with 1 Axes>"
            ]
          },
          "metadata": {
            "tags": [],
            "needs_background": "light"
          }
        }
      ]
    },
    {
      "cell_type": "code",
      "metadata": {
        "id": "RYyLI_5F8u10",
        "colab_type": "code",
        "colab": {}
      },
      "source": [
        ""
      ],
      "execution_count": 25,
      "outputs": []
    }
  ]
}