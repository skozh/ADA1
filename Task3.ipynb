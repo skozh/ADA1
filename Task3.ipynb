{
  "nbformat": 4,
  "nbformat_minor": 0,
  "metadata": {
    "colab": {
      "name": "Task3.ipynb",
      "provenance": [],
      "collapsed_sections": [],
      "authorship_tag": "ABX9TyOUG/uh++bEqAxKfB9XSoD6",
      "include_colab_link": true
    },
    "kernelspec": {
      "name": "python3",
      "display_name": "Python 3"
    }
  },
  "cells": [
    {
      "cell_type": "markdown",
      "metadata": {
        "id": "view-in-github",
        "colab_type": "text"
      },
      "source": [
        "<a href=\"https://colab.research.google.com/github/skozh/ADA1/blob/master/Task3.ipynb\" target=\"_parent\"><img src=\"https://colab.research.google.com/assets/colab-badge.svg\" alt=\"Open In Colab\"/></a>"
      ]
    },
    {
      "cell_type": "code",
      "metadata": {
        "id": "MUgFyBCbQV1M"
      },
      "source": [
        "import numpy as np\n",
        "import matplotlib.pyplot as plt\n",
        "from scipy import optimize"
      ],
      "execution_count": 1,
      "outputs": []
    },
    {
      "cell_type": "markdown",
      "metadata": {
        "id": "_ClU-7sPxKBM"
      },
      "source": [
        "## **Generate Noisy Data**"
      ]
    },
    {
      "cell_type": "code",
      "metadata": {
        "id": "-tR_Q3r4xgj-"
      },
      "source": [
        "def linear_fun(x, alpha, beta):\n",
        "  return alpha*x+beta"
      ],
      "execution_count": 2,
      "outputs": []
    },
    {
      "cell_type": "code",
      "metadata": {
        "id": "hqOGGCEz57yV"
      },
      "source": [
        "def rational_fun(x, alpha, beta):\n",
        "  return alpha/(1+beta*x)"
      ],
      "execution_count": 3,
      "outputs": []
    },
    {
      "cell_type": "code",
      "metadata": {
        "id": "kYvIGem5xucy",
        "outputId": "ab04103e-28d4-41c7-ecc5-6442c4dbf741",
        "colab": {
          "base_uri": "https://localhost:8080/",
          "height": 34
        }
      },
      "source": [
        "alpha = np.random.rand()\n",
        "beta = np.random.rand()\n",
        "noise = np.random.normal(0,1,101)\n",
        "print(alpha, beta)"
      ],
      "execution_count": 4,
      "outputs": [
        {
          "output_type": "stream",
          "text": [
            "0.7714729509289554 0.4930559409886507\n"
          ],
          "name": "stdout"
        }
      ]
    },
    {
      "cell_type": "code",
      "metadata": {
        "id": "UO1Z8r0AxxPy"
      },
      "source": [
        "k = [*range(0, 101, 1)]\n",
        "x = np.array([x/100 for x in k])\n",
        "y = alpha*x + beta + noise"
      ],
      "execution_count": 5,
      "outputs": []
    },
    {
      "cell_type": "code",
      "metadata": {
        "id": "MKkFHvFwrN-s",
        "outputId": "5c6cee4b-5c12-4f42-973e-2110c27e9d42",
        "colab": {
          "base_uri": "https://localhost:8080/",
          "height": 282
        }
      },
      "source": [
        "fig, ax = plt.subplots(1, 1)\n",
        "ax.plot(x, y, 'ob', label='data')"
      ],
      "execution_count": 6,
      "outputs": [
        {
          "output_type": "execute_result",
          "data": {
            "text/plain": [
              "[<matplotlib.lines.Line2D at 0x7f6e7be68ef0>]"
            ]
          },
          "metadata": {
            "tags": []
          },
          "execution_count": 6
        },
        {
          "output_type": "display_data",
          "data": {
            "image/png": "[encoded data removed]",
            "text/plain": [
              "<Figure size 432x288 with 1 Axes>"
            ]
          },
          "metadata": {
            "tags": [],
            "needs_background": "light"
          }
        }
      ]
    },
    {
      "cell_type": "code",
      "metadata": {
        "id": "zRRcVmOgnu6C"
      },
      "source": [
        "def objective_linear(params):\n",
        "  alpha, beta = params\n",
        "  return np.sum(((alpha*x+beta)-y)**2)"
      ],
      "execution_count": 7,
      "outputs": []
    },
    {
      "cell_type": "code",
      "metadata": {
        "id": "CiwS0SwhH7ZD"
      },
      "source": [
        "def objective_rational(params):\n",
        "  alpha, beta = params\n",
        "  return np.sum(((alpha/(1+x*beta))-y)**2)"
      ],
      "execution_count": 8,
      "outputs": []
    },
    {
      "cell_type": "markdown",
      "metadata": {
        "id": "NyGZsmV4FdAw"
      },
      "source": [
        "**Conjugate Gradient Descent**"
      ]
    },
    {
      "cell_type": "markdown",
      "metadata": {
        "id": "lMIPMJZYIFyX"
      },
      "source": [
        "Linear Approximant"
      ]
    },
    {
      "cell_type": "code",
      "metadata": {
        "id": "f3NZ4WrWppO1",
        "outputId": "1ae7a268-f1ee-4aa1-859e-d54d441c928d",
        "colab": {
          "base_uri": "https://localhost:8080/",
          "height": 170
        }
      },
      "source": [
        "initial = [0,0]\n",
        "result1_l = optimize.minimize(fun=objective_linear, x0=initial,method='CG', tol=0.001) \n",
        "result1_l"
      ],
      "execution_count": 9,
      "outputs": [
        {
          "output_type": "execute_result",
          "data": {
            "text/plain": [
              "     fun: 84.7148387656513\n",
              "     jac: array([-1.90734863e-06, -9.53674316e-07])\n",
              " message: 'Optimization terminated successfully.'\n",
              "    nfev: 24\n",
              "     nit: 2\n",
              "    njev: 6\n",
              "  status: 0\n",
              " success: True\n",
              "       x: array([1.25962743, 0.1398298 ])"
            ]
          },
          "metadata": {
            "tags": []
          },
          "execution_count": 9
        }
      ]
    },
    {
      "cell_type": "code",
      "metadata": {
        "id": "FK_Epoo16YZw",
        "outputId": "2679a3ab-ea56-426b-d761-67c71fe0dba1",
        "colab": {
          "base_uri": "https://localhost:8080/",
          "height": 282
        }
      },
      "source": [
        "fig, ax = plt.subplots(1, 1)\n",
        "ax.plot(x, y, 'ob', label='data')\n",
        "ax.plot(x, linear_fun(x, result1_l.x[0],result1_l.x[1]), '-k', lw=2, label='CG')\n",
        "ax.legend()"
      ],
      "execution_count": 10,
      "outputs": [
        {
          "output_type": "execute_result",
          "data": {
            "text/plain": [
              "<matplotlib.legend.Legend at 0x7f6e7b925588>"
            ]
          },
          "metadata": {
            "tags": []
          },
          "execution_count": 10
        },
        {
          "output_type": "display_data",
          "data": {
            "image/png": "[encoded data removed]",
            "text/plain": [
              "<Figure size 432x288 with 1 Axes>"
            ]
          },
          "metadata": {
            "tags": [],
            "needs_background": "light"
          }
        }
      ]
    },
    {
      "cell_type": "markdown",
      "metadata": {
        "id": "pdRZ0bLSIOTK"
      },
      "source": [
        "Rational Approximant\n",
        "\n"
      ]
    },
    {
      "cell_type": "code",
      "metadata": {
        "id": "erJ6AziwIRdd",
        "outputId": "42e4b13f-2760-4825-9381-4cee02698134",
        "colab": {
          "base_uri": "https://localhost:8080/",
          "height": 170
        }
      },
      "source": [
        "initial = [0,0]\n",
        "result1_r = optimize.minimize(fun=objective_rational, x0=initial,method='CG', tol=0.001) \n",
        "result1_r"
      ],
      "execution_count": 11,
      "outputs": [
        {
          "output_type": "execute_result",
          "data": {
            "text/plain": [
              "     fun: 85.26158020057785\n",
              "     jac: array([0.00095463, 0.00026131])\n",
              " message: 'Optimization terminated successfully.'\n",
              "    nfev: 116\n",
              "     nit: 12\n",
              "    njev: 29\n",
              "  status: 0\n",
              " success: True\n",
              "       x: array([ 0.41872596, -0.75426087])"
            ]
          },
          "metadata": {
            "tags": []
          },
          "execution_count": 11
        }
      ]
    },
    {
      "cell_type": "code",
      "metadata": {
        "id": "1jHcMn5aIUcb",
        "outputId": "1122121e-75cb-486a-851b-72007be55d0a",
        "colab": {
          "base_uri": "https://localhost:8080/",
          "height": 282
        }
      },
      "source": [
        "fig, ax = plt.subplots(1, 1)\n",
        "ax.plot(x, y, 'ob', label='data')\n",
        "ax.plot(x, rational_fun(x, result1_r.x[0],result1_r.x[1]), '-k', lw=2, label='CG')\n",
        "ax.legend()"
      ],
      "execution_count": 12,
      "outputs": [
        {
          "output_type": "execute_result",
          "data": {
            "text/plain": [
              "<matplotlib.legend.Legend at 0x7f6e7b8a3320>"
            ]
          },
          "metadata": {
            "tags": []
          },
          "execution_count": 12
        },
        {
          "output_type": "display_data",
          "data": {
            "image/png": "[encoded data removed]",
            "text/plain": [
              "<Figure size 432x288 with 1 Axes>"
            ]
          },
          "metadata": {
            "tags": [],
            "needs_background": "light"
          }
        }
      ]
    },
    {
      "cell_type": "markdown",
      "metadata": {
        "id": "rzmmuZYwIiLf"
      },
      "source": [
        "**Newton's Method**"
      ]
    },
    {
      "cell_type": "markdown",
      "metadata": {
        "id": "7UKef1S0I13E"
      },
      "source": [
        "Linear Approximant"
      ]
    },
    {
      "cell_type": "code",
      "metadata": {
        "id": "Hm3b3k2KIdoA",
        "outputId": "c899d7a5-becf-41e7-81da-04762bc406d8",
        "colab": {
          "base_uri": "https://localhost:8080/",
          "height": 187
        }
      },
      "source": [
        "initial = [0,0]\n",
        "fprime = lambda x: optimize.approx_fprime(x, objective_linear, 0.001)\n",
        "result2_l = optimize.minimize(fun=objective_linear, x0=initial,method='Newton-CG', tol=0.001, jac=fprime) \n",
        "result2_l"
      ],
      "execution_count": 13,
      "outputs": [
        {
          "output_type": "execute_result",
          "data": {
            "text/plain": [
              "     fun: 84.71487206485004\n",
              "     jac: array([7.80298137e-05, 1.15709128e-04])\n",
              " message: 'Warning: Desired error not necessarily achieved due to precision loss.'\n",
              "    nfev: 83\n",
              "    nhev: 0\n",
              "     nit: 2\n",
              "    njev: 91\n",
              "  status: 2\n",
              " success: False\n",
              "       x: array([1.26059924, 0.13884447])"
            ]
          },
          "metadata": {
            "tags": []
          },
          "execution_count": 13
        }
      ]
    },
    {
      "cell_type": "code",
      "metadata": {
        "id": "JBikPEqYI7a_",
        "outputId": "83e34dfd-b073-4493-d1b6-5e4c52dba988",
        "colab": {
          "base_uri": "https://localhost:8080/",
          "height": 282
        }
      },
      "source": [
        "fig, ax = plt.subplots(1, 1)\n",
        "ax.plot(x, y, 'ob', label='data')\n",
        "ax.plot(x, linear_fun(x, result2_l.x[0],result2_l.x[1]), '-k', lw=2, label='Newton')\n",
        "ax.legend()"
      ],
      "execution_count": 14,
      "outputs": [
        {
          "output_type": "execute_result",
          "data": {
            "text/plain": [
              "<matplotlib.legend.Legend at 0x7f6e7b81d0b8>"
            ]
          },
          "metadata": {
            "tags": []
          },
          "execution_count": 14
        },
        {
          "output_type": "display_data",
          "data": {
            "image/png": "[encoded data removed]",
            "text/plain": [
              "<Figure size 432x288 with 1 Axes>"
            ]
          },
          "metadata": {
            "tags": [],
            "needs_background": "light"
          }
        }
      ]
    },
    {
      "cell_type": "markdown",
      "metadata": {
        "id": "gjUuvpXWKEwM"
      },
      "source": [
        "Rational Approximant"
      ]
    },
    {
      "cell_type": "code",
      "metadata": {
        "id": "Jg0yUXw_KDfm",
        "outputId": "317ce892-5270-4dba-8ffb-b24a7bdb680e",
        "colab": {
          "base_uri": "https://localhost:8080/",
          "height": 187
        }
      },
      "source": [
        "initial = [0,0]\n",
        "fprime = lambda x: optimize.approx_fprime(x, objective_rational, 0.001)\n",
        "result2_r = optimize.minimize(fun=objective_rational, x0=initial,method='Newton-CG', tol=0.001, jac=fprime) \n",
        "result2_r"
      ],
      "execution_count": 15,
      "outputs": [
        {
          "output_type": "execute_result",
          "data": {
            "text/plain": [
              "     fun: 85.26304644782287\n",
              "     jac: array([-7.98292774e-05, -7.22632687e-03])\n",
              " message: 'Optimization terminated successfully.'\n",
              "    nfev: 14\n",
              "    nhev: 0\n",
              "     nit: 9\n",
              "    njev: 52\n",
              "  status: 0\n",
              " success: True\n",
              "       x: array([ 0.41527384, -0.75764272])"
            ]
          },
          "metadata": {
            "tags": []
          },
          "execution_count": 15
        }
      ]
    },
    {
      "cell_type": "code",
      "metadata": {
        "id": "QbwiFi8mKDfx",
        "outputId": "1fb8618b-b981-4192-92c1-5fe5dc46a718",
        "colab": {
          "base_uri": "https://localhost:8080/",
          "height": 282
        }
      },
      "source": [
        "fig, ax = plt.subplots(1, 1)\n",
        "ax.plot(x, y, 'ob', label='data')\n",
        "ax.plot(x, rational_fun(x, result2_r.x[0],result2_r.x[1]), '-k', lw=2, label='Newton')\n",
        "ax.legend()"
      ],
      "execution_count": 16,
      "outputs": [
        {
          "output_type": "execute_result",
          "data": {
            "text/plain": [
              "<matplotlib.legend.Legend at 0x7f6e7b807e80>"
            ]
          },
          "metadata": {
            "tags": []
          },
          "execution_count": 16
        },
        {
          "output_type": "display_data",
          "data": {
            "image/png": "[encoded data removed]",
            "text/plain": [
              "<Figure size 432x288 with 1 Axes>"
            ]
          },
          "metadata": {
            "tags": [],
            "needs_background": "light"
          }
        }
      ]
    },
    {
      "cell_type": "markdown",
      "metadata": {
        "id": "PGKfl464K3nl"
      },
      "source": [
        "**Levenberg-Marquardt algorithm**"
      ]
    },
    {
      "cell_type": "markdown",
      "metadata": {
        "id": "4ywcTXibK6-m"
      },
      "source": [
        "Linear Approximant"
      ]
    },
    {
      "cell_type": "code",
      "metadata": {
        "id": "jt_zPbL-IIbE",
        "outputId": "3222776c-b223-45f4-c7ff-e2c6f025cab8",
        "colab": {
          "base_uri": "https://localhost:8080/",
          "height": 34
        }
      },
      "source": [
        "result3_l = optimize.curve_fit(linear_fun, x, y, method='lm')[0]\n",
        "result3_l"
      ],
      "execution_count": 17,
      "outputs": [
        {
          "output_type": "execute_result",
          "data": {
            "text/plain": [
              "array([1.25962748, 0.13982978])"
            ]
          },
          "metadata": {
            "tags": []
          },
          "execution_count": 17
        }
      ]
    },
    {
      "cell_type": "code",
      "metadata": {
        "id": "mXF7XCyXZG0l",
        "outputId": "4e83ba5f-6018-4409-f1a6-593b22273031",
        "colab": {
          "base_uri": "https://localhost:8080/",
          "height": 282
        }
      },
      "source": [
        "fig, ax = plt.subplots(1, 1)\n",
        "ax.plot(x, y, 'ob', label='data')\n",
        "ax.plot(x, linear_fun(x, result3_l[0],result3_l[1]), '-k', lw=2, label='LM')\n",
        "ax.legend()"
      ],
      "execution_count": 18,
      "outputs": [
        {
          "output_type": "execute_result",
          "data": {
            "text/plain": [
              "<matplotlib.legend.Legend at 0x7f6e7b77fbe0>"
            ]
          },
          "metadata": {
            "tags": []
          },
          "execution_count": 18
        },
        {
          "output_type": "display_data",
          "data": {
            "image/png": "[encoded data removed]",
            "text/plain": [
              "<Figure size 432x288 with 1 Axes>"
            ]
          },
          "metadata": {
            "tags": [],
            "needs_background": "light"
          }
        }
      ]
    },
    {
      "cell_type": "markdown",
      "metadata": {
        "id": "JbTVsrA7G60V"
      },
      "source": [
        "Rational Approximant"
      ]
    },
    {
      "cell_type": "code",
      "metadata": {
        "id": "GLxv-ZT0HX5y",
        "outputId": "8dc0ccd7-1681-4366-b123-4efc59dd0245",
        "colab": {
          "base_uri": "https://localhost:8080/",
          "height": 34
        }
      },
      "source": [
        "result3_r = optimize.curve_fit(rational_fun, x, y, method='lm')[0]\n",
        "result3_r"
      ],
      "execution_count": 19,
      "outputs": [
        {
          "output_type": "execute_result",
          "data": {
            "text/plain": [
              "array([ 0.41872769, -0.75425757])"
            ]
          },
          "metadata": {
            "tags": []
          },
          "execution_count": 19
        }
      ]
    },
    {
      "cell_type": "code",
      "metadata": {
        "id": "V3B7sUYkZ4Jz",
        "outputId": "562f8602-4665-4c06-e876-5b81fe0343f7",
        "colab": {
          "base_uri": "https://localhost:8080/",
          "height": 282
        }
      },
      "source": [
        "fig, ax = plt.subplots(1, 1)\n",
        "ax.plot(x, y, 'ob', label='data')\n",
        "ax.plot(x, rational_fun(x, result3_r[0],result3_r[1]), '-k', lw=2, label='LM')\n",
        "ax.legend()"
      ],
      "execution_count": 20,
      "outputs": [
        {
          "output_type": "execute_result",
          "data": {
            "text/plain": [
              "<matplotlib.legend.Legend at 0x7f6e7b6f4978>"
            ]
          },
          "metadata": {
            "tags": []
          },
          "execution_count": 20
        },
        {
          "output_type": "display_data",
          "data": {
            "image/png": "[encoded data removed]",
            "text/plain": [
              "<Figure size 432x288 with 1 Axes>"
            ]
          },
          "metadata": {
            "tags": [],
            "needs_background": "light"
          }
        }
      ]
    },
    {
      "cell_type": "markdown",
      "metadata": {
        "id": "Wq7m2AZAnYfq"
      },
      "source": [
        "**Gradient Descent**"
      ]
    },
    {
      "cell_type": "markdown",
      "metadata": {
        "id": "gYOg2AmD5AzY"
      },
      "source": [
        "Linear Approximant"
      ]
    },
    {
      "cell_type": "code",
      "metadata": {
        "id": "EiPC4Bu4nXhD"
      },
      "source": [
        "def GradientDescentLinear(x, y, alpha, beta, lr, tol=0.001):\n",
        "  for i in range(100):\n",
        "    der_alpha = np.sum(2*x*(alpha*x+beta-y))\n",
        "    der_beta = np.sum(2*(alpha*x+beta-y))\n",
        "    alpha = alpha - lr*der_alpha\n",
        "    beta = beta - lr*der_beta\n",
        "    if np.abs(lr*der_alpha) < tol and np.abs(lr*der_beta) < tol:\n",
        "      return alpha, beta, i\n",
        "  return alpha, beta, i"
      ],
      "execution_count": 21,
      "outputs": []
    },
    {
      "cell_type": "code",
      "metadata": {
        "id": "FEr6G0d_vGqj",
        "outputId": "265930d9-70a8-40c0-ea4b-422d9dc1ea2c",
        "colab": {
          "base_uri": "https://localhost:8080/",
          "height": 34
        }
      },
      "source": [
        "result4_l = GradientDescentLinear(x, y, 0, 0, 0.001)\n",
        "print(result4_l)"
      ],
      "execution_count": 22,
      "outputs": [
        {
          "output_type": "stream",
          "text": [
            "(1.0242099885700848, 0.26599629964737337, 99)\n"
          ],
          "name": "stdout"
        }
      ]
    },
    {
      "cell_type": "code",
      "metadata": {
        "id": "WLyGMpWmvLj7",
        "outputId": "197c973e-f613-4641-b15b-e763e32edabd",
        "colab": {
          "base_uri": "https://localhost:8080/",
          "height": 282
        }
      },
      "source": [
        "fig, ax = plt.subplots(1, 1)\n",
        "ax.plot(x, y, 'ob', label='data')\n",
        "ax.plot(x, linear_fun(x, result4_l[0],result4_l[1]), '-k', lw=2, label='GD')\n",
        "ax.legend()"
      ],
      "execution_count": 23,
      "outputs": [
        {
          "output_type": "execute_result",
          "data": {
            "text/plain": [
              "<matplotlib.legend.Legend at 0x7f6e7b66f7b8>"
            ]
          },
          "metadata": {
            "tags": []
          },
          "execution_count": 23
        },
        {
          "output_type": "display_data",
          "data": {
            "image/png": "[encoded data removed]",
            "text/plain": [
              "<Figure size 432x288 with 1 Axes>"
            ]
          },
          "metadata": {
            "tags": [],
            "needs_background": "light"
          }
        }
      ]
    },
    {
      "cell_type": "markdown",
      "metadata": {
        "id": "MrEznpRZ5E0k"
      },
      "source": [
        "Rational Approximant"
      ]
    },
    {
      "cell_type": "code",
      "metadata": {
        "id": "6WIgoLIX46h-"
      },
      "source": [
        "def GradientDescentRational(x, y, alpha, beta, lr, tol=0.001):\n",
        "  for i in range(100):\n",
        "    t = (1 + beta*x)\n",
        "    der_alpha = np.sum(2*((alpha/t) - y)/t)\n",
        "    der_beta = np.sum(2*alpha*x*(t*y - alpha)/(t**3))\n",
        "    alpha = alpha - lr*der_alpha\n",
        "    beta = beta - lr*der_beta\n",
        "    if np.abs(lr*der_alpha) < tol and np.abs(lr*der_beta) < tol:\n",
        "      return alpha, beta, i\n",
        "  return alpha, beta, i"
      ],
      "execution_count": 24,
      "outputs": []
    },
    {
      "cell_type": "code",
      "metadata": {
        "id": "mrVagnNK7dlc",
        "outputId": "0aa41b2f-de51-4b60-a1ab-1bf1219c583b",
        "colab": {
          "base_uri": "https://localhost:8080/",
          "height": 34
        }
      },
      "source": [
        "result4_r = GradientDescentRational(x, y, 0, 0, 0.001)\n",
        "print(result4_r)"
      ],
      "execution_count": 25,
      "outputs": [
        {
          "output_type": "stream",
          "text": [
            "(0.42572589846643605, -0.747337502980981, 60)\n"
          ],
          "name": "stdout"
        }
      ]
    },
    {
      "cell_type": "code",
      "metadata": {
        "id": "gF0ZnIMp7iDk",
        "outputId": "72e56736-7655-4711-b4e9-924d8c85c5f3",
        "colab": {
          "base_uri": "https://localhost:8080/",
          "height": 282
        }
      },
      "source": [
        "fig, ax = plt.subplots(1, 1)\n",
        "ax.plot(x, y, 'ob', label='data')\n",
        "ax.plot(x, rational_fun(x, result4_r[0],result4_r[1]), '-k', lw=2, label='GD')\n",
        "ax.legend()"
      ],
      "execution_count": 26,
      "outputs": [
        {
          "output_type": "execute_result",
          "data": {
            "text/plain": [
              "<matplotlib.legend.Legend at 0x7f6e7b5e6588>"
            ]
          },
          "metadata": {
            "tags": []
          },
          "execution_count": 26
        },
        {
          "output_type": "display_data",
          "data": {
            "image/png": "[encoded data removed]",
            "text/plain": [
              "<Figure size 432x288 with 1 Axes>"
            ]
          },
          "metadata": {
            "tags": [],
            "needs_background": "light"
          }
        }
      ]
    },
    {
      "cell_type": "markdown",
      "metadata": {
        "id": "L9vZfuVxDpuH"
      },
      "source": [
        "**Comparison**"
      ]
    },
    {
      "cell_type": "markdown",
      "metadata": {
        "id": "vz4o0KfGDvHK"
      },
      "source": [
        "Linear Approximant"
      ]
    },
    {
      "cell_type": "code",
      "metadata": {
        "id": "NIH9tQQ4DuI5",
        "outputId": "8759779a-c019-4229-b566-02a4870f1211",
        "colab": {
          "base_uri": "https://localhost:8080/",
          "height": 609
        }
      },
      "source": [
        "fig, ax = plt.subplots(1, 1, figsize=(15, 10))\n",
        "ax.plot(x, y, 'ob', label='Data')\n",
        "ax.plot(x, linear_fun(x, result4_l[0],result4_l[1]), '-y', lw=3, label='GD')\n",
        "ax.plot(x, linear_fun(x, result1_l.x[0],result1_l.x[1]), '--r', lw=3, label='CG')\n",
        "ax.plot(x, linear_fun(x, result2_l.x[0],result2_l.x[1]), '-.m', lw=3, label='Newton')\n",
        "ax.plot(x, linear_fun(x, result3_l[0],result3_l[1]), ':c', lw=3, label='LM')\n",
        "ax.legend()"
      ],
      "execution_count": 27,
      "outputs": [
        {
          "output_type": "execute_result",
          "data": {
            "text/plain": [
              "<matplotlib.legend.Legend at 0x7f6e7b871048>"
            ]
          },
          "metadata": {
            "tags": []
          },
          "execution_count": 27
        },
        {
          "output_type": "display_data",
          "data": {
            "image/png": "[encoded data removed]",
            "text/plain": [
              "<Figure size 1080x720 with 1 Axes>"
            ]
          },
          "metadata": {
            "tags": [],
            "needs_background": "light"
          }
        }
      ]
    },
    {
      "cell_type": "markdown",
      "metadata": {
        "id": "Us-aRJUlFEva"
      },
      "source": [
        "Rational Approximant"
      ]
    },
    {
      "cell_type": "code",
      "metadata": {
        "id": "6jccB_xBEPMU",
        "outputId": "103a120a-a0f2-4016-a6e2-bb7553ca864b",
        "colab": {
          "base_uri": "https://localhost:8080/",
          "height": 609
        }
      },
      "source": [
        "fig, ax = plt.subplots(1, 1, figsize=(15, 10))\n",
        "ax.plot(x, y, 'ob', label='Data')\n",
        "ax.plot(x, rational_fun(x, result4_r[0],result4_r[1]), '-y', lw=3, label='GD')\n",
        "ax.plot(x, rational_fun(x, result1_r.x[0],result1_r.x[1]), '--r', lw=3, label='CG')\n",
        "ax.plot(x, rational_fun(x, result2_r.x[0],result2_r.x[1]), '-.m', lw=3, label='Newton')\n",
        "ax.plot(x, rational_fun(x, result3_r[0],result3_r[1]), ':c', lw=3, label='LM')\n",
        "ax.legend()"
      ],
      "execution_count": 28,
      "outputs": [
        {
          "output_type": "execute_result",
          "data": {
            "text/plain": [
              "<matplotlib.legend.Legend at 0x7f6e7b606ac8>"
            ]
          },
          "metadata": {
            "tags": []
          },
          "execution_count": 28
        },
        {
          "output_type": "display_data",
          "data": {
            "image/png": "[encoded data removed]",
            "text/plain": [
              "<Figure size 1080x720 with 1 Axes>"
            ]
          },
          "metadata": {
            "tags": [],
            "needs_background": "light"
          }
        }
      ]
    },
    {
      "cell_type": "code",
      "metadata": {
        "id": "6JyjjUv8J64r"
      },
      "source": [
        ""
      ],
      "execution_count": 28,
      "outputs": []
    }
  ]
}