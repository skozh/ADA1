{
  "nbformat": 4,
  "nbformat_minor": 0,
  "metadata": {
    "colab": {
      "name": "Task2.ipynb",
      "provenance": [],
      "collapsed_sections": [],
      "authorship_tag": "ABX9TyOizesnEeGSlEBWPsZdmLgO",
      "include_colab_link": true
    },
    "kernelspec": {
      "name": "python3",
      "display_name": "Python 3"
    }
  },
  "cells": [
    {
      "cell_type": "markdown",
      "metadata": {
        "id": "view-in-github",
        "colab_type": "text"
      },
      "source": [
        "<a href=\"https://colab.research.google.com/github/skozh/ADA1/blob/master/Task2.ipynb\" target=\"_parent\"><img src=\"https://colab.research.google.com/assets/colab-badge.svg\" alt=\"Open In Colab\"/></a>"
      ]
    },
    {
      "cell_type": "markdown",
      "metadata": {
        "id": "_ClU-7sPxKBM",
        "colab_type": "text"
      },
      "source": [
        "## **Minimization**"
      ]
    },
    {
      "cell_type": "code",
      "metadata": {
        "id": "MUgFyBCbQV1M",
        "colab_type": "code",
        "colab": {}
      },
      "source": [
        "import numpy as np\n",
        "import matplotlib.pyplot as plt\n",
        "from scipy import optimize"
      ],
      "execution_count": 1,
      "outputs": []
    },
    {
      "cell_type": "markdown",
      "metadata": {
        "id": "qMx5tv2DgtHm",
        "colab_type": "text"
      },
      "source": [
        "**Function 1** : f(x) = x^3, x E [0,1]\n",
        "\n",
        "---\n",
        "\n"
      ]
    },
    {
      "cell_type": "code",
      "metadata": {
        "id": "YjczNxTVQams",
        "colab_type": "code",
        "colab": {}
      },
      "source": [
        "def f1(x):\n",
        "  return x*x*x"
      ],
      "execution_count": 2,
      "outputs": []
    },
    {
      "cell_type": "code",
      "metadata": {
        "id": "inTMerBcRfYn",
        "colab_type": "code",
        "colab": {
          "base_uri": "https://localhost:8080/",
          "height": 265
        },
        "outputId": "fed5927e-809f-4fd5-9c1a-58d274d04300"
      },
      "source": [
        "x = np.linspace(0,1,100)\n",
        "y = f1(x)\n",
        "fig = plt.figure()\n",
        "ax = fig.add_subplot(1, 1, 1)\n",
        "plt.plot(x,y, 'r')\n",
        "plt.show()"
      ],
      "execution_count": 3,
      "outputs": [
        {
          "output_type": "display_data",
          "data": {
            "image/png": "[encoded data removed]",
            "text/plain": [
              "<Figure size 432x288 with 1 Axes>"
            ]
          },
          "metadata": {
            "tags": [],
            "needs_background": "light"
          }
        }
      ]
    },
    {
      "cell_type": "code",
      "metadata": {
        "id": "B00waahpQgeo",
        "colab_type": "code",
        "colab": {
          "base_uri": "https://localhost:8080/",
          "height": 34
        },
        "outputId": "4b25c46e-810d-4fd0-8be4-b73f9373e934"
      },
      "source": [
        "# Golden Section\n",
        "result = optimize.minimize_scalar(f1, [0,1], method=\"golden\", tol=0.001) \n",
        "x_min = result.x\n",
        "x_min"
      ],
      "execution_count": 4,
      "outputs": [
        {
          "output_type": "execute_result",
          "data": {
            "text/plain": [
              "-5.647395098620533e+102"
            ]
          },
          "metadata": {
            "tags": []
          },
          "execution_count": 4
        }
      ]
    },
    {
      "cell_type": "code",
      "metadata": {
        "id": "hn2pa7-Ik97Y",
        "colab_type": "code",
        "colab": {
          "base_uri": "https://localhost:8080/",
          "height": 102
        },
        "outputId": "deeda59d-5dd6-4d9a-b9f9-d34f86cb28c2"
      },
      "source": [
        "result"
      ],
      "execution_count": 5,
      "outputs": [
        {
          "output_type": "execute_result",
          "data": {
            "text/plain": [
              "     fun: -inf\n",
              "    nfev: 509\n",
              "     nit: 14\n",
              " success: True\n",
              "       x: -5.647395098620533e+102"
            ]
          },
          "metadata": {
            "tags": []
          },
          "execution_count": 5
        }
      ]
    },
    {
      "cell_type": "code",
      "metadata": {
        "id": "sfYOJReMahzS",
        "colab_type": "code",
        "colab": {
          "base_uri": "https://localhost:8080/",
          "height": 34
        },
        "outputId": "cb5b8314-8be0-435d-8cc0-49890ff370e6"
      },
      "source": [
        "np.isneginf(result.fun)"
      ],
      "execution_count": 6,
      "outputs": [
        {
          "output_type": "execute_result",
          "data": {
            "text/plain": [
              "True"
            ]
          },
          "metadata": {
            "tags": []
          },
          "execution_count": 6
        }
      ]
    },
    {
      "cell_type": "code",
      "metadata": {
        "id": "9Ru5ip2PZJB1",
        "colab_type": "code",
        "colab": {
          "base_uri": "https://localhost:8080/",
          "height": 265
        },
        "outputId": "2c6f0148-6254-4c43-f790-d35af3872e40"
      },
      "source": [
        "fig = plt.figure()\n",
        "ax = fig.add_subplot(1, 1, 1)\n",
        "plt.plot(x,y, 'r')\n",
        "plt.plot(result.x, result.fun, 's')\n",
        "plt.show()"
      ],
      "execution_count": 7,
      "outputs": [
        {
          "output_type": "display_data",
          "data": {
            "image/png": "[encoded data removed]",
            "text/plain": [
              "<Figure size 432x288 with 1 Axes>"
            ]
          },
          "metadata": {
            "tags": [],
            "needs_background": "light"
          }
        }
      ]
    },
    {
      "cell_type": "code",
      "metadata": {
        "id": "FilHAQnZlLpo",
        "colab_type": "code",
        "colab": {
          "base_uri": "https://localhost:8080/",
          "height": 34
        },
        "outputId": "252709c6-8464-4443-bdf8-75214cdef911"
      },
      "source": [
        "# Nelder-Mead\n",
        "result = optimize.minimize(f1,x0=0,method=\"Nelder-Mead\", tol=0.001) \n",
        "x_min = result.x\n",
        "x_min"
      ],
      "execution_count": 8,
      "outputs": [
        {
          "output_type": "execute_result",
          "data": {
            "text/plain": [
              "array([0.])"
            ]
          },
          "metadata": {
            "tags": []
          },
          "execution_count": 8
        }
      ]
    },
    {
      "cell_type": "code",
      "metadata": {
        "id": "9kZoGwXgqXaC",
        "colab_type": "code",
        "colab": {
          "base_uri": "https://localhost:8080/",
          "height": 170
        },
        "outputId": "4df9f318-fb5a-42b2-8225-fb10e4aa5d99"
      },
      "source": [
        "result"
      ],
      "execution_count": 9,
      "outputs": [
        {
          "output_type": "execute_result",
          "data": {
            "text/plain": [
              " final_simplex: (array([[0.     ],\n",
              "       [0.00025]]), array([0.0000e+00, 1.5625e-11]))\n",
              "           fun: 0.0\n",
              "       message: 'Optimization terminated successfully.'\n",
              "          nfev: 2\n",
              "           nit: 1\n",
              "        status: 0\n",
              "       success: True\n",
              "             x: array([0.])"
            ]
          },
          "metadata": {
            "tags": []
          },
          "execution_count": 9
        }
      ]
    },
    {
      "cell_type": "code",
      "metadata": {
        "id": "cERrYl1yX-rr",
        "colab_type": "code",
        "colab": {
          "base_uri": "https://localhost:8080/",
          "height": 265
        },
        "outputId": "b15ec955-70e2-4043-9969-117056aec2d4"
      },
      "source": [
        "fig = plt.figure()\n",
        "ax = fig.add_subplot(1, 1, 1)\n",
        "plt.plot(x,y, 'r')\n",
        "plt.plot(result.x, result.fun, 's')\n",
        "plt.show()"
      ],
      "execution_count": 10,
      "outputs": [
        {
          "output_type": "display_data",
          "data": {
            "image/png": "[encoded data removed]",
            "text/plain": [
              "<Figure size 432x288 with 1 Axes>"
            ]
          },
          "metadata": {
            "tags": [],
            "needs_background": "light"
          }
        }
      ]
    },
    {
      "cell_type": "markdown",
      "metadata": {
        "id": "MXJ_aEwDhF3e",
        "colab_type": "text"
      },
      "source": [
        "**Function 2**: f(x) = | x - 0.2 |, x E [0, 1]"
      ]
    },
    {
      "cell_type": "code",
      "metadata": {
        "id": "eOBXVp-hbllQ",
        "colab_type": "code",
        "colab": {}
      },
      "source": [
        "def f2(x):\n",
        "  return abs(x-0.2)"
      ],
      "execution_count": 11,
      "outputs": []
    },
    {
      "cell_type": "code",
      "metadata": {
        "id": "IFisjajzgYh0",
        "colab_type": "code",
        "colab": {
          "base_uri": "https://localhost:8080/",
          "height": 265
        },
        "outputId": "495d23c0-0844-495a-a6a3-48f4a0e2390c"
      },
      "source": [
        "x = np.linspace(0,1,100)\n",
        "y = f2(x)\n",
        "fig = plt.figure()\n",
        "ax = fig.add_subplot(1, 1, 1)\n",
        "plt.plot(x,y, 'r')\n",
        "plt.show()"
      ],
      "execution_count": 12,
      "outputs": [
        {
          "output_type": "display_data",
          "data": {
            "image/png": "[encoded data removed]",
            "text/plain": [
              "<Figure size 432x288 with 1 Axes>"
            ]
          },
          "metadata": {
            "tags": [],
            "needs_background": "light"
          }
        }
      ]
    },
    {
      "cell_type": "code",
      "metadata": {
        "colab_type": "code",
        "id": "FA35uT0_gkyU",
        "colab": {
          "base_uri": "https://localhost:8080/",
          "height": 34
        },
        "outputId": "d7b648a3-f27e-454a-ee8a-dd9f1e1e0b2d"
      },
      "source": [
        "# Golden Section\n",
        "result = optimize.minimize_scalar(f2, [0, 1],method=\"golden\", tol=0.001) \n",
        "x_min = result.x\n",
        "x_min"
      ],
      "execution_count": 13,
      "outputs": [
        {
          "output_type": "execute_result",
          "data": {
            "text/plain": [
              "0.1999867785961652"
            ]
          },
          "metadata": {
            "tags": []
          },
          "execution_count": 13
        }
      ]
    },
    {
      "cell_type": "code",
      "metadata": {
        "id": "eHkLlCclgn61",
        "colab_type": "code",
        "colab": {
          "base_uri": "https://localhost:8080/",
          "height": 102
        },
        "outputId": "ff5b49d5-efe2-436e-cdff-b5a77da7e2bb"
      },
      "source": [
        "result"
      ],
      "execution_count": 14,
      "outputs": [
        {
          "output_type": "execute_result",
          "data": {
            "text/plain": [
              "     fun: 1.3221403834806633e-05\n",
              "    nfev: 24\n",
              "     nit: 19\n",
              " success: True\n",
              "       x: 0.1999867785961652"
            ]
          },
          "metadata": {
            "tags": []
          },
          "execution_count": 14
        }
      ]
    },
    {
      "cell_type": "code",
      "metadata": {
        "id": "wbAie0XYYseg",
        "colab_type": "code",
        "colab": {
          "base_uri": "https://localhost:8080/",
          "height": 265
        },
        "outputId": "b45c6aa5-e4ea-438c-d82c-6a9b9a8c190b"
      },
      "source": [
        "fig = plt.figure()\n",
        "ax = fig.add_subplot(1, 1, 1)\n",
        "plt.plot(x,y, 'r')\n",
        "plt.plot(result.x, result.fun, 's')\n",
        "plt.show()"
      ],
      "execution_count": 15,
      "outputs": [
        {
          "output_type": "display_data",
          "data": {
            "image/png": "[encoded data removed]",
            "text/plain": [
              "<Figure size 432x288 with 1 Axes>"
            ]
          },
          "metadata": {
            "tags": [],
            "needs_background": "light"
          }
        }
      ]
    },
    {
      "cell_type": "code",
      "metadata": {
        "id": "2FUS83nokk98",
        "colab_type": "code",
        "colab": {
          "base_uri": "https://localhost:8080/",
          "height": 204
        },
        "outputId": "286b6fc5-c42b-4356-e15d-c54dc411fa5d"
      },
      "source": [
        "# Nelder-Mead\n",
        "result = optimize.minimize(f2,x0=1, bounds=[0,1],method=\"Nelder-Mead\", tol=0.001) \n",
        "result"
      ],
      "execution_count": 16,
      "outputs": [
        {
          "output_type": "stream",
          "text": [
            "/usr/local/lib/python3.6/dist-packages/scipy/optimize/_minimize.py:522: RuntimeWarning: Method Nelder-Mead cannot handle constraints nor bounds.\n",
            "  RuntimeWarning)\n"
          ],
          "name": "stderr"
        },
        {
          "output_type": "execute_result",
          "data": {
            "text/plain": [
              " final_simplex: (array([[0.2       ],\n",
              "       [0.20078125]]), array([7.21644966e-16, 7.81250000e-04]))\n",
              "           fun: 7.216449660063518e-16\n",
              "       message: 'Optimization terminated successfully.'\n",
              "          nfev: 26\n",
              "           nit: 13\n",
              "        status: 0\n",
              "       success: True\n",
              "             x: array([0.2])"
            ]
          },
          "metadata": {
            "tags": []
          },
          "execution_count": 16
        }
      ]
    },
    {
      "cell_type": "code",
      "metadata": {
        "id": "R0yMBDcxY4F6",
        "colab_type": "code",
        "colab": {
          "base_uri": "https://localhost:8080/",
          "height": 265
        },
        "outputId": "b925c37b-2e3c-4147-c578-9c2b612d0d47"
      },
      "source": [
        "fig = plt.figure()\n",
        "ax = fig.add_subplot(1, 1, 1)\n",
        "plt.plot(x,y, 'r')\n",
        "plt.plot(result.x, result.fun, 's')\n",
        "plt.show()"
      ],
      "execution_count": 17,
      "outputs": [
        {
          "output_type": "display_data",
          "data": {
            "image/png": "[encoded data removed]",
            "text/plain": [
              "<Figure size 432x288 with 1 Axes>"
            ]
          },
          "metadata": {
            "tags": [],
            "needs_background": "light"
          }
        }
      ]
    },
    {
      "cell_type": "markdown",
      "metadata": {
        "id": "RjXArd1Or08_",
        "colab_type": "text"
      },
      "source": [
        "**Function 3**: x*sin(1/x), x E [0.01, 1]"
      ]
    },
    {
      "cell_type": "code",
      "metadata": {
        "id": "D9tCzvvsrqpC",
        "colab_type": "code",
        "colab": {}
      },
      "source": [
        "def f3(x):\n",
        "  return x*np.sin(1/x)"
      ],
      "execution_count": 18,
      "outputs": []
    },
    {
      "cell_type": "code",
      "metadata": {
        "id": "_JzduQR8sFIF",
        "colab_type": "code",
        "colab": {
          "base_uri": "https://localhost:8080/",
          "height": 265
        },
        "outputId": "d217d6fb-d5aa-48c9-e3ec-0bff5bc47eb1"
      },
      "source": [
        "x = np.linspace(0.01,1,100)\n",
        "y = f3(x)\n",
        "fig = plt.figure()\n",
        "ax = fig.add_subplot(1, 1, 1)\n",
        "plt.plot(x,y, 'r')\n",
        "plt.show()"
      ],
      "execution_count": 19,
      "outputs": [
        {
          "output_type": "display_data",
          "data": {
            "image/png": "[encoded data removed]",
            "text/plain": [
              "<Figure size 432x288 with 1 Axes>"
            ]
          },
          "metadata": {
            "tags": [],
            "needs_background": "light"
          }
        }
      ]
    },
    {
      "cell_type": "code",
      "metadata": {
        "id": "GBDlH2oBsLhn",
        "colab_type": "code",
        "colab": {
          "base_uri": "https://localhost:8080/",
          "height": 34
        },
        "outputId": "b3524db2-8365-4675-f011-51fd02434f53"
      },
      "source": [
        "# Golden Section\n",
        "result = optimize.minimize_scalar(f3, [0.2, 1],method=\"golden\", tol=0.001) \n",
        "x_min = result.x\n",
        "x_min"
      ],
      "execution_count": 20,
      "outputs": [
        {
          "output_type": "execute_result",
          "data": {
            "text/plain": [
              "0.22258449083232817"
            ]
          },
          "metadata": {
            "tags": []
          },
          "execution_count": 20
        }
      ]
    },
    {
      "cell_type": "code",
      "metadata": {
        "id": "3tKY74Z1sXRM",
        "colab_type": "code",
        "colab": {
          "base_uri": "https://localhost:8080/",
          "height": 102
        },
        "outputId": "b9abc93b-85bf-46d7-97de-b71be2fc91ee"
      },
      "source": [
        "result"
      ],
      "execution_count": 21,
      "outputs": [
        {
          "output_type": "execute_result",
          "data": {
            "text/plain": [
              "     fun: -0.21723356977335542\n",
              "    nfev: 23\n",
              "     nit: 18\n",
              " success: True\n",
              "       x: 0.22258449083232817"
            ]
          },
          "metadata": {
            "tags": []
          },
          "execution_count": 21
        }
      ]
    },
    {
      "cell_type": "code",
      "metadata": {
        "id": "d17R8qmMZAfO",
        "colab_type": "code",
        "colab": {
          "base_uri": "https://localhost:8080/",
          "height": 265
        },
        "outputId": "aa8fe86a-7cd5-457a-d621-0815644dd6b4"
      },
      "source": [
        "fig = plt.figure()\n",
        "ax = fig.add_subplot(1, 1, 1)\n",
        "plt.plot(x,y, 'r')\n",
        "plt.plot(result.x, result.fun, 's')\n",
        "plt.show()"
      ],
      "execution_count": 22,
      "outputs": [
        {
          "output_type": "display_data",
          "data": {
            "image/png": "[encoded data removed]",
            "text/plain": [
              "<Figure size 432x288 with 1 Axes>"
            ]
          },
          "metadata": {
            "tags": [],
            "needs_background": "light"
          }
        }
      ]
    },
    {
      "cell_type": "code",
      "metadata": {
        "id": "QAttu_-FsYDc",
        "colab_type": "code",
        "colab": {
          "base_uri": "https://localhost:8080/",
          "height": 204
        },
        "outputId": "1f360620-192a-4c58-bd57-20b3534d9003"
      },
      "source": [
        "# Nelder-Mead\n",
        "result = optimize.minimize(fun=f3, x0=1,method=\"Nelder-Mead\", tol=0.001, bounds=[0.01,1]) \n",
        "result"
      ],
      "execution_count": 23,
      "outputs": [
        {
          "output_type": "stream",
          "text": [
            "/usr/local/lib/python3.6/dist-packages/scipy/optimize/_minimize.py:522: RuntimeWarning: Method Nelder-Mead cannot handle constraints nor bounds.\n",
            "  RuntimeWarning)\n"
          ],
          "name": "stderr"
        },
        {
          "output_type": "execute_result",
          "data": {
            "text/plain": [
              " final_simplex: (array([[0.22265625],\n",
              "       [0.221875  ]]), array([-0.21723311, -0.21721348]))\n",
              "           fun: -0.21723311119612687\n",
              "       message: 'Optimization terminated successfully.'\n",
              "          nfev: 26\n",
              "           nit: 13\n",
              "        status: 0\n",
              "       success: True\n",
              "             x: array([0.22265625])"
            ]
          },
          "metadata": {
            "tags": []
          },
          "execution_count": 23
        }
      ]
    },
    {
      "cell_type": "code",
      "metadata": {
        "id": "aNejZ4pGZDYY",
        "colab_type": "code",
        "colab": {
          "base_uri": "https://localhost:8080/",
          "height": 265
        },
        "outputId": "aa15e4ce-d912-4b44-e164-0beef3d9fc2d"
      },
      "source": [
        "fig = plt.figure()\n",
        "ax = fig.add_subplot(1, 1, 1)\n",
        "plt.plot(x,y, 'r')\n",
        "plt.plot(result.x, result.fun, 's')\n",
        "plt.show()"
      ],
      "execution_count": 24,
      "outputs": [
        {
          "output_type": "display_data",
          "data": {
            "image/png": "[encoded data removed]",
            "text/plain": [
              "<Figure size 432x288 with 1 Axes>"
            ]
          },
          "metadata": {
            "tags": [],
            "needs_background": "light"
          }
        }
      ]
    },
    {
      "cell_type": "markdown",
      "metadata": {
        "id": "rcbvK2FAxbh9",
        "colab_type": "text"
      },
      "source": [
        "# **Approximation**"
      ]
    },
    {
      "cell_type": "code",
      "metadata": {
        "id": "-tR_Q3r4xgj-",
        "colab_type": "code",
        "colab": {}
      },
      "source": [
        "def linear_fun(x, alpha, beta):\n",
        "  return alpha*x+beta"
      ],
      "execution_count": 25,
      "outputs": []
    },
    {
      "cell_type": "code",
      "metadata": {
        "id": "hqOGGCEz57yV",
        "colab_type": "code",
        "colab": {}
      },
      "source": [
        "def rational_fun(x, alpha, beta):\n",
        "  return alpha/(1+beta*x)"
      ],
      "execution_count": 26,
      "outputs": []
    },
    {
      "cell_type": "code",
      "metadata": {
        "id": "kYvIGem5xucy",
        "colab_type": "code",
        "colab": {
          "base_uri": "https://localhost:8080/",
          "height": 34
        },
        "outputId": "a4a25e08-4e69-4d80-a2e2-a43cb4bfbd98"
      },
      "source": [
        "alpha = np.random.rand()\n",
        "beta = np.random.rand()\n",
        "noise = np.random.normal(0,1,101)\n",
        "print(alpha, beta)"
      ],
      "execution_count": 27,
      "outputs": [
        {
          "output_type": "stream",
          "text": [
            "0.24965098804120334 0.3710439916260174\n"
          ],
          "name": "stdout"
        }
      ]
    },
    {
      "cell_type": "code",
      "metadata": {
        "id": "UO1Z8r0AxxPy",
        "colab_type": "code",
        "colab": {}
      },
      "source": [
        "k = [*range(0, 101, 1)]\n",
        "x = np.array([x/100 for x in k])\n",
        "y = alpha*x + beta + noise"
      ],
      "execution_count": 28,
      "outputs": []
    },
    {
      "cell_type": "code",
      "metadata": {
        "id": "VYbYvEVAx13o",
        "colab_type": "code",
        "colab": {
          "base_uri": "https://localhost:8080/",
          "height": 34
        },
        "outputId": "6bc26e3a-5cd6-4eca-e1be-d20486d3795e"
      },
      "source": [
        "A = np.c_[x, np.ones(101)]\n",
        "p, residuals, rank, svals = np.linalg.lstsq(A, y, rcond=None)\n",
        "print(p)"
      ],
      "execution_count": 29,
      "outputs": [
        {
          "output_type": "stream",
          "text": [
            "[1.03996055 0.04901661]\n"
          ],
          "name": "stdout"
        }
      ]
    },
    {
      "cell_type": "code",
      "metadata": {
        "id": "c-AeL9IWx6RC",
        "colab_type": "code",
        "colab": {
          "base_uri": "https://localhost:8080/",
          "height": 282
        },
        "outputId": "ae079b0f-5b06-4313-c41a-fa8f235d6320"
      },
      "source": [
        "fig, ax = plt.subplots(1, 1)\n",
        "ax.plot(x, y, 'ob', label='data')\n",
        "ax.plot(x, linear_fun(x, p[0],p[1]), '-k', lw=2, label='linear fit')\n",
        "ax.legend()"
      ],
      "execution_count": 30,
      "outputs": [
        {
          "output_type": "execute_result",
          "data": {
            "text/plain": [
              "<matplotlib.legend.Legend at 0x7f94bae5c9e8>"
            ]
          },
          "metadata": {
            "tags": []
          },
          "execution_count": 30
        },
        {
          "output_type": "display_data",
          "data": {
            "image/png": "[encoded data removed]",
            "text/plain": [
              "<Figure size 432x288 with 1 Axes>"
            ]
          },
          "metadata": {
            "tags": [],
            "needs_background": "light"
          }
        }
      ]
    },
    {
      "cell_type": "code",
      "metadata": {
        "id": "EU2sQy9XyCf1",
        "colab_type": "code",
        "colab": {
          "base_uri": "https://localhost:8080/",
          "height": 34
        },
        "outputId": "c308cc17-af27-4c4d-e8bd-ea3cf774b074"
      },
      "source": [
        "p2 = optimize.curve_fit(rational_fun, x, y,method='lm')[0]\n",
        "p2"
      ],
      "execution_count": 31,
      "outputs": [
        {
          "output_type": "execute_result",
          "data": {
            "text/plain": [
              "array([ 0.27228055, -0.82873314])"
            ]
          },
          "metadata": {
            "tags": []
          },
          "execution_count": 31
        }
      ]
    },
    {
      "cell_type": "code",
      "metadata": {
        "id": "uXPE1qDe0Hb6",
        "colab_type": "code",
        "colab": {
          "base_uri": "https://localhost:8080/",
          "height": 282
        },
        "outputId": "d37fe0c0-ee85-4599-9ecd-2edf3ebc2465"
      },
      "source": [
        "fig, ax = plt.subplots(1, 1)\n",
        "ax.plot(x, y, 'ob', label='data')\n",
        "ax.plot(x, rational_fun(x, p2[0],p2[1]), '-k', lw=2, label='curve fit')\n",
        "ax.legend()"
      ],
      "execution_count": 32,
      "outputs": [
        {
          "output_type": "execute_result",
          "data": {
            "text/plain": [
              "<matplotlib.legend.Legend at 0x7f94baff6198>"
            ]
          },
          "metadata": {
            "tags": []
          },
          "execution_count": 32
        },
        {
          "output_type": "display_data",
          "data": {
            "image/png": "[encoded data removed]",
            "text/plain": [
              "<Figure size 432x288 with 1 Axes>"
            ]
          },
          "metadata": {
            "tags": [],
            "needs_background": "light"
          }
        }
      ]
    },
    {
      "cell_type": "code",
      "metadata": {
        "id": "FK_Epoo16YZw",
        "colab_type": "code",
        "colab": {}
      },
      "source": [
        ""
      ],
      "execution_count": 32,
      "outputs": []
    }
  ]
}