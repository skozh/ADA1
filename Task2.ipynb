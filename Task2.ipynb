{
  "nbformat": 4,
  "nbformat_minor": 0,
  "metadata": {
    "colab": {
      "name": "Task2.ipynb",
      "provenance": [],
      "collapsed_sections": [],
      "authorship_tag": "ABX9TyNk69ADeq4SzstsFNEMbq7I",
      "include_colab_link": true
    },
    "kernelspec": {
      "name": "python3",
      "display_name": "Python 3"
    }
  },
  "cells": [
    {
      "cell_type": "markdown",
      "metadata": {
        "id": "view-in-github",
        "colab_type": "text"
      },
      "source": [
        "<a href=\"https://colab.research.google.com/github/skozh/ADA1/blob/master/Task2.ipynb\" target=\"_parent\"><img src=\"https://colab.research.google.com/assets/colab-badge.svg\" alt=\"Open In Colab\"/></a>"
      ]
    },
    {
      "cell_type": "markdown",
      "metadata": {
        "id": "_ClU-7sPxKBM",
        "colab_type": "text"
      },
      "source": [
        "## **Minimization**"
      ]
    },
    {
      "cell_type": "code",
      "metadata": {
        "id": "MUgFyBCbQV1M",
        "colab_type": "code",
        "colab": {}
      },
      "source": [
        "import numpy as np\n",
        "import matplotlib.pyplot as plt\n",
        "from scipy import optimize"
      ],
      "execution_count": 1,
      "outputs": []
    },
    {
      "cell_type": "markdown",
      "metadata": {
        "id": "qMx5tv2DgtHm",
        "colab_type": "text"
      },
      "source": [
        "**Function 1** : f(x) = x^3, x E [0,1]\n",
        "\n",
        "---\n",
        "\n"
      ]
    },
    {
      "cell_type": "code",
      "metadata": {
        "id": "YjczNxTVQams",
        "colab_type": "code",
        "colab": {}
      },
      "source": [
        "def f1(x):\n",
        "  return x*x*x"
      ],
      "execution_count": 2,
      "outputs": []
    },
    {
      "cell_type": "code",
      "metadata": {
        "id": "inTMerBcRfYn",
        "colab_type": "code",
        "colab": {
          "base_uri": "https://localhost:8080/",
          "height": 265
        },
        "outputId": "4802cfd6-fca4-4d4b-f0f5-c39ba937dc46"
      },
      "source": [
        "x = np.linspace(0,1,100)\n",
        "y = f1(x)\n",
        "fig = plt.figure()\n",
        "ax = fig.add_subplot(1, 1, 1)\n",
        "plt.plot(x,y, 'r')\n",
        "plt.show()"
      ],
      "execution_count": 3,
      "outputs": [
        {
          "output_type": "display_data",
          "data": {
            "image/png": "[encoded data removed]",
            "text/plain": [
              "<Figure size 432x288 with 1 Axes>"
            ]
          },
          "metadata": {
            "tags": [],
            "needs_background": "light"
          }
        }
      ]
    },
    {
      "cell_type": "code",
      "metadata": {
        "id": "B00waahpQgeo",
        "colab_type": "code",
        "colab": {
          "base_uri": "https://localhost:8080/",
          "height": 102
        },
        "outputId": "c59b9bf3-844c-43ce-ddba-e3f4249e935c"
      },
      "source": [
        "# Golden Section\n",
        "result = optimize.minimize_scalar(f1,[0,1], method=\"golden\",tol=0.001) \n",
        "result"
      ],
      "execution_count": 4,
      "outputs": [
        {
          "output_type": "execute_result",
          "data": {
            "text/plain": [
              "     fun: -inf\n",
              "    nfev: 509\n",
              "     nit: 14\n",
              " success: True\n",
              "       x: -5.647395098620533e+102"
            ]
          },
          "metadata": {
            "tags": []
          },
          "execution_count": 4
        }
      ]
    },
    {
      "cell_type": "code",
      "metadata": {
        "id": "9Ru5ip2PZJB1",
        "colab_type": "code",
        "colab": {
          "base_uri": "https://localhost:8080/",
          "height": 265
        },
        "outputId": "d14eb772-ec55-4b14-f365-ec655a32418c"
      },
      "source": [
        "fig = plt.figure()\n",
        "ax = fig.add_subplot(1, 1, 1)\n",
        "plt.plot(x,y, 'r')\n",
        "plt.plot(result.x, result.fun, 's')\n",
        "plt.show()"
      ],
      "execution_count": 5,
      "outputs": [
        {
          "output_type": "display_data",
          "data": {
            "image/png": "[encoded data removed]",
            "text/plain": [
              "<Figure size 432x288 with 1 Axes>"
            ]
          },
          "metadata": {
            "tags": [],
            "needs_background": "light"
          }
        }
      ]
    },
    {
      "cell_type": "code",
      "metadata": {
        "id": "FilHAQnZlLpo",
        "colab_type": "code",
        "colab": {
          "base_uri": "https://localhost:8080/",
          "height": 170
        },
        "outputId": "e8797b4a-0a8f-44ba-acae-b7548e624b52"
      },
      "source": [
        "# Nelder-Mead\n",
        "result = optimize.minimize(f1,x0=0,method=\"Nelder-Mead\", tol=0.001) \n",
        "result"
      ],
      "execution_count": 6,
      "outputs": [
        {
          "output_type": "execute_result",
          "data": {
            "text/plain": [
              " final_simplex: (array([[0.     ],\n",
              "       [0.00025]]), array([0.0000e+00, 1.5625e-11]))\n",
              "           fun: 0.0\n",
              "       message: 'Optimization terminated successfully.'\n",
              "          nfev: 2\n",
              "           nit: 1\n",
              "        status: 0\n",
              "       success: True\n",
              "             x: array([0.])"
            ]
          },
          "metadata": {
            "tags": []
          },
          "execution_count": 6
        }
      ]
    },
    {
      "cell_type": "code",
      "metadata": {
        "id": "cERrYl1yX-rr",
        "colab_type": "code",
        "colab": {
          "base_uri": "https://localhost:8080/",
          "height": 265
        },
        "outputId": "175079b1-0508-46e6-e1fb-ab99deeb7fe7"
      },
      "source": [
        "fig = plt.figure()\n",
        "ax = fig.add_subplot(1, 1, 1)\n",
        "plt.plot(x,y, 'r')\n",
        "plt.plot(result.x, result.fun, 's')\n",
        "plt.show()"
      ],
      "execution_count": 7,
      "outputs": [
        {
          "output_type": "display_data",
          "data": {
            "image/png": "[encoded data removed]",
            "text/plain": [
              "<Figure size 432x288 with 1 Axes>"
            ]
          },
          "metadata": {
            "tags": [],
            "needs_background": "light"
          }
        }
      ]
    },
    {
      "cell_type": "markdown",
      "metadata": {
        "id": "MXJ_aEwDhF3e",
        "colab_type": "text"
      },
      "source": [
        "**Function 2**: f(x) = | x - 0.2 |, x E [0, 1]"
      ]
    },
    {
      "cell_type": "code",
      "metadata": {
        "id": "eOBXVp-hbllQ",
        "colab_type": "code",
        "colab": {}
      },
      "source": [
        "def f2(x):\n",
        "  return abs(x-0.2)"
      ],
      "execution_count": 8,
      "outputs": []
    },
    {
      "cell_type": "code",
      "metadata": {
        "id": "IFisjajzgYh0",
        "colab_type": "code",
        "colab": {
          "base_uri": "https://localhost:8080/",
          "height": 265
        },
        "outputId": "cc705034-eea3-45b7-e365-7876e2364737"
      },
      "source": [
        "x = np.linspace(0,1,100)\n",
        "y = f2(x)\n",
        "fig = plt.figure()\n",
        "ax = fig.add_subplot(1, 1, 1)\n",
        "plt.plot(x,y, 'r')\n",
        "plt.show()"
      ],
      "execution_count": 9,
      "outputs": [
        {
          "output_type": "display_data",
          "data": {
            "image/png": "[encoded data removed]",
            "text/plain": [
              "<Figure size 432x288 with 1 Axes>"
            ]
          },
          "metadata": {
            "tags": [],
            "needs_background": "light"
          }
        }
      ]
    },
    {
      "cell_type": "code",
      "metadata": {
        "colab_type": "code",
        "id": "FA35uT0_gkyU",
        "colab": {
          "base_uri": "https://localhost:8080/",
          "height": 102
        },
        "outputId": "3847d772-3354-4f4e-8538-39b6080f43e8"
      },
      "source": [
        "# Golden Section\n",
        "result = optimize.minimize_scalar(f2, [0, 1],method=\"golden\", tol=0.001) \n",
        "result"
      ],
      "execution_count": 10,
      "outputs": [
        {
          "output_type": "execute_result",
          "data": {
            "text/plain": [
              "     fun: 1.3221403834806633e-05\n",
              "    nfev: 24\n",
              "     nit: 19\n",
              " success: True\n",
              "       x: 0.1999867785961652"
            ]
          },
          "metadata": {
            "tags": []
          },
          "execution_count": 10
        }
      ]
    },
    {
      "cell_type": "code",
      "metadata": {
        "id": "wbAie0XYYseg",
        "colab_type": "code",
        "colab": {
          "base_uri": "https://localhost:8080/",
          "height": 265
        },
        "outputId": "57706785-49e7-4618-b919-5fd4e34a789b"
      },
      "source": [
        "fig = plt.figure()\n",
        "ax = fig.add_subplot(1, 1, 1)\n",
        "plt.plot(x,y, 'r')\n",
        "plt.plot(result.x, result.fun, 's')\n",
        "plt.show()"
      ],
      "execution_count": 11,
      "outputs": [
        {
          "output_type": "display_data",
          "data": {
            "image/png": "[encoded data removed]",
            "text/plain": [
              "<Figure size 432x288 with 1 Axes>"
            ]
          },
          "metadata": {
            "tags": [],
            "needs_background": "light"
          }
        }
      ]
    },
    {
      "cell_type": "code",
      "metadata": {
        "id": "2FUS83nokk98",
        "colab_type": "code",
        "colab": {
          "base_uri": "https://localhost:8080/",
          "height": 170
        },
        "outputId": "ba24893f-de90-418a-9bdd-9471ac512e49"
      },
      "source": [
        "# Nelder-Mead\n",
        "result = optimize.minimize(f2,x0=1,method=\"Nelder-Mead\", tol=0.001) \n",
        "result"
      ],
      "execution_count": 12,
      "outputs": [
        {
          "output_type": "execute_result",
          "data": {
            "text/plain": [
              " final_simplex: (array([[0.2       ],\n",
              "       [0.20078125]]), array([7.21644966e-16, 7.81250000e-04]))\n",
              "           fun: 7.216449660063518e-16\n",
              "       message: 'Optimization terminated successfully.'\n",
              "          nfev: 26\n",
              "           nit: 13\n",
              "        status: 0\n",
              "       success: True\n",
              "             x: array([0.2])"
            ]
          },
          "metadata": {
            "tags": []
          },
          "execution_count": 12
        }
      ]
    },
    {
      "cell_type": "code",
      "metadata": {
        "id": "R0yMBDcxY4F6",
        "colab_type": "code",
        "colab": {
          "base_uri": "https://localhost:8080/",
          "height": 265
        },
        "outputId": "482c381d-fc58-4714-f308-720270896796"
      },
      "source": [
        "fig = plt.figure()\n",
        "ax = fig.add_subplot(1, 1, 1)\n",
        "plt.plot(x,y, 'r')\n",
        "plt.plot(result.x, result.fun, 's')\n",
        "plt.show()"
      ],
      "execution_count": 13,
      "outputs": [
        {
          "output_type": "display_data",
          "data": {
            "image/png": "[encoded data removed]",
            "text/plain": [
              "<Figure size 432x288 with 1 Axes>"
            ]
          },
          "metadata": {
            "tags": [],
            "needs_background": "light"
          }
        }
      ]
    },
    {
      "cell_type": "markdown",
      "metadata": {
        "id": "RjXArd1Or08_",
        "colab_type": "text"
      },
      "source": [
        "**Function 3**: x*sin(1/x), x E [0.01, 1]"
      ]
    },
    {
      "cell_type": "code",
      "metadata": {
        "id": "D9tCzvvsrqpC",
        "colab_type": "code",
        "colab": {}
      },
      "source": [
        "def f3(x):\n",
        "  return x*np.sin(1/x)"
      ],
      "execution_count": 14,
      "outputs": []
    },
    {
      "cell_type": "code",
      "metadata": {
        "id": "_JzduQR8sFIF",
        "colab_type": "code",
        "colab": {
          "base_uri": "https://localhost:8080/",
          "height": 265
        },
        "outputId": "5b6ba551-b502-4d2e-eadb-75dd9c60d839"
      },
      "source": [
        "x = np.linspace(0.01,1,100)\n",
        "y = f3(x)\n",
        "fig = plt.figure()\n",
        "ax = fig.add_subplot(1, 1, 1)\n",
        "plt.plot(x,y, 'r')\n",
        "plt.show()"
      ],
      "execution_count": 15,
      "outputs": [
        {
          "output_type": "display_data",
          "data": {
            "image/png": "[encoded data removed]",
            "text/plain": [
              "<Figure size 432x288 with 1 Axes>"
            ]
          },
          "metadata": {
            "tags": [],
            "needs_background": "light"
          }
        }
      ]
    },
    {
      "cell_type": "code",
      "metadata": {
        "id": "GBDlH2oBsLhn",
        "colab_type": "code",
        "colab": {
          "base_uri": "https://localhost:8080/",
          "height": 102
        },
        "outputId": "d51af299-b86e-4079-9154-48ec5379269f"
      },
      "source": [
        "# Golden Section\n",
        "result = optimize.minimize_scalar(f3, [0.2, 1],method=\"golden\", tol=0.001) \n",
        "result"
      ],
      "execution_count": 16,
      "outputs": [
        {
          "output_type": "execute_result",
          "data": {
            "text/plain": [
              "     fun: -0.21723356977335542\n",
              "    nfev: 23\n",
              "     nit: 18\n",
              " success: True\n",
              "       x: 0.22258449083232817"
            ]
          },
          "metadata": {
            "tags": []
          },
          "execution_count": 16
        }
      ]
    },
    {
      "cell_type": "code",
      "metadata": {
        "id": "d17R8qmMZAfO",
        "colab_type": "code",
        "colab": {
          "base_uri": "https://localhost:8080/",
          "height": 265
        },
        "outputId": "9e20288f-fe62-4f1d-d537-226903412354"
      },
      "source": [
        "fig = plt.figure()\n",
        "ax = fig.add_subplot(1, 1, 1)\n",
        "plt.plot(x,y, 'r')\n",
        "plt.plot(result.x, result.fun, 's')\n",
        "plt.show()"
      ],
      "execution_count": 17,
      "outputs": [
        {
          "output_type": "display_data",
          "data": {
            "image/png": "[encoded data removed]",
            "text/plain": [
              "<Figure size 432x288 with 1 Axes>"
            ]
          },
          "metadata": {
            "tags": [],
            "needs_background": "light"
          }
        }
      ]
    },
    {
      "cell_type": "code",
      "metadata": {
        "id": "QAttu_-FsYDc",
        "colab_type": "code",
        "colab": {
          "base_uri": "https://localhost:8080/",
          "height": 170
        },
        "outputId": "df512121-ea9c-4674-92e1-0a7646da5ed6"
      },
      "source": [
        "# Nelder-Mead\n",
        "result = optimize.minimize(fun=f3, x0=1,method=\"Nelder-Mead\", tol=0.001) \n",
        "result"
      ],
      "execution_count": 18,
      "outputs": [
        {
          "output_type": "execute_result",
          "data": {
            "text/plain": [
              " final_simplex: (array([[0.22265625],\n",
              "       [0.221875  ]]), array([-0.21723311, -0.21721348]))\n",
              "           fun: -0.21723311119612687\n",
              "       message: 'Optimization terminated successfully.'\n",
              "          nfev: 26\n",
              "           nit: 13\n",
              "        status: 0\n",
              "       success: True\n",
              "             x: array([0.22265625])"
            ]
          },
          "metadata": {
            "tags": []
          },
          "execution_count": 18
        }
      ]
    },
    {
      "cell_type": "code",
      "metadata": {
        "id": "aNejZ4pGZDYY",
        "colab_type": "code",
        "colab": {
          "base_uri": "https://localhost:8080/",
          "height": 265
        },
        "outputId": "feaa7e74-3771-452b-fb84-abce956b5933"
      },
      "source": [
        "fig = plt.figure()\n",
        "ax = fig.add_subplot(1, 1, 1)\n",
        "plt.plot(x,y, 'r')\n",
        "plt.plot(result.x, result.fun, 's')\n",
        "plt.show()"
      ],
      "execution_count": 19,
      "outputs": [
        {
          "output_type": "display_data",
          "data": {
            "image/png": "[encoded data removed]",
            "text/plain": [
              "<Figure size 432x288 with 1 Axes>"
            ]
          },
          "metadata": {
            "tags": [],
            "needs_background": "light"
          }
        }
      ]
    },
    {
      "cell_type": "markdown",
      "metadata": {
        "id": "rcbvK2FAxbh9",
        "colab_type": "text"
      },
      "source": [
        "# **Approximation**"
      ]
    },
    {
      "cell_type": "code",
      "metadata": {
        "id": "-tR_Q3r4xgj-",
        "colab_type": "code",
        "colab": {}
      },
      "source": [
        "def linear_fun(x, alpha, beta):\n",
        "  return alpha*x+beta"
      ],
      "execution_count": 20,
      "outputs": []
    },
    {
      "cell_type": "code",
      "metadata": {
        "id": "hqOGGCEz57yV",
        "colab_type": "code",
        "colab": {}
      },
      "source": [
        "def rational_fun(x, alpha, beta):\n",
        "  return alpha/(1+beta*x)"
      ],
      "execution_count": 21,
      "outputs": []
    },
    {
      "cell_type": "code",
      "metadata": {
        "id": "kYvIGem5xucy",
        "colab_type": "code",
        "colab": {
          "base_uri": "https://localhost:8080/",
          "height": 34
        },
        "outputId": "df553926-dd39-43b5-9255-3ba4e6f9f538"
      },
      "source": [
        "alpha = np.random.rand()\n",
        "beta = np.random.rand()\n",
        "noise = np.random.normal(0,1,101)\n",
        "print(alpha, beta)"
      ],
      "execution_count": 22,
      "outputs": [
        {
          "output_type": "stream",
          "text": [
            "0.27628109174699855 0.987268648107834\n"
          ],
          "name": "stdout"
        }
      ]
    },
    {
      "cell_type": "code",
      "metadata": {
        "id": "UO1Z8r0AxxPy",
        "colab_type": "code",
        "colab": {}
      },
      "source": [
        "k = [*range(0, 101, 1)]\n",
        "x = np.array([x/100 for x in k])\n",
        "y = alpha*x + beta + noise"
      ],
      "execution_count": 23,
      "outputs": []
    },
    {
      "cell_type": "code",
      "metadata": {
        "id": "-KmmeLr_AR1J",
        "colab_type": "code",
        "colab": {}
      },
      "source": [
        "def objective(params):\n",
        "  alpha, beta = params\n",
        "  return np.sum(((alpha*x+beta)-y)**2)"
      ],
      "execution_count": 24,
      "outputs": []
    },
    {
      "cell_type": "markdown",
      "metadata": {
        "id": "2ILdLQI64FuY",
        "colab_type": "text"
      },
      "source": [
        "**Nelder-Mead**"
      ]
    },
    {
      "cell_type": "code",
      "metadata": {
        "id": "rIONZDSIAcKV",
        "colab_type": "code",
        "colab": {
          "base_uri": "https://localhost:8080/",
          "height": 187
        },
        "outputId": "51d620b5-f3c7-4dc1-dd87-dd14ff9c3b0d"
      },
      "source": [
        "initial = [0,0]\n",
        "result = optimize.minimize(fun=objective, x0=initial,method=\"Nelder-Mead\", tol=0.001) \n",
        "result"
      ],
      "execution_count": 25,
      "outputs": [
        {
          "output_type": "execute_result",
          "data": {
            "text/plain": [
              " final_simplex: (array([[-0.30795287,  1.28766987],\n",
              "       [-0.30820281,  1.28760835],\n",
              "       [-0.30891873,  1.2884324 ]]), array([108.1042191 , 108.10422282, 108.10422391]))\n",
              "           fun: 108.10421909522823\n",
              "       message: 'Optimization terminated successfully.'\n",
              "          nfev: 113\n",
              "           nit: 58\n",
              "        status: 0\n",
              "       success: True\n",
              "             x: array([-0.30795287,  1.28766987])"
            ]
          },
          "metadata": {
            "tags": []
          },
          "execution_count": 25
        }
      ]
    },
    {
      "cell_type": "code",
      "metadata": {
        "id": "c-AeL9IWx6RC",
        "colab_type": "code",
        "colab": {
          "base_uri": "https://localhost:8080/",
          "height": 282
        },
        "outputId": "bbd96941-6078-41f8-88b2-dbf92421f9e6"
      },
      "source": [
        "fig, ax = plt.subplots(1, 1)\n",
        "ax.plot(x, y, 'ob', label='data')\n",
        "ax.plot(x, linear_fun(x, result.x[0],result.x[1]), '-k', lw=2, label='linear fit')\n",
        "ax.legend()"
      ],
      "execution_count": 26,
      "outputs": [
        {
          "output_type": "execute_result",
          "data": {
            "text/plain": [
              "<matplotlib.legend.Legend at 0x7fd5ec4a15f8>"
            ]
          },
          "metadata": {
            "tags": []
          },
          "execution_count": 26
        },
        {
          "output_type": "display_data",
          "data": {
            "image/png": "[encoded data removed]",
            "text/plain": [
              "<Figure size 432x288 with 1 Axes>"
            ]
          },
          "metadata": {
            "tags": [],
            "needs_background": "light"
          }
        }
      ]
    },
    {
      "cell_type": "code",
      "metadata": {
        "id": "EU2sQy9XyCf1",
        "colab_type": "code",
        "colab": {}
      },
      "source": [
        "def objective2(params):\n",
        "  alpha, beta = params\n",
        "  return np.sum(((alpha/(1+beta*x))-y)**2)"
      ],
      "execution_count": 27,
      "outputs": []
    },
    {
      "cell_type": "code",
      "metadata": {
        "id": "JvSZ5Lr6BDxA",
        "colab_type": "code",
        "colab": {
          "base_uri": "https://localhost:8080/",
          "height": 187
        },
        "outputId": "37bc4d8f-40ad-4dbe-d33b-289d44139afa"
      },
      "source": [
        "initial = [0,0]\n",
        "result = optimize.minimize(fun=objective2, x0=initial,method=\"Nelder-Mead\", tol=0.001) \n",
        "result"
      ],
      "execution_count": 28,
      "outputs": [
        {
          "output_type": "execute_result",
          "data": {
            "text/plain": [
              " final_simplex: (array([[1.2997688 , 0.30697796],\n",
              "       [1.30002771, 0.30775305],\n",
              "       [1.30072565, 0.30791127]]), array([108.11158082, 108.11158588, 108.11158925]))\n",
              "           fun: 108.1115808203243\n",
              "       message: 'Optimization terminated successfully.'\n",
              "          nfev: 113\n",
              "           nit: 59\n",
              "        status: 0\n",
              "       success: True\n",
              "             x: array([1.2997688 , 0.30697796])"
            ]
          },
          "metadata": {
            "tags": []
          },
          "execution_count": 28
        }
      ]
    },
    {
      "cell_type": "code",
      "metadata": {
        "id": "uXPE1qDe0Hb6",
        "colab_type": "code",
        "colab": {
          "base_uri": "https://localhost:8080/",
          "height": 282
        },
        "outputId": "e35ee4b5-8ba8-442d-b8af-511c6d8cf586"
      },
      "source": [
        "fig, ax = plt.subplots(1, 1)\n",
        "ax.plot(x, y, 'ob', label='data')\n",
        "ax.plot(x, rational_fun(x, result.x[0],result.x[1]), '-k', lw=2, label='curve fit')\n",
        "ax.legend()"
      ],
      "execution_count": 29,
      "outputs": [
        {
          "output_type": "execute_result",
          "data": {
            "text/plain": [
              "<matplotlib.legend.Legend at 0x7fd5ec57ada0>"
            ]
          },
          "metadata": {
            "tags": []
          },
          "execution_count": 29
        },
        {
          "output_type": "display_data",
          "data": {
            "image/png": "[encoded data removed]",
            "text/plain": [
              "<Figure size 432x288 with 1 Axes>"
            ]
          },
          "metadata": {
            "tags": [],
            "needs_background": "light"
          }
        }
      ]
    },
    {
      "cell_type": "markdown",
      "metadata": {
        "id": "dOOfrChg4Mzn",
        "colab_type": "text"
      },
      "source": [
        "**Gauss Method**"
      ]
    },
    {
      "cell_type": "code",
      "metadata": {
        "id": "_niy1e7rS369",
        "colab_type": "code",
        "colab": {}
      },
      "source": [
        "def GaussMethod(fun, initial, tol):\n",
        "  y_orig = np.inf\n",
        "  a_init, b_init = initial\n",
        "  fev = 0\n",
        "  iteration = 0\n",
        "\n",
        "  for i in range(50):\n",
        "    iteration = iteration + 1\n",
        "    for a in np.linspace(a_init, 1, 100):\n",
        "      b = b_init\n",
        "      y = fun([a, b])\n",
        "      fev =fev + 1\n",
        "      if np.abs(y-y_orig) < tol:\n",
        "        y_orig = y\n",
        "        a_init = a\n",
        "        break\n",
        "      if y < y_orig:\n",
        "        y_orig = y\n",
        "        a_init = a\n",
        "\n",
        "    for b in np.linspace(b_init, 1, 100):\n",
        "      a = a_init\n",
        "      y = fun([a, b])\n",
        "      fev =fev + 1\n",
        "      if np.abs(y-y_orig) < tol:\n",
        "        b_init = b\n",
        "        y_orig = y\n",
        "        break\n",
        "      if y < y_orig:\n",
        "        y_orig = y\n",
        "        b_init = b\n",
        "        \n",
        "\n",
        "  return [a_init, b_init, fev, iteration, y_orig]"
      ],
      "execution_count": 30,
      "outputs": []
    },
    {
      "cell_type": "code",
      "metadata": {
        "id": "IuywZYe2ISj7",
        "colab_type": "code",
        "colab": {
          "base_uri": "https://localhost:8080/",
          "height": 34
        },
        "outputId": "a4740faa-cef3-43ee-e527-55e086cadcbf"
      },
      "source": [
        "initial = [0.001,0.001]\n",
        "result = GaussMethod(objective, initial, 0.001) \n",
        "result"
      ],
      "execution_count": 31,
      "outputs": [
        {
          "output_type": "execute_result",
          "data": {
            "text/plain": [
              "[1.0, 0.001, 199, 50, 163.23884803464193]"
            ]
          },
          "metadata": {
            "tags": []
          },
          "execution_count": 31
        }
      ]
    },
    {
      "cell_type": "code",
      "metadata": {
        "colab_type": "code",
        "id": "YEDPZntdVl2S",
        "colab": {
          "base_uri": "https://localhost:8080/",
          "height": 282
        },
        "outputId": "61090a5f-6d17-470b-8275-7b9cbcb2ce15"
      },
      "source": [
        "fig, ax = plt.subplots(1, 1)\n",
        "ax.plot(x, y, 'ob', label='data')\n",
        "ax.plot(x, linear_fun(x, result[0], result[1]), '-k', lw=2, label='linear fit')\n",
        "ax.legend()"
      ],
      "execution_count": 32,
      "outputs": [
        {
          "output_type": "execute_result",
          "data": {
            "text/plain": [
              "<matplotlib.legend.Legend at 0x7fd5ecbd3860>"
            ]
          },
          "metadata": {
            "tags": []
          },
          "execution_count": 32
        },
        {
          "output_type": "display_data",
          "data": {
            "image/png": "[encoded data removed]",
            "text/plain": [
              "<Figure size 432x288 with 1 Axes>"
            ]
          },
          "metadata": {
            "tags": [],
            "needs_background": "light"
          }
        }
      ]
    },
    {
      "cell_type": "code",
      "metadata": {
        "id": "2mgjQHteWrfV",
        "colab_type": "code",
        "colab": {
          "base_uri": "https://localhost:8080/",
          "height": 34
        },
        "outputId": "e403ba26-cf61-4965-e0a9-4022fdd73b6f"
      },
      "source": [
        "initial = [0.3,0.4]\n",
        "result = GaussMethod(objective2, initial, 0.001) \n",
        "result"
      ],
      "execution_count": 33,
      "outputs": [
        {
          "output_type": "execute_result",
          "data": {
            "text/plain": [
              "[1.0, 0.4, 199, 50, 116.75562798924513]"
            ]
          },
          "metadata": {
            "tags": []
          },
          "execution_count": 33
        }
      ]
    },
    {
      "cell_type": "code",
      "metadata": {
        "id": "8OeO8DGiVuQR",
        "colab_type": "code",
        "colab": {
          "base_uri": "https://localhost:8080/",
          "height": 282
        },
        "outputId": "6a2c192b-a6a5-45c7-bdb0-e57597b28278"
      },
      "source": [
        "fig, ax = plt.subplots(1, 1)\n",
        "ax.plot(x, y, 'ob', label='data')\n",
        "ax.plot(x, linear_fun(x, result[0], result[1]), '-k', lw=2, label='linear fit')\n",
        "ax.legend()"
      ],
      "execution_count": 34,
      "outputs": [
        {
          "output_type": "execute_result",
          "data": {
            "text/plain": [
              "<matplotlib.legend.Legend at 0x7fd5ec425630>"
            ]
          },
          "metadata": {
            "tags": []
          },
          "execution_count": 34
        },
        {
          "output_type": "display_data",
          "data": {
            "image/png": "[encoded data removed]",
            "text/plain": [
              "<Figure size 432x288 with 1 Axes>"
            ]
          },
          "metadata": {
            "tags": [],
            "needs_background": "light"
          }
        }
      ]
    },
    {
      "cell_type": "code",
      "metadata": {
        "id": "SBYq-58ia_8u",
        "colab_type": "code",
        "colab": {}
      },
      "source": [
        ""
      ],
      "execution_count": 34,
      "outputs": []
    }
  ]
}