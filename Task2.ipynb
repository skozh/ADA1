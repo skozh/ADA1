{
  "nbformat": 4,
  "nbformat_minor": 0,
  "metadata": {
    "colab": {
      "name": "Task2.ipynb",
      "provenance": [],
      "collapsed_sections": [],
      "authorship_tag": "ABX9TyPiQClR/ABI1dbEysllAAIH",
      "include_colab_link": true
    },
    "kernelspec": {
      "name": "python3",
      "display_name": "Python 3"
    }
  },
  "cells": [
    {
      "cell_type": "markdown",
      "metadata": {
        "id": "view-in-github",
        "colab_type": "text"
      },
      "source": [
        "<a href=\"https://colab.research.google.com/github/skozh/ADA1/blob/master/Task2.ipynb\" target=\"_parent\"><img src=\"https://colab.research.google.com/assets/colab-badge.svg\" alt=\"Open In Colab\"/></a>"
      ]
    },
    {
      "cell_type": "markdown",
      "metadata": {
        "id": "_ClU-7sPxKBM",
        "colab_type": "text"
      },
      "source": [
        "## **Minimization**"
      ]
    },
    {
      "cell_type": "code",
      "metadata": {
        "id": "MUgFyBCbQV1M",
        "colab_type": "code",
        "colab": {}
      },
      "source": [
        "import numpy as np\n",
        "import matplotlib.pyplot as plt\n",
        "from scipy import optimize"
      ],
      "execution_count": 1,
      "outputs": []
    },
    {
      "cell_type": "markdown",
      "metadata": {
        "id": "qMx5tv2DgtHm",
        "colab_type": "text"
      },
      "source": [
        "**Function 1** : f(x) = x^3, x E [0,1]\n",
        "\n",
        "---\n",
        "\n"
      ]
    },
    {
      "cell_type": "code",
      "metadata": {
        "id": "YjczNxTVQams",
        "colab_type": "code",
        "colab": {}
      },
      "source": [
        "def f1(x):\n",
        "  return x*x*x"
      ],
      "execution_count": 2,
      "outputs": []
    },
    {
      "cell_type": "code",
      "metadata": {
        "id": "inTMerBcRfYn",
        "colab_type": "code",
        "colab": {
          "base_uri": "https://localhost:8080/",
          "height": 265
        },
        "outputId": "535e74fc-1c69-490a-debd-d6bda2600f6c"
      },
      "source": [
        "x = np.linspace(0,1,100)\n",
        "y = f1(x)\n",
        "fig = plt.figure()\n",
        "ax = fig.add_subplot(1, 1, 1)\n",
        "plt.plot(x,y, 'r')\n",
        "plt.show()"
      ],
      "execution_count": 3,
      "outputs": [
        {
          "output_type": "display_data",
          "data": {
            "image/png": "[encoded data removed]",
            "text/plain": [
              "<Figure size 432x288 with 1 Axes>"
            ]
          },
          "metadata": {
            "tags": [],
            "needs_background": "light"
          }
        }
      ]
    },
    {
      "cell_type": "code",
      "metadata": {
        "id": "B00waahpQgeo",
        "colab_type": "code",
        "colab": {
          "base_uri": "https://localhost:8080/",
          "height": 102
        },
        "outputId": "90414f31-e308-42c1-b3d6-f7526373e7b5"
      },
      "source": [
        "# Golden Section\n",
        "result = optimize.minimize_scalar(f1,[0,1], method=\"golden\",tol=0.001) \n",
        "result"
      ],
      "execution_count": 4,
      "outputs": [
        {
          "output_type": "execute_result",
          "data": {
            "text/plain": [
              "     fun: -inf\n",
              "    nfev: 509\n",
              "     nit: 14\n",
              " success: True\n",
              "       x: -5.647395098620533e+102"
            ]
          },
          "metadata": {
            "tags": []
          },
          "execution_count": 4
        }
      ]
    },
    {
      "cell_type": "code",
      "metadata": {
        "id": "9Ru5ip2PZJB1",
        "colab_type": "code",
        "colab": {
          "base_uri": "https://localhost:8080/",
          "height": 265
        },
        "outputId": "4aa088b8-4b4b-4946-9815-5d419e113f59"
      },
      "source": [
        "fig = plt.figure()\n",
        "ax = fig.add_subplot(1, 1, 1)\n",
        "plt.plot(x,y, 'r')\n",
        "plt.plot(result.x, result.fun, 's')\n",
        "plt.show()"
      ],
      "execution_count": 5,
      "outputs": [
        {
          "output_type": "display_data",
          "data": {
            "image/png": "[encoded data removed]",
            "text/plain": [
              "<Figure size 432x288 with 1 Axes>"
            ]
          },
          "metadata": {
            "tags": [],
            "needs_background": "light"
          }
        }
      ]
    },
    {
      "cell_type": "code",
      "metadata": {
        "id": "FilHAQnZlLpo",
        "colab_type": "code",
        "colab": {
          "base_uri": "https://localhost:8080/",
          "height": 170
        },
        "outputId": "a451dd74-1da9-44de-c367-322a24aba010"
      },
      "source": [
        "# Nelder-Mead\n",
        "result = optimize.minimize(f1,x0=0,method=\"Nelder-Mead\", tol=0.001) \n",
        "result"
      ],
      "execution_count": 6,
      "outputs": [
        {
          "output_type": "execute_result",
          "data": {
            "text/plain": [
              " final_simplex: (array([[0.     ],\n",
              "       [0.00025]]), array([0.0000e+00, 1.5625e-11]))\n",
              "           fun: 0.0\n",
              "       message: 'Optimization terminated successfully.'\n",
              "          nfev: 2\n",
              "           nit: 1\n",
              "        status: 0\n",
              "       success: True\n",
              "             x: array([0.])"
            ]
          },
          "metadata": {
            "tags": []
          },
          "execution_count": 6
        }
      ]
    },
    {
      "cell_type": "code",
      "metadata": {
        "id": "cERrYl1yX-rr",
        "colab_type": "code",
        "colab": {
          "base_uri": "https://localhost:8080/",
          "height": 265
        },
        "outputId": "4ac5b14f-c58e-48b0-c170-49400bbd4b3f"
      },
      "source": [
        "fig = plt.figure()\n",
        "ax = fig.add_subplot(1, 1, 1)\n",
        "plt.plot(x,y, 'r')\n",
        "plt.plot(result.x, result.fun, 's')\n",
        "plt.show()"
      ],
      "execution_count": 7,
      "outputs": [
        {
          "output_type": "display_data",
          "data": {
            "image/png": "[encoded data removed]",
            "text/plain": [
              "<Figure size 432x288 with 1 Axes>"
            ]
          },
          "metadata": {
            "tags": [],
            "needs_background": "light"
          }
        }
      ]
    },
    {
      "cell_type": "markdown",
      "metadata": {
        "id": "MXJ_aEwDhF3e",
        "colab_type": "text"
      },
      "source": [
        "**Function 2**: f(x) = | x - 0.2 |, x E [0, 1]"
      ]
    },
    {
      "cell_type": "code",
      "metadata": {
        "id": "eOBXVp-hbllQ",
        "colab_type": "code",
        "colab": {}
      },
      "source": [
        "def f2(x):\n",
        "  return abs(x-0.2)"
      ],
      "execution_count": 8,
      "outputs": []
    },
    {
      "cell_type": "code",
      "metadata": {
        "id": "IFisjajzgYh0",
        "colab_type": "code",
        "colab": {
          "base_uri": "https://localhost:8080/",
          "height": 265
        },
        "outputId": "75a07ad3-14cc-40c5-d128-785f3076e8d3"
      },
      "source": [
        "x = np.linspace(0,1,100)\n",
        "y = f2(x)\n",
        "fig = plt.figure()\n",
        "ax = fig.add_subplot(1, 1, 1)\n",
        "plt.plot(x,y, 'r')\n",
        "plt.show()"
      ],
      "execution_count": 9,
      "outputs": [
        {
          "output_type": "display_data",
          "data": {
            "image/png": "[encoded data removed]",
            "text/plain": [
              "<Figure size 432x288 with 1 Axes>"
            ]
          },
          "metadata": {
            "tags": [],
            "needs_background": "light"
          }
        }
      ]
    },
    {
      "cell_type": "code",
      "metadata": {
        "colab_type": "code",
        "id": "FA35uT0_gkyU",
        "colab": {
          "base_uri": "https://localhost:8080/",
          "height": 102
        },
        "outputId": "b9bd94ea-67ae-48a5-d68a-0768ea8de1f6"
      },
      "source": [
        "# Golden Section\n",
        "result = optimize.minimize_scalar(f2, [0, 1],method=\"golden\", tol=0.001) \n",
        "result"
      ],
      "execution_count": 10,
      "outputs": [
        {
          "output_type": "execute_result",
          "data": {
            "text/plain": [
              "     fun: 1.3221403834806633e-05\n",
              "    nfev: 24\n",
              "     nit: 19\n",
              " success: True\n",
              "       x: 0.1999867785961652"
            ]
          },
          "metadata": {
            "tags": []
          },
          "execution_count": 10
        }
      ]
    },
    {
      "cell_type": "code",
      "metadata": {
        "id": "wbAie0XYYseg",
        "colab_type": "code",
        "colab": {
          "base_uri": "https://localhost:8080/",
          "height": 265
        },
        "outputId": "ec6b275c-6e04-4387-d463-fbf6b5f14359"
      },
      "source": [
        "fig = plt.figure()\n",
        "ax = fig.add_subplot(1, 1, 1)\n",
        "plt.plot(x,y, 'r')\n",
        "plt.plot(result.x, result.fun, 's')\n",
        "plt.show()"
      ],
      "execution_count": 11,
      "outputs": [
        {
          "output_type": "display_data",
          "data": {
            "image/png": "[encoded data removed]",
            "text/plain": [
              "<Figure size 432x288 with 1 Axes>"
            ]
          },
          "metadata": {
            "tags": [],
            "needs_background": "light"
          }
        }
      ]
    },
    {
      "cell_type": "code",
      "metadata": {
        "id": "2FUS83nokk98",
        "colab_type": "code",
        "colab": {
          "base_uri": "https://localhost:8080/",
          "height": 170
        },
        "outputId": "314ce42e-5b09-4fbe-c3b5-58e8438f10bf"
      },
      "source": [
        "# Nelder-Mead\n",
        "result = optimize.minimize(f2,x0=1,method=\"Nelder-Mead\", tol=0.001) \n",
        "result"
      ],
      "execution_count": 12,
      "outputs": [
        {
          "output_type": "execute_result",
          "data": {
            "text/plain": [
              " final_simplex: (array([[0.2       ],\n",
              "       [0.20078125]]), array([7.21644966e-16, 7.81250000e-04]))\n",
              "           fun: 7.216449660063518e-16\n",
              "       message: 'Optimization terminated successfully.'\n",
              "          nfev: 26\n",
              "           nit: 13\n",
              "        status: 0\n",
              "       success: True\n",
              "             x: array([0.2])"
            ]
          },
          "metadata": {
            "tags": []
          },
          "execution_count": 12
        }
      ]
    },
    {
      "cell_type": "code",
      "metadata": {
        "id": "R0yMBDcxY4F6",
        "colab_type": "code",
        "colab": {
          "base_uri": "https://localhost:8080/",
          "height": 265
        },
        "outputId": "1dafe2a0-8304-4166-b10e-a72660d65384"
      },
      "source": [
        "fig = plt.figure()\n",
        "ax = fig.add_subplot(1, 1, 1)\n",
        "plt.plot(x,y, 'r')\n",
        "plt.plot(result.x, result.fun, 's')\n",
        "plt.show()"
      ],
      "execution_count": 13,
      "outputs": [
        {
          "output_type": "display_data",
          "data": {
            "image/png": "[encoded data removed]",
            "text/plain": [
              "<Figure size 432x288 with 1 Axes>"
            ]
          },
          "metadata": {
            "tags": [],
            "needs_background": "light"
          }
        }
      ]
    },
    {
      "cell_type": "markdown",
      "metadata": {
        "id": "RjXArd1Or08_",
        "colab_type": "text"
      },
      "source": [
        "**Function 3**: x*sin(1/x), x E [0.01, 1]"
      ]
    },
    {
      "cell_type": "code",
      "metadata": {
        "id": "D9tCzvvsrqpC",
        "colab_type": "code",
        "colab": {}
      },
      "source": [
        "def f3(x):\n",
        "  return x*np.sin(1/x)"
      ],
      "execution_count": 14,
      "outputs": []
    },
    {
      "cell_type": "code",
      "metadata": {
        "id": "_JzduQR8sFIF",
        "colab_type": "code",
        "colab": {
          "base_uri": "https://localhost:8080/",
          "height": 265
        },
        "outputId": "f1d688cf-dd9e-4233-ffd5-37ec11574803"
      },
      "source": [
        "x = np.linspace(0.01,1,100)\n",
        "y = f3(x)\n",
        "fig = plt.figure()\n",
        "ax = fig.add_subplot(1, 1, 1)\n",
        "plt.plot(x,y, 'r')\n",
        "plt.show()"
      ],
      "execution_count": 15,
      "outputs": [
        {
          "output_type": "display_data",
          "data": {
            "image/png": "[encoded data removed]",
            "text/plain": [
              "<Figure size 432x288 with 1 Axes>"
            ]
          },
          "metadata": {
            "tags": [],
            "needs_background": "light"
          }
        }
      ]
    },
    {
      "cell_type": "code",
      "metadata": {
        "id": "GBDlH2oBsLhn",
        "colab_type": "code",
        "colab": {
          "base_uri": "https://localhost:8080/",
          "height": 102
        },
        "outputId": "b1ef5bbc-2473-4917-92a5-1d7c06d6dba4"
      },
      "source": [
        "# Golden Section\n",
        "result = optimize.minimize_scalar(f3, [0.2, 1],method=\"golden\", tol=0.001) \n",
        "result"
      ],
      "execution_count": 16,
      "outputs": [
        {
          "output_type": "execute_result",
          "data": {
            "text/plain": [
              "     fun: -0.21723356977335542\n",
              "    nfev: 23\n",
              "     nit: 18\n",
              " success: True\n",
              "       x: 0.22258449083232817"
            ]
          },
          "metadata": {
            "tags": []
          },
          "execution_count": 16
        }
      ]
    },
    {
      "cell_type": "code",
      "metadata": {
        "id": "d17R8qmMZAfO",
        "colab_type": "code",
        "colab": {
          "base_uri": "https://localhost:8080/",
          "height": 265
        },
        "outputId": "0e207394-4110-4e35-fa58-2b580c8f29f4"
      },
      "source": [
        "fig = plt.figure()\n",
        "ax = fig.add_subplot(1, 1, 1)\n",
        "plt.plot(x,y, 'r')\n",
        "plt.plot(result.x, result.fun, 's')\n",
        "plt.show()"
      ],
      "execution_count": 17,
      "outputs": [
        {
          "output_type": "display_data",
          "data": {
            "image/png": "[encoded data removed]",
            "text/plain": [
              "<Figure size 432x288 with 1 Axes>"
            ]
          },
          "metadata": {
            "tags": [],
            "needs_background": "light"
          }
        }
      ]
    },
    {
      "cell_type": "code",
      "metadata": {
        "id": "QAttu_-FsYDc",
        "colab_type": "code",
        "colab": {
          "base_uri": "https://localhost:8080/",
          "height": 170
        },
        "outputId": "a5d7e5c6-c68d-4c63-c00b-58425b3a1cc9"
      },
      "source": [
        "# Nelder-Mead\n",
        "result = optimize.minimize(fun=f3, x0=1,method=\"Nelder-Mead\", tol=0.001) \n",
        "result"
      ],
      "execution_count": 18,
      "outputs": [
        {
          "output_type": "execute_result",
          "data": {
            "text/plain": [
              " final_simplex: (array([[0.22265625],\n",
              "       [0.221875  ]]), array([-0.21723311, -0.21721348]))\n",
              "           fun: -0.21723311119612687\n",
              "       message: 'Optimization terminated successfully.'\n",
              "          nfev: 26\n",
              "           nit: 13\n",
              "        status: 0\n",
              "       success: True\n",
              "             x: array([0.22265625])"
            ]
          },
          "metadata": {
            "tags": []
          },
          "execution_count": 18
        }
      ]
    },
    {
      "cell_type": "code",
      "metadata": {
        "id": "aNejZ4pGZDYY",
        "colab_type": "code",
        "colab": {
          "base_uri": "https://localhost:8080/",
          "height": 265
        },
        "outputId": "5f800c47-c844-4ae2-dba6-4718e4dc48dd"
      },
      "source": [
        "fig = plt.figure()\n",
        "ax = fig.add_subplot(1, 1, 1)\n",
        "plt.plot(x,y, 'r')\n",
        "plt.plot(result.x, result.fun, 's')\n",
        "plt.show()"
      ],
      "execution_count": 19,
      "outputs": [
        {
          "output_type": "display_data",
          "data": {
            "image/png": "[encoded data removed]",
            "text/plain": [
              "<Figure size 432x288 with 1 Axes>"
            ]
          },
          "metadata": {
            "tags": [],
            "needs_background": "light"
          }
        }
      ]
    },
    {
      "cell_type": "markdown",
      "metadata": {
        "id": "rcbvK2FAxbh9",
        "colab_type": "text"
      },
      "source": [
        "# **Approximation**"
      ]
    },
    {
      "cell_type": "code",
      "metadata": {
        "id": "-tR_Q3r4xgj-",
        "colab_type": "code",
        "colab": {}
      },
      "source": [
        "def linear_fun(x, alpha, beta):\n",
        "  return alpha*x+beta"
      ],
      "execution_count": 20,
      "outputs": []
    },
    {
      "cell_type": "code",
      "metadata": {
        "id": "hqOGGCEz57yV",
        "colab_type": "code",
        "colab": {}
      },
      "source": [
        "def rational_fun(x, alpha, beta):\n",
        "  return alpha/(1+beta*x)"
      ],
      "execution_count": 21,
      "outputs": []
    },
    {
      "cell_type": "code",
      "metadata": {
        "id": "kYvIGem5xucy",
        "colab_type": "code",
        "colab": {
          "base_uri": "https://localhost:8080/",
          "height": 34
        },
        "outputId": "3333979d-6c71-427c-c7f5-e943d4588f81"
      },
      "source": [
        "alpha = np.random.rand()\n",
        "beta = np.random.rand()\n",
        "noise = np.random.normal(0,1,101)\n",
        "print(alpha, beta)"
      ],
      "execution_count": 22,
      "outputs": [
        {
          "output_type": "stream",
          "text": [
            "0.5200733674001657 0.9113420680160204\n"
          ],
          "name": "stdout"
        }
      ]
    },
    {
      "cell_type": "code",
      "metadata": {
        "id": "UO1Z8r0AxxPy",
        "colab_type": "code",
        "colab": {}
      },
      "source": [
        "k = [*range(0, 101, 1)]\n",
        "x = np.array([x/100 for x in k])\n",
        "y = alpha*x + beta + noise"
      ],
      "execution_count": 23,
      "outputs": []
    },
    {
      "cell_type": "code",
      "metadata": {
        "id": "-KmmeLr_AR1J",
        "colab_type": "code",
        "colab": {}
      },
      "source": [
        "def objective(params):\n",
        "  alpha, beta = params\n",
        "  return np.sum(((alpha*x+beta)-y)**2)"
      ],
      "execution_count": 24,
      "outputs": []
    },
    {
      "cell_type": "markdown",
      "metadata": {
        "id": "2ILdLQI64FuY",
        "colab_type": "text"
      },
      "source": [
        "**Nelder-Mead**"
      ]
    },
    {
      "cell_type": "code",
      "metadata": {
        "id": "rIONZDSIAcKV",
        "colab_type": "code",
        "colab": {
          "base_uri": "https://localhost:8080/",
          "height": 187
        },
        "outputId": "3f20f7c8-00a5-4a78-ec8f-7b1b1a82930a"
      },
      "source": [
        "initial = [0,0]\n",
        "result = optimize.minimize(fun=objective, x0=initial,method=\"Nelder-Mead\", tol=0.001) \n",
        "result"
      ],
      "execution_count": 25,
      "outputs": [
        {
          "output_type": "execute_result",
          "data": {
            "text/plain": [
              " final_simplex: (array([[0.5193481 , 0.73450052],\n",
              "       [0.5199042 , 0.73435894],\n",
              "       [0.52015398, 0.73384579]]), array([77.27871208, 77.27871219, 77.27871728]))\n",
              "           fun: 77.2787120821752\n",
              "       message: 'Optimization terminated successfully.'\n",
              "          nfev: 109\n",
              "           nit: 57\n",
              "        status: 0\n",
              "       success: True\n",
              "             x: array([0.5193481 , 0.73450052])"
            ]
          },
          "metadata": {
            "tags": []
          },
          "execution_count": 25
        }
      ]
    },
    {
      "cell_type": "code",
      "metadata": {
        "id": "c-AeL9IWx6RC",
        "colab_type": "code",
        "colab": {
          "base_uri": "https://localhost:8080/",
          "height": 282
        },
        "outputId": "56cf6645-b5c6-44f3-da09-fb680294d4c8"
      },
      "source": [
        "fig, ax = plt.subplots(1, 1)\n",
        "ax.plot(x, y, 'ob', label='data')\n",
        "ax.plot(x, linear_fun(x, result.x[0],result.x[1]), '-k', lw=2, label='linear fit')\n",
        "ax.legend()"
      ],
      "execution_count": 26,
      "outputs": [
        {
          "output_type": "execute_result",
          "data": {
            "text/plain": [
              "<matplotlib.legend.Legend at 0x7fc7493657f0>"
            ]
          },
          "metadata": {
            "tags": []
          },
          "execution_count": 26
        },
        {
          "output_type": "display_data",
          "data": {
            "image/png": "[encoded data removed]",
            "text/plain": [
              "<Figure size 432x288 with 1 Axes>"
            ]
          },
          "metadata": {
            "tags": [],
            "needs_background": "light"
          }
        }
      ]
    },
    {
      "cell_type": "code",
      "metadata": {
        "id": "EU2sQy9XyCf1",
        "colab_type": "code",
        "colab": {}
      },
      "source": [
        "def objective2(params):\n",
        "  alpha, beta = params\n",
        "  return np.sum(((alpha/(1+beta*x))-y)**2)"
      ],
      "execution_count": 27,
      "outputs": []
    },
    {
      "cell_type": "code",
      "metadata": {
        "id": "JvSZ5Lr6BDxA",
        "colab_type": "code",
        "colab": {
          "base_uri": "https://localhost:8080/",
          "height": 187
        },
        "outputId": "5f327db4-ed74-4e65-b26e-a753cfdcc336"
      },
      "source": [
        "initial = [0,0]\n",
        "result = optimize.minimize(fun=objective2, x0=initial,method=\"Nelder-Mead\", tol=0.001) \n",
        "result"
      ],
      "execution_count": 28,
      "outputs": [
        {
          "output_type": "execute_result",
          "data": {
            "text/plain": [
              " final_simplex: (array([[ 0.78307647, -0.39258689],\n",
              "       [ 0.78283979, -0.39309112],\n",
              "       [ 0.78252204, -0.3932399 ]]), array([77.341076  , 77.34108207, 77.34108431]))\n",
              "           fun: 77.34107600107592\n",
              "       message: 'Optimization terminated successfully.'\n",
              "          nfev: 106\n",
              "           nit: 55\n",
              "        status: 0\n",
              "       success: True\n",
              "             x: array([ 0.78307647, -0.39258689])"
            ]
          },
          "metadata": {
            "tags": []
          },
          "execution_count": 28
        }
      ]
    },
    {
      "cell_type": "code",
      "metadata": {
        "id": "uXPE1qDe0Hb6",
        "colab_type": "code",
        "colab": {
          "base_uri": "https://localhost:8080/",
          "height": 282
        },
        "outputId": "ba461d37-ccff-49af-87ad-a07aae977b9a"
      },
      "source": [
        "fig, ax = plt.subplots(1, 1)\n",
        "ax.plot(x, y, 'ob', label='data')\n",
        "ax.plot(x, rational_fun(x, result.x[0],result.x[1]), '-k', lw=2, label='curve fit')\n",
        "ax.legend()"
      ],
      "execution_count": 29,
      "outputs": [
        {
          "output_type": "execute_result",
          "data": {
            "text/plain": [
              "<matplotlib.legend.Legend at 0x7fc749493940>"
            ]
          },
          "metadata": {
            "tags": []
          },
          "execution_count": 29
        },
        {
          "output_type": "display_data",
          "data": {
            "image/png": "[encoded data removed]",
            "text/plain": [
              "<Figure size 432x288 with 1 Axes>"
            ]
          },
          "metadata": {
            "tags": [],
            "needs_background": "light"
          }
        }
      ]
    },
    {
      "cell_type": "markdown",
      "metadata": {
        "id": "dOOfrChg4Mzn",
        "colab_type": "text"
      },
      "source": [
        "**Gauss Method**"
      ]
    },
    {
      "cell_type": "code",
      "metadata": {
        "id": "_niy1e7rS369",
        "colab_type": "code",
        "colab": {}
      },
      "source": [
        "def GaussMethod(fun, initial, tol):\n",
        "  y_orig = np.inf\n",
        "  a_init, b_init = initial\n",
        "  fev = 0\n",
        "  iteration = 0\n",
        "\n",
        "  for i in range(50):\n",
        "    iteration = iteration + 1\n",
        "    for a in np.linspace(a_init, 1, 100):\n",
        "      b = b_init\n",
        "      y = fun([a, b])\n",
        "      fev =fev + 1\n",
        "      if np.abs(y-y_orig) < tol:\n",
        "        y_orig = y\n",
        "        a_init = a\n",
        "        break\n",
        "      if y < y_orig:\n",
        "        y_orig = y\n",
        "        a_init = a\n",
        "\n",
        "    for b in np.linspace(b_init, 1, 100):\n",
        "      a = a_init\n",
        "      y = fun([a, b])\n",
        "      fev =fev + 1\n",
        "      if np.abs(y-y_orig) < tol:\n",
        "        b_init = b\n",
        "        y_orig = y\n",
        "        break\n",
        "      if y < y_orig:\n",
        "        y_orig = y\n",
        "        b_init = b\n",
        "        \n",
        "\n",
        "  return [a_init, b_init, fev, iteration, y_orig]"
      ],
      "execution_count": 30,
      "outputs": []
    },
    {
      "cell_type": "code",
      "metadata": {
        "id": "IuywZYe2ISj7",
        "colab_type": "code",
        "colab": {
          "base_uri": "https://localhost:8080/",
          "height": 34
        },
        "outputId": "9fbd3a4b-1517-4366-a1e9-fc581e2e19cb"
      },
      "source": [
        "initial = [0.001,0.001]\n",
        "result = GaussMethod(objective, initial, 0.001) \n",
        "result"
      ],
      "execution_count": 31,
      "outputs": [
        {
          "output_type": "execute_result",
          "data": {
            "text/plain": [
              "[1.0, 0.001, 199, 50, 103.82308772034003]"
            ]
          },
          "metadata": {
            "tags": []
          },
          "execution_count": 31
        }
      ]
    },
    {
      "cell_type": "code",
      "metadata": {
        "colab_type": "code",
        "id": "YEDPZntdVl2S",
        "colab": {
          "base_uri": "https://localhost:8080/",
          "height": 282
        },
        "outputId": "d85fee6a-15ae-4ba9-9782-bcc369dedef3"
      },
      "source": [
        "fig, ax = plt.subplots(1, 1)\n",
        "ax.plot(x, y, 'ob', label='data')\n",
        "ax.plot(x, linear_fun(x, result[0], result[1]), '-k', lw=2, label='linear fit')\n",
        "ax.legend()"
      ],
      "execution_count": 32,
      "outputs": [
        {
          "output_type": "execute_result",
          "data": {
            "text/plain": [
              "<matplotlib.legend.Legend at 0x7fc749a88518>"
            ]
          },
          "metadata": {
            "tags": []
          },
          "execution_count": 32
        },
        {
          "output_type": "display_data",
          "data": {
            "image/png": "[encoded data removed]",
            "text/plain": [
              "<Figure size 432x288 with 1 Axes>"
            ]
          },
          "metadata": {
            "tags": [],
            "needs_background": "light"
          }
        }
      ]
    },
    {
      "cell_type": "code",
      "metadata": {
        "id": "2mgjQHteWrfV",
        "colab_type": "code",
        "colab": {
          "base_uri": "https://localhost:8080/",
          "height": 34
        },
        "outputId": "32bd1e58-ab61-4a22-a28b-3bbd9c64ea9d"
      },
      "source": [
        "initial = [0.1,0.1]\n",
        "result = GaussMethod(objective2, initial, 0.001) \n",
        "result"
      ],
      "execution_count": 33,
      "outputs": [
        {
          "output_type": "execute_result",
          "data": {
            "text/plain": [
              "[1.0, 0.1, 199, 50, 80.64940498861623]"
            ]
          },
          "metadata": {
            "tags": []
          },
          "execution_count": 33
        }
      ]
    },
    {
      "cell_type": "code",
      "metadata": {
        "id": "8OeO8DGiVuQR",
        "colab_type": "code",
        "colab": {
          "base_uri": "https://localhost:8080/",
          "height": 282
        },
        "outputId": "fb6c6530-8d30-4a6b-8992-9d4ea8184b42"
      },
      "source": [
        "fig, ax = plt.subplots(1, 1)\n",
        "ax.plot(x, y, 'ob', label='data')\n",
        "ax.plot(x, linear_fun(x, result[0], result[1]), '-k', lw=2, label='linear fit')\n",
        "ax.legend()"
      ],
      "execution_count": 34,
      "outputs": [
        {
          "output_type": "execute_result",
          "data": {
            "text/plain": [
              "<matplotlib.legend.Legend at 0x7fc7492bef28>"
            ]
          },
          "metadata": {
            "tags": []
          },
          "execution_count": 34
        },
        {
          "output_type": "display_data",
          "data": {
            "image/png": "[encoded data removed]",
            "text/plain": [
              "<Figure size 432x288 with 1 Axes>"
            ]
          },
          "metadata": {
            "tags": [],
            "needs_background": "light"
          }
        }
      ]
    },
    {
      "cell_type": "code",
      "metadata": {
        "id": "SBYq-58ia_8u",
        "colab_type": "code",
        "colab": {}
      },
      "source": [
        ""
      ],
      "execution_count": 34,
      "outputs": []
    }
  ]
}