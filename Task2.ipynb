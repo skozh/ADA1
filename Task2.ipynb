{
  "nbformat": 4,
  "nbformat_minor": 0,
  "metadata": {
    "colab": {
      "name": "Task2.ipynb",
      "provenance": [],
      "collapsed_sections": [],
      "authorship_tag": "ABX9TyMwU5Ok9RCKgV7rf9gUUpeG",
      "include_colab_link": true
    },
    "kernelspec": {
      "name": "python3",
      "display_name": "Python 3"
    }
  },
  "cells": [
    {
      "cell_type": "markdown",
      "metadata": {
        "id": "view-in-github",
        "colab_type": "text"
      },
      "source": [
        "<a href=\"https://colab.research.google.com/github/skozh/ADA1/blob/master/Task2.ipynb\" target=\"_parent\"><img src=\"https://colab.research.google.com/assets/colab-badge.svg\" alt=\"Open In Colab\"/></a>"
      ]
    },
    {
      "cell_type": "markdown",
      "metadata": {
        "id": "_ClU-7sPxKBM",
        "colab_type": "text"
      },
      "source": [
        "## **Minimization**"
      ]
    },
    {
      "cell_type": "code",
      "metadata": {
        "id": "MUgFyBCbQV1M",
        "colab_type": "code",
        "colab": {}
      },
      "source": [
        "import numpy as np\n",
        "import matplotlib.pyplot as plt\n",
        "from scipy import optimize"
      ],
      "execution_count": 1,
      "outputs": []
    },
    {
      "cell_type": "markdown",
      "metadata": {
        "id": "qMx5tv2DgtHm",
        "colab_type": "text"
      },
      "source": [
        "**Function 1** : f(x) = x^3, x E [0,1]\n",
        "\n",
        "---\n",
        "\n"
      ]
    },
    {
      "cell_type": "code",
      "metadata": {
        "id": "YjczNxTVQams",
        "colab_type": "code",
        "colab": {}
      },
      "source": [
        "def f1(x):\n",
        "  return x*x*x"
      ],
      "execution_count": 2,
      "outputs": []
    },
    {
      "cell_type": "code",
      "metadata": {
        "id": "inTMerBcRfYn",
        "colab_type": "code",
        "colab": {
          "base_uri": "https://localhost:8080/",
          "height": 265
        },
        "outputId": "1f1722ad-698b-43eb-aaaa-630ddd3e691a"
      },
      "source": [
        "x = np.linspace(0,1,100)\n",
        "y = f1(x)\n",
        "fig = plt.figure()\n",
        "ax = fig.add_subplot(1, 1, 1)\n",
        "plt.plot(x,y, 'r')\n",
        "plt.show()"
      ],
      "execution_count": 3,
      "outputs": [
        {
          "output_type": "display_data",
          "data": {
            "image/png": "[encoded data removed]",
            "text/plain": [
              "<Figure size 432x288 with 1 Axes>"
            ]
          },
          "metadata": {
            "tags": [],
            "needs_background": "light"
          }
        }
      ]
    },
    {
      "cell_type": "code",
      "metadata": {
        "id": "B00waahpQgeo",
        "colab_type": "code",
        "colab": {
          "base_uri": "https://localhost:8080/",
          "height": 102
        },
        "outputId": "f2842d8f-7c4d-4a1a-e055-60099b3ba7a3"
      },
      "source": [
        "# Golden Section\n",
        "result = optimize.minimize_scalar(f1,[0,1], method=\"golden\",tol=0.001) \n",
        "result"
      ],
      "execution_count": 4,
      "outputs": [
        {
          "output_type": "execute_result",
          "data": {
            "text/plain": [
              "     fun: -inf\n",
              "    nfev: 509\n",
              "     nit: 14\n",
              " success: True\n",
              "       x: -5.647395098620533e+102"
            ]
          },
          "metadata": {
            "tags": []
          },
          "execution_count": 4
        }
      ]
    },
    {
      "cell_type": "code",
      "metadata": {
        "id": "9Ru5ip2PZJB1",
        "colab_type": "code",
        "colab": {
          "base_uri": "https://localhost:8080/",
          "height": 265
        },
        "outputId": "02bcef0f-6169-4ec1-def6-d72ef676aea9"
      },
      "source": [
        "fig = plt.figure()\n",
        "ax = fig.add_subplot(1, 1, 1)\n",
        "plt.plot(x,y, 'r')\n",
        "plt.plot(result.x, result.fun, 's')\n",
        "plt.show()"
      ],
      "execution_count": 5,
      "outputs": [
        {
          "output_type": "display_data",
          "data": {
            "image/png": "[encoded data removed]",
            "text/plain": [
              "<Figure size 432x288 with 1 Axes>"
            ]
          },
          "metadata": {
            "tags": [],
            "needs_background": "light"
          }
        }
      ]
    },
    {
      "cell_type": "code",
      "metadata": {
        "id": "FilHAQnZlLpo",
        "colab_type": "code",
        "colab": {
          "base_uri": "https://localhost:8080/",
          "height": 170
        },
        "outputId": "12510f5d-0027-4c6c-942b-4a6c9a62467d"
      },
      "source": [
        "# Nelder-Mead\n",
        "result = optimize.minimize(f1,x0=0,method=\"Nelder-Mead\", tol=0.001) \n",
        "result"
      ],
      "execution_count": 6,
      "outputs": [
        {
          "output_type": "execute_result",
          "data": {
            "text/plain": [
              " final_simplex: (array([[0.     ],\n",
              "       [0.00025]]), array([0.0000e+00, 1.5625e-11]))\n",
              "           fun: 0.0\n",
              "       message: 'Optimization terminated successfully.'\n",
              "          nfev: 2\n",
              "           nit: 1\n",
              "        status: 0\n",
              "       success: True\n",
              "             x: array([0.])"
            ]
          },
          "metadata": {
            "tags": []
          },
          "execution_count": 6
        }
      ]
    },
    {
      "cell_type": "code",
      "metadata": {
        "id": "cERrYl1yX-rr",
        "colab_type": "code",
        "colab": {
          "base_uri": "https://localhost:8080/",
          "height": 265
        },
        "outputId": "dc625b04-413c-48d7-e13f-56f666aaee63"
      },
      "source": [
        "fig = plt.figure()\n",
        "ax = fig.add_subplot(1, 1, 1)\n",
        "plt.plot(x,y, 'r')\n",
        "plt.plot(result.x, result.fun, 's')\n",
        "plt.show()"
      ],
      "execution_count": 7,
      "outputs": [
        {
          "output_type": "display_data",
          "data": {
            "image/png": "[encoded data removed]",
            "text/plain": [
              "<Figure size 432x288 with 1 Axes>"
            ]
          },
          "metadata": {
            "tags": [],
            "needs_background": "light"
          }
        }
      ]
    },
    {
      "cell_type": "markdown",
      "metadata": {
        "id": "MXJ_aEwDhF3e",
        "colab_type": "text"
      },
      "source": [
        "**Function 2**: f(x) = | x - 0.2 |, x E [0, 1]"
      ]
    },
    {
      "cell_type": "code",
      "metadata": {
        "id": "eOBXVp-hbllQ",
        "colab_type": "code",
        "colab": {}
      },
      "source": [
        "def f2(x):\n",
        "  return abs(x-0.2)"
      ],
      "execution_count": 8,
      "outputs": []
    },
    {
      "cell_type": "code",
      "metadata": {
        "id": "IFisjajzgYh0",
        "colab_type": "code",
        "colab": {
          "base_uri": "https://localhost:8080/",
          "height": 265
        },
        "outputId": "77acb22d-b5ee-4f0e-d22e-c7e1bd16bd1b"
      },
      "source": [
        "x = np.linspace(0,1,100)\n",
        "y = f2(x)\n",
        "fig = plt.figure()\n",
        "ax = fig.add_subplot(1, 1, 1)\n",
        "plt.plot(x,y, 'r')\n",
        "plt.show()"
      ],
      "execution_count": 9,
      "outputs": [
        {
          "output_type": "display_data",
          "data": {
            "image/png": "[encoded data removed]",
            "text/plain": [
              "<Figure size 432x288 with 1 Axes>"
            ]
          },
          "metadata": {
            "tags": [],
            "needs_background": "light"
          }
        }
      ]
    },
    {
      "cell_type": "code",
      "metadata": {
        "colab_type": "code",
        "id": "FA35uT0_gkyU",
        "colab": {
          "base_uri": "https://localhost:8080/",
          "height": 102
        },
        "outputId": "f6c05f91-7bb7-4946-8c88-389c96175e28"
      },
      "source": [
        "# Golden Section\n",
        "result = optimize.minimize_scalar(f2, [0, 1],method=\"golden\", tol=0.001) \n",
        "result"
      ],
      "execution_count": 10,
      "outputs": [
        {
          "output_type": "execute_result",
          "data": {
            "text/plain": [
              "     fun: 1.3221403834806633e-05\n",
              "    nfev: 24\n",
              "     nit: 19\n",
              " success: True\n",
              "       x: 0.1999867785961652"
            ]
          },
          "metadata": {
            "tags": []
          },
          "execution_count": 10
        }
      ]
    },
    {
      "cell_type": "code",
      "metadata": {
        "id": "wbAie0XYYseg",
        "colab_type": "code",
        "colab": {
          "base_uri": "https://localhost:8080/",
          "height": 265
        },
        "outputId": "750ebf6f-99bc-4c71-b2fd-568f7cf0e0f4"
      },
      "source": [
        "fig = plt.figure()\n",
        "ax = fig.add_subplot(1, 1, 1)\n",
        "plt.plot(x,y, 'r')\n",
        "plt.plot(result.x, result.fun, 's')\n",
        "plt.show()"
      ],
      "execution_count": 11,
      "outputs": [
        {
          "output_type": "display_data",
          "data": {
            "image/png": "[encoded data removed]",
            "text/plain": [
              "<Figure size 432x288 with 1 Axes>"
            ]
          },
          "metadata": {
            "tags": [],
            "needs_background": "light"
          }
        }
      ]
    },
    {
      "cell_type": "code",
      "metadata": {
        "id": "2FUS83nokk98",
        "colab_type": "code",
        "colab": {
          "base_uri": "https://localhost:8080/",
          "height": 170
        },
        "outputId": "3240e4a2-fd93-4999-f1f1-1dea1718d7a4"
      },
      "source": [
        "# Nelder-Mead\n",
        "result = optimize.minimize(f2,x0=1,method=\"Nelder-Mead\", tol=0.001) \n",
        "result"
      ],
      "execution_count": 12,
      "outputs": [
        {
          "output_type": "execute_result",
          "data": {
            "text/plain": [
              " final_simplex: (array([[0.2       ],\n",
              "       [0.20078125]]), array([7.21644966e-16, 7.81250000e-04]))\n",
              "           fun: 7.216449660063518e-16\n",
              "       message: 'Optimization terminated successfully.'\n",
              "          nfev: 26\n",
              "           nit: 13\n",
              "        status: 0\n",
              "       success: True\n",
              "             x: array([0.2])"
            ]
          },
          "metadata": {
            "tags": []
          },
          "execution_count": 12
        }
      ]
    },
    {
      "cell_type": "code",
      "metadata": {
        "id": "R0yMBDcxY4F6",
        "colab_type": "code",
        "colab": {
          "base_uri": "https://localhost:8080/",
          "height": 265
        },
        "outputId": "6252ea35-e2d0-458e-9868-0e369dcc4483"
      },
      "source": [
        "fig = plt.figure()\n",
        "ax = fig.add_subplot(1, 1, 1)\n",
        "plt.plot(x,y, 'r')\n",
        "plt.plot(result.x, result.fun, 's')\n",
        "plt.show()"
      ],
      "execution_count": 13,
      "outputs": [
        {
          "output_type": "display_data",
          "data": {
            "image/png": "[encoded data removed]",
            "text/plain": [
              "<Figure size 432x288 with 1 Axes>"
            ]
          },
          "metadata": {
            "tags": [],
            "needs_background": "light"
          }
        }
      ]
    },
    {
      "cell_type": "markdown",
      "metadata": {
        "id": "RjXArd1Or08_",
        "colab_type": "text"
      },
      "source": [
        "**Function 3**: x*sin(1/x), x E [0.01, 1]"
      ]
    },
    {
      "cell_type": "code",
      "metadata": {
        "id": "D9tCzvvsrqpC",
        "colab_type": "code",
        "colab": {}
      },
      "source": [
        "def f3(x):\n",
        "  return x*np.sin(1/x)"
      ],
      "execution_count": 14,
      "outputs": []
    },
    {
      "cell_type": "code",
      "metadata": {
        "id": "_JzduQR8sFIF",
        "colab_type": "code",
        "colab": {
          "base_uri": "https://localhost:8080/",
          "height": 265
        },
        "outputId": "51cdf69d-8c2c-494a-d77d-ce4d0c96665b"
      },
      "source": [
        "x = np.linspace(0.01,1,100)\n",
        "y = f3(x)\n",
        "fig = plt.figure()\n",
        "ax = fig.add_subplot(1, 1, 1)\n",
        "plt.plot(x,y, 'r')\n",
        "plt.show()"
      ],
      "execution_count": 15,
      "outputs": [
        {
          "output_type": "display_data",
          "data": {
            "image/png": "[encoded data removed]",
            "text/plain": [
              "<Figure size 432x288 with 1 Axes>"
            ]
          },
          "metadata": {
            "tags": [],
            "needs_background": "light"
          }
        }
      ]
    },
    {
      "cell_type": "code",
      "metadata": {
        "id": "GBDlH2oBsLhn",
        "colab_type": "code",
        "colab": {
          "base_uri": "https://localhost:8080/",
          "height": 102
        },
        "outputId": "0dffc345-75ef-4ab9-f5a5-d37ea4c02422"
      },
      "source": [
        "# Golden Section\n",
        "result = optimize.minimize_scalar(f3, [0.2, 1],method=\"golden\", tol=0.001) \n",
        "result"
      ],
      "execution_count": 16,
      "outputs": [
        {
          "output_type": "execute_result",
          "data": {
            "text/plain": [
              "     fun: -0.21723356977335542\n",
              "    nfev: 23\n",
              "     nit: 18\n",
              " success: True\n",
              "       x: 0.22258449083232817"
            ]
          },
          "metadata": {
            "tags": []
          },
          "execution_count": 16
        }
      ]
    },
    {
      "cell_type": "code",
      "metadata": {
        "id": "d17R8qmMZAfO",
        "colab_type": "code",
        "colab": {
          "base_uri": "https://localhost:8080/",
          "height": 265
        },
        "outputId": "3b5d0892-e1b9-4bbe-81a6-1dbb6e0d2184"
      },
      "source": [
        "fig = plt.figure()\n",
        "ax = fig.add_subplot(1, 1, 1)\n",
        "plt.plot(x,y, 'r')\n",
        "plt.plot(result.x, result.fun, 's')\n",
        "plt.show()"
      ],
      "execution_count": 17,
      "outputs": [
        {
          "output_type": "display_data",
          "data": {
            "image/png": "[encoded data removed]",
            "text/plain": [
              "<Figure size 432x288 with 1 Axes>"
            ]
          },
          "metadata": {
            "tags": [],
            "needs_background": "light"
          }
        }
      ]
    },
    {
      "cell_type": "code",
      "metadata": {
        "id": "QAttu_-FsYDc",
        "colab_type": "code",
        "colab": {
          "base_uri": "https://localhost:8080/",
          "height": 170
        },
        "outputId": "95b57c60-28fe-4435-c127-74d2325862a1"
      },
      "source": [
        "# Nelder-Mead\n",
        "result = optimize.minimize(fun=f3, x0=1,method=\"Nelder-Mead\", tol=0.001) \n",
        "result"
      ],
      "execution_count": 18,
      "outputs": [
        {
          "output_type": "execute_result",
          "data": {
            "text/plain": [
              " final_simplex: (array([[0.22265625],\n",
              "       [0.221875  ]]), array([-0.21723311, -0.21721348]))\n",
              "           fun: -0.21723311119612687\n",
              "       message: 'Optimization terminated successfully.'\n",
              "          nfev: 26\n",
              "           nit: 13\n",
              "        status: 0\n",
              "       success: True\n",
              "             x: array([0.22265625])"
            ]
          },
          "metadata": {
            "tags": []
          },
          "execution_count": 18
        }
      ]
    },
    {
      "cell_type": "code",
      "metadata": {
        "id": "aNejZ4pGZDYY",
        "colab_type": "code",
        "colab": {
          "base_uri": "https://localhost:8080/",
          "height": 265
        },
        "outputId": "97c2e6ae-5937-4e62-97ad-3bd26c5c5b01"
      },
      "source": [
        "fig = plt.figure()\n",
        "ax = fig.add_subplot(1, 1, 1)\n",
        "plt.plot(x,y, 'r')\n",
        "plt.plot(result.x, result.fun, 's')\n",
        "plt.show()"
      ],
      "execution_count": 19,
      "outputs": [
        {
          "output_type": "display_data",
          "data": {
            "image/png": "[encoded data removed]",
            "text/plain": [
              "<Figure size 432x288 with 1 Axes>"
            ]
          },
          "metadata": {
            "tags": [],
            "needs_background": "light"
          }
        }
      ]
    },
    {
      "cell_type": "markdown",
      "metadata": {
        "id": "rcbvK2FAxbh9",
        "colab_type": "text"
      },
      "source": [
        "# **Approximation**"
      ]
    },
    {
      "cell_type": "code",
      "metadata": {
        "id": "-tR_Q3r4xgj-",
        "colab_type": "code",
        "colab": {}
      },
      "source": [
        "def linear_fun(x, alpha, beta):\n",
        "  return alpha*x+beta"
      ],
      "execution_count": 20,
      "outputs": []
    },
    {
      "cell_type": "code",
      "metadata": {
        "id": "hqOGGCEz57yV",
        "colab_type": "code",
        "colab": {}
      },
      "source": [
        "def rational_fun(x, alpha, beta):\n",
        "  return alpha/(1+beta*x)"
      ],
      "execution_count": 21,
      "outputs": []
    },
    {
      "cell_type": "code",
      "metadata": {
        "id": "kYvIGem5xucy",
        "colab_type": "code",
        "colab": {
          "base_uri": "https://localhost:8080/",
          "height": 34
        },
        "outputId": "96f43461-3e6e-4057-bb58-2c9858ed052f"
      },
      "source": [
        "alpha = np.random.rand()\n",
        "beta = np.random.rand()\n",
        "noise = np.random.normal(0,1,101)\n",
        "print(alpha, beta)"
      ],
      "execution_count": 22,
      "outputs": [
        {
          "output_type": "stream",
          "text": [
            "0.9777813202279743 0.8948480076287375\n"
          ],
          "name": "stdout"
        }
      ]
    },
    {
      "cell_type": "code",
      "metadata": {
        "id": "UO1Z8r0AxxPy",
        "colab_type": "code",
        "colab": {}
      },
      "source": [
        "k = [*range(0, 101, 1)]\n",
        "x = np.array([x/100 for x in k])\n",
        "y = alpha*x + beta + noise"
      ],
      "execution_count": 23,
      "outputs": []
    },
    {
      "cell_type": "code",
      "metadata": {
        "id": "-KmmeLr_AR1J",
        "colab_type": "code",
        "colab": {}
      },
      "source": [
        "def objective(params):\n",
        "  alpha, beta = params\n",
        "  return np.sum(((alpha*x+beta)-y)**2)"
      ],
      "execution_count": 24,
      "outputs": []
    },
    {
      "cell_type": "markdown",
      "metadata": {
        "id": "2ILdLQI64FuY",
        "colab_type": "text"
      },
      "source": [
        "**Nelder-Mead**"
      ]
    },
    {
      "cell_type": "code",
      "metadata": {
        "id": "rIONZDSIAcKV",
        "colab_type": "code",
        "colab": {
          "base_uri": "https://localhost:8080/",
          "height": 187
        },
        "outputId": "a257f632-396d-4a08-e17d-1cb25207ab85"
      },
      "source": [
        "initial = [0,0]\n",
        "result = optimize.minimize(fun=objective, x0=initial,method=\"Nelder-Mead\", tol=0.001) \n",
        "result"
      ],
      "execution_count": 25,
      "outputs": [
        {
          "output_type": "execute_result",
          "data": {
            "text/plain": [
              " final_simplex: (array([[1.1026328 , 0.78220326],\n",
              "       [1.10167767, 0.78286373],\n",
              "       [1.10260886, 0.78248156]]), array([106.63299346, 106.63299374, 106.63299483]))\n",
              "           fun: 106.63299346299141\n",
              "       message: 'Optimization terminated successfully.'\n",
              "          nfev: 119\n",
              "           nit: 62\n",
              "        status: 0\n",
              "       success: True\n",
              "             x: array([1.1026328 , 0.78220326])"
            ]
          },
          "metadata": {
            "tags": []
          },
          "execution_count": 25
        }
      ]
    },
    {
      "cell_type": "code",
      "metadata": {
        "id": "c-AeL9IWx6RC",
        "colab_type": "code",
        "colab": {
          "base_uri": "https://localhost:8080/",
          "height": 282
        },
        "outputId": "85461608-2fae-4472-ecf3-dd1bbd644761"
      },
      "source": [
        "fig, ax = plt.subplots(1, 1)\n",
        "ax.plot(x, y, 'ob', label='data')\n",
        "ax.plot(x, linear_fun(x, result.x[0],result.x[1]), '-k', lw=2, label='linear fit')\n",
        "ax.legend()"
      ],
      "execution_count": 26,
      "outputs": [
        {
          "output_type": "execute_result",
          "data": {
            "text/plain": [
              "<matplotlib.legend.Legend at 0x7f99c5d7fda0>"
            ]
          },
          "metadata": {
            "tags": []
          },
          "execution_count": 26
        },
        {
          "output_type": "display_data",
          "data": {
            "image/png": "[encoded data removed]",
            "text/plain": [
              "<Figure size 432x288 with 1 Axes>"
            ]
          },
          "metadata": {
            "tags": [],
            "needs_background": "light"
          }
        }
      ]
    },
    {
      "cell_type": "code",
      "metadata": {
        "id": "EU2sQy9XyCf1",
        "colab_type": "code",
        "colab": {}
      },
      "source": [
        "def objective2(params):\n",
        "  alpha, beta = params\n",
        "  return np.sum(((alpha/(1+beta*x))-y)**2)"
      ],
      "execution_count": 27,
      "outputs": []
    },
    {
      "cell_type": "code",
      "metadata": {
        "id": "JvSZ5Lr6BDxA",
        "colab_type": "code",
        "colab": {
          "base_uri": "https://localhost:8080/",
          "height": 187
        },
        "outputId": "202496b3-54b1-4cf7-a209-ff59e9514b17"
      },
      "source": [
        "initial = [0,0]\n",
        "result = optimize.minimize(fun=objective2, x0=initial,method=\"Nelder-Mead\", tol=0.001) \n",
        "result"
      ],
      "execution_count": 28,
      "outputs": [
        {
          "output_type": "execute_result",
          "data": {
            "text/plain": [
              " final_simplex: (array([[ 0.93483385, -0.53276819],\n",
              "       [ 0.93563028, -0.53226117],\n",
              "       [ 0.93453468, -0.53327256]]), array([107.15246316, 107.15247391, 107.1524906 ]))\n",
              "           fun: 107.15246315911787\n",
              "       message: 'Optimization terminated successfully.'\n",
              "          nfev: 106\n",
              "           nit: 57\n",
              "        status: 0\n",
              "       success: True\n",
              "             x: array([ 0.93483385, -0.53276819])"
            ]
          },
          "metadata": {
            "tags": []
          },
          "execution_count": 28
        }
      ]
    },
    {
      "cell_type": "code",
      "metadata": {
        "id": "uXPE1qDe0Hb6",
        "colab_type": "code",
        "colab": {
          "base_uri": "https://localhost:8080/",
          "height": 282
        },
        "outputId": "67ae5f15-edac-482d-dd6e-14fd87ee5e2e"
      },
      "source": [
        "fig, ax = plt.subplots(1, 1)\n",
        "ax.plot(x, y, 'ob', label='data')\n",
        "ax.plot(x, rational_fun(x, result.x[0],result.x[1]), '-k', lw=2, label='curve fit')\n",
        "ax.legend()"
      ],
      "execution_count": 29,
      "outputs": [
        {
          "output_type": "execute_result",
          "data": {
            "text/plain": [
              "<matplotlib.legend.Legend at 0x7f99c5ecad30>"
            ]
          },
          "metadata": {
            "tags": []
          },
          "execution_count": 29
        },
        {
          "output_type": "display_data",
          "data": {
            "image/png": "[encoded data removed]",
            "text/plain": [
              "<Figure size 432x288 with 1 Axes>"
            ]
          },
          "metadata": {
            "tags": [],
            "needs_background": "light"
          }
        }
      ]
    },
    {
      "cell_type": "markdown",
      "metadata": {
        "id": "dOOfrChg4Mzn",
        "colab_type": "text"
      },
      "source": [
        "**Gauss Method**"
      ]
    },
    {
      "cell_type": "code",
      "metadata": {
        "id": "_niy1e7rS369",
        "colab_type": "code",
        "colab": {}
      },
      "source": [
        "def GaussMethod(fun, initial, tol):\n",
        "  y_orig = np.inf\n",
        "  a_init, b_init = initial\n",
        "  fev = 0\n",
        "  iteration = 0\n",
        "\n",
        "  for i in range(50):\n",
        "    iteration = iteration + 1\n",
        "    for a in np.linspace(0.1, 1, 1000):\n",
        "      b = b_init\n",
        "      y = fun([a, b])\n",
        "      fev =fev + 1\n",
        "      if np.abs(y-y_orig) < tol:\n",
        "        y_orig = y\n",
        "        a_init = a\n",
        "        break\n",
        "      if y < y_orig:\n",
        "        y_orig = y\n",
        "        a_init = a\n",
        "\n",
        "    for b in np.linspace(0.1, 1, 1000):\n",
        "      a = a_init\n",
        "      y = fun([a, b])\n",
        "      fev =fev + 1\n",
        "      if np.abs(y-y_orig) < tol:\n",
        "        b_init = b\n",
        "        y_orig = y\n",
        "        break\n",
        "      if y < y_orig:\n",
        "        y_orig = y\n",
        "        b_init = b\n",
        "        \n",
        "\n",
        "  return [a_init, b_init, fev, iteration, y_orig]"
      ],
      "execution_count": 30,
      "outputs": []
    },
    {
      "cell_type": "code",
      "metadata": {
        "id": "IuywZYe2ISj7",
        "colab_type": "code",
        "colab": {
          "base_uri": "https://localhost:8080/",
          "height": 34
        },
        "outputId": "8671947e-f52b-40a9-b31d-cb011fe73e75"
      },
      "source": [
        "initial = [0.001,0.001]\n",
        "result = GaussMethod(objective, initial, 0.001) \n",
        "result"
      ],
      "execution_count": 31,
      "outputs": [
        {
          "output_type": "execute_result",
          "data": {
            "text/plain": [
              "[1.0, 0.8279279279279279, 90451, 50, 106.72593991405303]"
            ]
          },
          "metadata": {
            "tags": []
          },
          "execution_count": 31
        }
      ]
    },
    {
      "cell_type": "code",
      "metadata": {
        "colab_type": "code",
        "id": "YEDPZntdVl2S",
        "colab": {
          "base_uri": "https://localhost:8080/",
          "height": 282
        },
        "outputId": "2ed63013-05fc-4edb-d9b6-c2397efed4ee"
      },
      "source": [
        "fig, ax = plt.subplots(1, 1)\n",
        "ax.plot(x, y, 'ob', label='data')\n",
        "ax.plot(x, linear_fun(x, result[0], result[1]), '-k', lw=2, label='linear fit')\n",
        "ax.legend()"
      ],
      "execution_count": 32,
      "outputs": [
        {
          "output_type": "execute_result",
          "data": {
            "text/plain": [
              "<matplotlib.legend.Legend at 0x7f99c652d710>"
            ]
          },
          "metadata": {
            "tags": []
          },
          "execution_count": 32
        },
        {
          "output_type": "display_data",
          "data": {
            "image/png": "[encoded data removed]",
            "text/plain": [
              "<Figure size 432x288 with 1 Axes>"
            ]
          },
          "metadata": {
            "tags": [],
            "needs_background": "light"
          }
        }
      ]
    },
    {
      "cell_type": "code",
      "metadata": {
        "id": "2mgjQHteWrfV",
        "colab_type": "code",
        "colab": {
          "base_uri": "https://localhost:8080/",
          "height": 34
        },
        "outputId": "e2da0b83-2601-4219-a523-0248c98a3b0a"
      },
      "source": [
        "initial = [0.001,0.001]\n",
        "result = GaussMethod(objective2, initial, 0.001) \n",
        "result"
      ],
      "execution_count": 33,
      "outputs": [
        {
          "output_type": "execute_result",
          "data": {
            "text/plain": [
              "[1.0, 0.001, 100000, 50, 128.35689377600715]"
            ]
          },
          "metadata": {
            "tags": []
          },
          "execution_count": 33
        }
      ]
    },
    {
      "cell_type": "code",
      "metadata": {
        "id": "8OeO8DGiVuQR",
        "colab_type": "code",
        "colab": {
          "base_uri": "https://localhost:8080/",
          "height": 282
        },
        "outputId": "2380eda2-dc1b-4d2b-b96b-fc0a0851de5c"
      },
      "source": [
        "fig, ax = plt.subplots(1, 1)\n",
        "ax.plot(x, y, 'ob', label='data')\n",
        "ax.plot(x, linear_fun(x, result[0], result[1]), '-k', lw=2, label='linear fit')\n",
        "ax.legend()"
      ],
      "execution_count": 34,
      "outputs": [
        {
          "output_type": "execute_result",
          "data": {
            "text/plain": [
              "<matplotlib.legend.Legend at 0x7f99c5d03128>"
            ]
          },
          "metadata": {
            "tags": []
          },
          "execution_count": 34
        },
        {
          "output_type": "display_data",
          "data": {
            "image/png": "[encoded data removed]",
            "text/plain": [
              "<Figure size 432x288 with 1 Axes>"
            ]
          },
          "metadata": {
            "tags": [],
            "needs_background": "light"
          }
        }
      ]
    },
    {
      "cell_type": "code",
      "metadata": {
        "id": "SBYq-58ia_8u",
        "colab_type": "code",
        "colab": {}
      },
      "source": [
        ""
      ],
      "execution_count": 34,
      "outputs": []
    }
  ]
}