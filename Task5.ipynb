{
  "nbformat": 4,
  "nbformat_minor": 0,
  "metadata": {
    "colab": {
      "name": "Task5.ipynb",
      "provenance": [],
      "collapsed_sections": [],
      "authorship_tag": "ABX9TyMv78tkSRJQsR38xHqoiRqB",
      "include_colab_link": true
    },
    "kernelspec": {
      "name": "python3",
      "display_name": "Python 3"
    }
  },
  "cells": [
    {
      "cell_type": "markdown",
      "metadata": {
        "id": "view-in-github",
        "colab_type": "text"
      },
      "source": [
        "<a href=\"https://colab.research.google.com/github/skozh/ADA1/blob/master/Task5.ipynb\" target=\"_parent\"><img src=\"https://colab.research.google.com/assets/colab-badge.svg\" alt=\"Open In Colab\"/></a>"
      ]
    },
    {
      "cell_type": "code",
      "metadata": {
        "id": "MUgFyBCbQV1M"
      },
      "source": [
        "import numpy as np\n",
        "import matplotlib.pyplot as plt\n",
        "import networkx as nx\n",
        "from collections import defaultdict"
      ],
      "execution_count": 1,
      "outputs": []
    },
    {
      "cell_type": "markdown",
      "metadata": {
        "id": "x9EGBNtBbri-"
      },
      "source": [
        "**Random Adjacency Matrix**"
      ]
    },
    {
      "cell_type": "code",
      "metadata": {
        "id": "hO1dnWewXQBZ",
        "outputId": "fcdd0daa-4187-41cb-b152-8d750462b1c5",
        "colab": {
          "base_uri": "https://localhost:8080/",
          "height": 319
        }
      },
      "source": [
        "G = nx.gnm_random_graph(100, 200)\n",
        "nx.draw(G)\n",
        "plt.show()"
      ],
      "execution_count": 2,
      "outputs": [
        {
          "output_type": "display_data",
          "data": {
            "image/png": "[encoded data removed]",
            "text/plain": [
              "<Figure size 432x288 with 1 Axes>"
            ]
          },
          "metadata": {
            "tags": []
          }
        }
      ]
    },
    {
      "cell_type": "code",
      "metadata": {
        "id": "UKDOuPjRXiK-",
        "outputId": "059ca76f-47a4-4668-f00f-c52582583622",
        "colab": {
          "base_uri": "https://localhost:8080/",
          "height": 136
        }
      },
      "source": [
        "adj = nx.adjacency_matrix(G).toarray()\n",
        "adj"
      ],
      "execution_count": 3,
      "outputs": [
        {
          "output_type": "execute_result",
          "data": {
            "text/plain": [
              "array([[0, 0, 0, ..., 0, 0, 0],\n",
              "       [0, 0, 0, ..., 0, 0, 0],\n",
              "       [0, 0, 0, ..., 0, 0, 0],\n",
              "       ...,\n",
              "       [0, 0, 0, ..., 0, 0, 0],\n",
              "       [0, 0, 0, ..., 0, 0, 0],\n",
              "       [0, 0, 0, ..., 0, 0, 0]], dtype=int64)"
            ]
          },
          "metadata": {
            "tags": []
          },
          "execution_count": 3
        }
      ]
    },
    {
      "cell_type": "code",
      "metadata": {
        "id": "Z5zZKPUhVu3Q",
        "outputId": "344cdfd7-e987-4b74-fc01-ca4ba07e9c89",
        "colab": {
          "base_uri": "https://localhost:8080/",
          "height": 833
        }
      },
      "source": [
        "np.where(adj==1)"
      ],
      "execution_count": 4,
      "outputs": [
        {
          "output_type": "execute_result",
          "data": {
            "text/plain": [
              "(array([ 0,  0,  0,  1,  1,  2,  2,  3,  3,  3,  4,  5,  5,  5,  5,  6,  6,\n",
              "         6,  6,  7,  7,  8,  8,  8,  9, 10, 11, 11, 11, 11, 13, 13, 13, 13,\n",
              "        13, 13, 14, 14, 14, 16, 16, 16, 16, 17, 17, 17, 17, 18, 18, 18, 19,\n",
              "        20, 21, 21, 22, 22, 22, 22, 22, 22, 23, 23, 23, 23, 23, 23, 24, 24,\n",
              "        24, 24, 24, 24, 25, 25, 25, 25, 25, 25, 26, 26, 26, 26, 26, 27, 27,\n",
              "        27, 27, 28, 28, 28, 28, 28, 29, 30, 30, 30, 30, 31, 31, 31, 31, 31,\n",
              "        32, 32, 32, 32, 32, 33, 33, 33, 33, 33, 33, 33, 34, 34, 34, 34, 35,\n",
              "        35, 35, 35, 35, 35, 35, 36, 36, 36, 36, 36, 37, 37, 38, 38, 38, 38,\n",
              "        38, 39, 39, 39, 39, 39, 39, 39, 39, 40, 40, 40, 40, 40, 40, 41, 41,\n",
              "        41, 41, 41, 41, 42, 42, 43, 43, 43, 44, 44, 44, 44, 45, 45, 45, 45,\n",
              "        46, 47, 47, 47, 47, 47, 48, 48, 48, 48, 49, 49, 49, 49, 49, 50, 50,\n",
              "        50, 50, 50, 51, 51, 51, 51, 51, 52, 53, 53, 53, 53, 54, 54, 54, 54,\n",
              "        54, 54, 54, 54, 55, 55, 55, 55, 56, 56, 56, 56, 57, 57, 58, 58, 59,\n",
              "        59, 59, 59, 59, 59, 60, 60, 60, 60, 60, 61, 61, 61, 61, 61, 62, 62,\n",
              "        62, 63, 63, 63, 64, 64, 64, 65, 65, 65, 65, 66, 66, 66, 66, 66, 67,\n",
              "        67, 67, 67, 67, 67, 68, 68, 68, 68, 68, 69, 69, 69, 69, 70, 70, 70,\n",
              "        70, 70, 71, 71, 71, 72, 72, 72, 72, 72, 72, 73, 73, 73, 73, 73, 73,\n",
              "        73, 74, 74, 74, 74, 74, 74, 74, 75, 75, 75, 75, 75, 75, 76, 77, 77,\n",
              "        78, 78, 78, 78, 78, 79, 80, 80, 81, 81, 81, 81, 81, 81, 81, 82, 82,\n",
              "        82, 82, 83, 84, 84, 84, 84, 85, 85, 85, 85, 86, 86, 86, 86, 86, 87,\n",
              "        87, 87, 87, 88, 89, 89, 89, 90, 90, 90, 90, 90, 91, 91, 91, 91, 91,\n",
              "        91, 91, 91, 92, 92, 92, 93, 93, 93, 93, 93, 93, 94, 94, 94, 94, 94,\n",
              "        94, 94, 95, 95, 95, 95, 96, 96, 96, 96, 96, 97, 97, 97, 97, 98, 98,\n",
              "        98, 98, 98, 98, 98, 99, 99, 99, 99]),\n",
              " array([26, 29, 73, 66, 91, 33, 39, 28, 58, 75, 28, 36, 51, 56, 59, 47, 55,\n",
              "        87, 98, 16, 69, 17, 72, 74, 24, 39, 36, 44, 69, 91, 23, 24, 36, 43,\n",
              "        66, 89, 26, 35, 95,  7, 17, 67, 78,  8, 16, 61, 77, 51, 54, 84, 64,\n",
              "        61, 23, 90, 28, 38, 66, 70, 73, 98, 13, 21, 40, 47, 48, 96,  9, 13,\n",
              "        49, 53, 74, 98, 31, 41, 42, 50, 75, 93,  0, 14, 65, 75, 97, 28, 35,\n",
              "        48, 87,  3,  4, 22, 27, 71,  0, 33, 52, 61, 94, 25, 41, 68, 73, 74,\n",
              "        75, 93, 97, 98, 99,  2, 30, 42, 67, 70, 75, 96, 57, 65, 73, 84, 14,\n",
              "        27, 36, 60, 63, 76, 99,  5, 11, 13, 35, 81, 81, 91, 22, 45, 49, 54,\n",
              "        67,  2, 10, 43, 47, 65, 84, 93, 96, 23, 50, 53, 74, 86, 94, 25, 31,\n",
              "        56, 60, 68, 74, 25, 33, 13, 39, 47, 11, 85, 98, 99, 38, 48, 72, 91,\n",
              "        94,  6, 23, 39, 43, 92, 23, 27, 45, 50, 24, 38, 59, 86, 92, 25, 40,\n",
              "        48, 91, 92,  5, 18, 81, 95, 98, 30, 24, 40, 59, 90, 18, 38, 62, 77,\n",
              "        79, 82, 86, 99,  6, 73, 74, 94,  5, 41, 81, 82, 34, 87,  3, 86,  5,\n",
              "        49, 53, 81, 85, 90, 35, 41, 71, 80, 91, 17, 20, 30, 78, 90, 54, 68,\n",
              "        98, 35, 67, 85, 19, 93, 97, 26, 34, 39, 82,  1, 13, 22, 73, 94, 16,\n",
              "        33, 38, 63, 82, 96, 31, 41, 62, 83, 87,  7, 11, 72, 75, 22, 33, 72,\n",
              "        89, 95, 28, 60, 95,  8, 45, 69, 70, 81, 93,  0, 22, 31, 34, 55, 66,\n",
              "        84,  8, 24, 31, 40, 41, 55, 78,  3, 25, 26, 32, 33, 69, 35, 17, 54,\n",
              "        16, 61, 74, 91, 94, 54, 60, 86, 36, 37, 51, 56, 59, 72, 91, 54, 56,\n",
              "        65, 67, 68, 18, 34, 39, 73, 44, 59, 63, 94, 40, 49, 54, 58, 80,  6,\n",
              "        27, 57, 68, 96, 13, 70, 97, 21, 53, 59, 61, 93,  1, 11, 37, 45, 50,\n",
              "        60, 78, 81, 47, 49, 50, 25, 32, 39, 64, 72, 90, 30, 40, 46, 55, 66,\n",
              "        78, 85, 14, 51, 70, 71, 23, 33, 39, 67, 88, 26, 32, 64, 89,  6, 22,\n",
              "        24, 32, 44, 51, 62, 32, 35, 44, 54]))"
            ]
          },
          "metadata": {
            "tags": []
          },
          "execution_count": 4
        }
      ]
    },
    {
      "cell_type": "markdown",
      "metadata": {
        "id": "rXrAchDWb0KU"
      },
      "source": [
        "**Adjacency List**"
      ]
    },
    {
      "cell_type": "code",
      "metadata": {
        "id": "SmZKRuej_KU1"
      },
      "source": [
        "class Node: \n",
        "  \n",
        "  def __init__(self): \n",
        "    self.graph = defaultdict(list) \n",
        "\n",
        "\n",
        "  def add_edge(self, u, v): \n",
        "    self.graph[u].append(v) \n",
        "\n",
        "\n",
        "  def DFS_Marking(self, v, dfs_marked, dfs_result): \n",
        "    dfs_marked[v] = True\n",
        "    dfs_result.append(v) \n",
        "    for i in self.graph[v]: \n",
        "      if dfs_marked[i] == False: \n",
        "        self.DFS_Marking(i, dfs_marked, dfs_result)\n",
        "    return dfs_result \n",
        "\n",
        "\n",
        "  def DFS(self, v):\n",
        "    dfs_result = [] \n",
        "    dfs_marked = [False] * (max(self.graph)+1) \n",
        "    return self.DFS_Marking(v, dfs_marked, dfs_result)\n",
        "\n",
        "\n",
        "  def BFS(self, s):\n",
        "    bfs_result = [] \n",
        "    bfs_marked = [False] * (len(self.graph)) \n",
        "    queue = [] \n",
        "    queue.append(s) \n",
        "    bfs_marked[s] = True\n",
        "    while queue: \n",
        "      s = queue.pop(0) \n",
        "      bfs_result.append(s)\n",
        "      for i in self.graph[s]: \n",
        "        if bfs_marked[i] == False: \n",
        "          queue.append(i) \n",
        "          bfs_marked[i] = True \n",
        "    return bfs_result\n",
        "\n",
        "  \n",
        "  def print_list(self): \n",
        "    for i in range(len(self.graph)): \n",
        "      print(\"Adjacency list of node {}:\\n\".format(i), end=\"\") \n",
        "      curr_node = self.graph[i] \n",
        "      for i in curr_node: \n",
        "        print(\" {}\".format(i), end=\" \")\n",
        "      print(\" \\n\")\n",
        "\n",
        "\n",
        "  def calc_distance(self, s, d, s_method):\n",
        "    path = self.BFS(s) if s_method == \"BFS\" else self.DFS(s)\n",
        "    try:\n",
        "      distance = path.index(d)\n",
        "      ret_path = path[:distance+1]\n",
        "    except ValueError:\n",
        "      ret_path = \"No Path Found!\"\n",
        "      distance = \"N/A\"\n",
        "    return distance, ret_path"
      ],
      "execution_count": 5,
      "outputs": []
    },
    {
      "cell_type": "code",
      "metadata": {
        "id": "B--U2fhvBQRw"
      },
      "source": [
        "g = Node()\n",
        "for i in range(100):\n",
        "  for j in range(100):\n",
        "    if adj[i][j] == 1:\n",
        "      g.add_edge(i, j)"
      ],
      "execution_count": 6,
      "outputs": []
    },
    {
      "cell_type": "code",
      "metadata": {
        "id": "oBKVadSEkiKO",
        "outputId": "3552c6f8-aed1-4c92-849c-5f61fc091114",
        "colab": {
          "base_uri": "https://localhost:8080/",
          "height": 1000
        }
      },
      "source": [
        "g.print_list()"
      ],
      "execution_count": 7,
      "outputs": [
        {
          "output_type": "stream",
          "text": [
            "Adjacency list of node 0:\n",
            " 26  29  73  \n",
            "\n",
            "Adjacency list of node 1:\n",
            " 66  91  \n",
            "\n",
            "Adjacency list of node 2:\n",
            " 33  39  \n",
            "\n",
            "Adjacency list of node 3:\n",
            " 28  58  75  \n",
            "\n",
            "Adjacency list of node 4:\n",
            " 28  \n",
            "\n",
            "Adjacency list of node 5:\n",
            " 36  51  56  59  \n",
            "\n",
            "Adjacency list of node 6:\n",
            " 47  55  87  98  \n",
            "\n",
            "Adjacency list of node 7:\n",
            " 16  69  \n",
            "\n",
            "Adjacency list of node 8:\n",
            " 17  72  74  \n",
            "\n",
            "Adjacency list of node 9:\n",
            " 24  \n",
            "\n",
            "Adjacency list of node 10:\n",
            " 39  \n",
            "\n",
            "Adjacency list of node 11:\n",
            " 36  44  69  91  \n",
            "\n",
            "Adjacency list of node 12:\n",
            " \n",
            "\n",
            "Adjacency list of node 13:\n",
            " 23  24  36  43  66  89  \n",
            "\n",
            "Adjacency list of node 14:\n",
            " 26  35  95  \n",
            "\n",
            "Adjacency list of node 15:\n",
            " \n",
            "\n",
            "Adjacency list of node 16:\n",
            " 7  17  67  78  \n",
            "\n",
            "Adjacency list of node 17:\n",
            " 8  16  61  77  \n",
            "\n",
            "Adjacency list of node 18:\n",
            " 51  54  84  \n",
            "\n",
            "Adjacency list of node 19:\n",
            " 64  \n",
            "\n",
            "Adjacency list of node 20:\n",
            " 61  \n",
            "\n",
            "Adjacency list of node 21:\n",
            " 23  90  \n",
            "\n",
            "Adjacency list of node 22:\n",
            " 28  38  66  70  73  98  \n",
            "\n",
            "Adjacency list of node 23:\n",
            " 13  21  40  47  48  96  \n",
            "\n",
            "Adjacency list of node 24:\n",
            " 9  13  49  53  74  98  \n",
            "\n",
            "Adjacency list of node 25:\n",
            " 31  41  42  50  75  93  \n",
            "\n",
            "Adjacency list of node 26:\n",
            " 0  14  65  75  97  \n",
            "\n",
            "Adjacency list of node 27:\n",
            " 28  35  48  87  \n",
            "\n",
            "Adjacency list of node 28:\n",
            " 3  4  22  27  71  \n",
            "\n",
            "Adjacency list of node 29:\n",
            " 0  \n",
            "\n",
            "Adjacency list of node 30:\n",
            " 33  52  61  94  \n",
            "\n",
            "Adjacency list of node 31:\n",
            " 25  41  68  73  74  \n",
            "\n",
            "Adjacency list of node 32:\n",
            " 75  93  97  98  99  \n",
            "\n",
            "Adjacency list of node 33:\n",
            " 2  30  42  67  70  75  96  \n",
            "\n",
            "Adjacency list of node 34:\n",
            " 57  65  73  84  \n",
            "\n",
            "Adjacency list of node 35:\n",
            " 14  27  36  60  63  76  99  \n",
            "\n",
            "Adjacency list of node 36:\n",
            " 5  11  13  35  81  \n",
            "\n",
            "Adjacency list of node 37:\n",
            " 81  91  \n",
            "\n",
            "Adjacency list of node 38:\n",
            " 22  45  49  54  67  \n",
            "\n",
            "Adjacency list of node 39:\n",
            " 2  10  43  47  65  84  93  96  \n",
            "\n",
            "Adjacency list of node 40:\n",
            " 23  50  53  74  86  94  \n",
            "\n",
            "Adjacency list of node 41:\n",
            " 25  31  56  60  68  74  \n",
            "\n",
            "Adjacency list of node 42:\n",
            " 25  33  \n",
            "\n",
            "Adjacency list of node 43:\n",
            " 13  39  47  \n",
            "\n",
            "Adjacency list of node 44:\n",
            " 11  85  98  99  \n",
            "\n",
            "Adjacency list of node 45:\n",
            " 38  48  72  91  \n",
            "\n",
            "Adjacency list of node 46:\n",
            " 94  \n",
            "\n",
            "Adjacency list of node 47:\n",
            " 6  23  39  43  92  \n",
            "\n",
            "Adjacency list of node 48:\n",
            " 23  27  45  50  \n",
            "\n",
            "Adjacency list of node 49:\n",
            " 24  38  59  86  92  \n",
            "\n",
            "Adjacency list of node 50:\n",
            " 25  40  48  91  92  \n",
            "\n",
            "Adjacency list of node 51:\n",
            " 5  18  81  95  98  \n",
            "\n",
            "Adjacency list of node 52:\n",
            " 30  \n",
            "\n",
            "Adjacency list of node 53:\n",
            " 24  40  59  90  \n",
            "\n",
            "Adjacency list of node 54:\n",
            " 18  38  62  77  79  82  86  99  \n",
            "\n",
            "Adjacency list of node 55:\n",
            " 6  73  74  94  \n",
            "\n",
            "Adjacency list of node 56:\n",
            " 5  41  81  82  \n",
            "\n",
            "Adjacency list of node 57:\n",
            " 34  87  \n",
            "\n",
            "Adjacency list of node 58:\n",
            " 3  86  \n",
            "\n",
            "Adjacency list of node 59:\n",
            " 5  49  53  81  85  90  \n",
            "\n",
            "Adjacency list of node 60:\n",
            " 35  41  71  80  91  \n",
            "\n",
            "Adjacency list of node 61:\n",
            " 17  20  30  78  90  \n",
            "\n",
            "Adjacency list of node 62:\n",
            " 54  68  98  \n",
            "\n",
            "Adjacency list of node 63:\n",
            " 35  67  85  \n",
            "\n",
            "Adjacency list of node 64:\n",
            " 19  93  97  \n",
            "\n",
            "Adjacency list of node 65:\n",
            " 26  34  39  82  \n",
            "\n",
            "Adjacency list of node 66:\n",
            " 1  13  22  73  94  \n",
            "\n",
            "Adjacency list of node 67:\n",
            " 16  33  38  63  82  96  \n",
            "\n",
            "Adjacency list of node 68:\n",
            " 31  41  62  83  87  \n",
            "\n",
            "Adjacency list of node 69:\n",
            " 7  11  72  75  \n",
            "\n",
            "Adjacency list of node 70:\n",
            " 22  33  72  89  95  \n",
            "\n",
            "Adjacency list of node 71:\n",
            " 28  60  95  \n",
            "\n",
            "Adjacency list of node 72:\n",
            " 8  45  69  70  81  93  \n",
            "\n",
            "Adjacency list of node 73:\n",
            " 0  22  31  34  55  66  84  \n",
            "\n",
            "Adjacency list of node 74:\n",
            " 8  24  31  40  41  55  78  \n",
            "\n",
            "Adjacency list of node 75:\n",
            " 3  25  26  32  33  69  \n",
            "\n",
            "Adjacency list of node 76:\n",
            " 35  \n",
            "\n",
            "Adjacency list of node 77:\n",
            " 17  54  \n",
            "\n",
            "Adjacency list of node 78:\n",
            " 16  61  74  91  94  \n",
            "\n",
            "Adjacency list of node 79:\n",
            " 54  \n",
            "\n",
            "Adjacency list of node 80:\n",
            " 60  86  \n",
            "\n",
            "Adjacency list of node 81:\n",
            " 36  37  51  56  59  72  91  \n",
            "\n",
            "Adjacency list of node 82:\n",
            " 54  56  65  67  \n",
            "\n",
            "Adjacency list of node 83:\n",
            " 68  \n",
            "\n",
            "Adjacency list of node 84:\n",
            " 18  34  39  73  \n",
            "\n",
            "Adjacency list of node 85:\n",
            " 44  59  63  94  \n",
            "\n",
            "Adjacency list of node 86:\n",
            " 40  49  54  58  80  \n",
            "\n",
            "Adjacency list of node 87:\n",
            " 6  27  57  68  \n",
            "\n",
            "Adjacency list of node 88:\n",
            " 96  \n",
            "\n",
            "Adjacency list of node 89:\n",
            " 13  70  97  \n",
            "\n",
            "Adjacency list of node 90:\n",
            " 21  53  59  61  93  \n",
            "\n",
            "Adjacency list of node 91:\n",
            " 1  11  37  45  50  60  78  81  \n",
            "\n",
            "Adjacency list of node 92:\n",
            " 47  49  50  \n",
            "\n",
            "Adjacency list of node 93:\n",
            " 25  32  39  64  72  90  \n",
            "\n",
            "Adjacency list of node 94:\n",
            " 30  40  46  55  66  78  85  \n",
            "\n",
            "Adjacency list of node 95:\n",
            " 14  51  70  71  \n",
            "\n",
            "Adjacency list of node 96:\n",
            " 23  33  39  67  88  \n",
            "\n",
            "Adjacency list of node 97:\n",
            " 26  32  64  89  \n",
            "\n"
          ],
          "name": "stdout"
        }
      ]
    },
    {
      "cell_type": "markdown",
      "metadata": {
        "id": "c-ke4W8VlX0N"
      },
      "source": [
        "**Breadth First Search**"
      ]
    },
    {
      "cell_type": "code",
      "metadata": {
        "id": "VPbTQvOnBfxi",
        "outputId": "f655a2db-9117-477a-a092-98afccae4ebc",
        "colab": {
          "base_uri": "https://localhost:8080/",
          "height": 54
        }
      },
      "source": [
        "print(str(g.BFS(68)))"
      ],
      "execution_count": 8,
      "outputs": [
        {
          "output_type": "stream",
          "text": [
            "[68, 31, 41, 62, 83, 87, 25, 73, 74, 56, 60, 54, 98, 6, 27, 57, 42, 50, 75, 93, 0, 22, 34, 55, 66, 84, 8, 24, 40, 78, 5, 81, 82, 35, 71, 80, 91, 18, 38, 77, 79, 86, 99, 32, 44, 51, 47, 28, 48, 33, 92, 3, 26, 69, 39, 64, 72, 90, 29, 70, 65, 94, 1, 13, 17, 9, 49, 53, 23, 16, 61, 36, 59, 37, 67, 14, 63, 76, 95, 11, 45, 58, 97, 85, 43, 4, 2, 30, 96, 7, 10, 19, 21, 89, 46, 20, 52, 88]\n"
          ],
          "name": "stdout"
        }
      ]
    },
    {
      "cell_type": "code",
      "metadata": {
        "id": "LzuOF7D5ZUQF",
        "outputId": "c6cc4f80-4a45-4073-b7ba-1d1a590d8cf6",
        "colab": {
          "base_uri": "https://localhost:8080/",
          "height": 71
        }
      },
      "source": [
        "distance, path = g.calc_distance(4, 99, \"BFS\")\n",
        "print(\"Distance = \"+str(distance))\n",
        "print(\"Path = \"+str(path))"
      ],
      "execution_count": 9,
      "outputs": [
        {
          "output_type": "stream",
          "text": [
            "Distance = 47\n",
            "Path = [4, 28, 3, 22, 27, 71, 58, 75, 38, 66, 70, 73, 98, 35, 48, 87, 60, 95, 86, 25, 26, 32, 33, 69, 45, 49, 54, 67, 1, 13, 94, 72, 89, 0, 31, 34, 55, 84, 6, 24, 44, 51, 62, 14, 36, 63, 76, 99]\n"
          ],
          "name": "stdout"
        }
      ]
    },
    {
      "cell_type": "markdown",
      "metadata": {
        "id": "BWavKGgtle9r"
      },
      "source": [
        "**Depth First Search**"
      ]
    },
    {
      "cell_type": "code",
      "metadata": {
        "id": "otgOKMCIBlOK",
        "outputId": "f7e08526-0100-41ac-b3ef-55c7a33cbd85",
        "colab": {
          "base_uri": "https://localhost:8080/",
          "height": 54
        }
      },
      "source": [
        "print(str(g.DFS(9)))"
      ],
      "execution_count": 10,
      "outputs": [
        {
          "output_type": "stream",
          "text": [
            "[9, 24, 13, 23, 21, 90, 53, 40, 50, 25, 31, 41, 56, 5, 36, 11, 44, 85, 59, 49, 38, 22, 28, 3, 58, 86, 54, 18, 51, 81, 37, 91, 1, 66, 73, 0, 26, 14, 35, 27, 48, 45, 72, 8, 17, 16, 7, 69, 75, 32, 93, 39, 2, 33, 30, 52, 61, 20, 78, 74, 55, 6, 47, 43, 92, 87, 57, 34, 65, 82, 67, 63, 96, 88, 84, 68, 62, 98, 83, 94, 46, 42, 70, 89, 97, 64, 19, 95, 71, 60, 80, 10, 99, 77, 76, 29, 79, 4]\n"
          ],
          "name": "stdout"
        }
      ]
    },
    {
      "cell_type": "code",
      "metadata": {
        "id": "-52As-Qr-rKH",
        "outputId": "73f7e847-94cf-4cbc-87e7-11fd150e93e6",
        "colab": {
          "base_uri": "https://localhost:8080/",
          "height": 71
        }
      },
      "source": [
        "distance, path = g.calc_distance(4, 99, \"DFS\")\n",
        "print(\"Distance = \"+str(distance))\n",
        "print(\"Path = \"+str(path))"
      ],
      "execution_count": 11,
      "outputs": [
        {
          "output_type": "stream",
          "text": [
            "Distance = 86\n",
            "Path = [4, 28, 3, 58, 86, 40, 23, 13, 24, 9, 49, 38, 22, 66, 1, 91, 11, 36, 5, 51, 18, 54, 62, 68, 31, 25, 41, 56, 81, 37, 59, 53, 90, 21, 61, 17, 8, 72, 45, 48, 27, 35, 14, 26, 0, 29, 73, 34, 57, 87, 6, 47, 39, 2, 33, 30, 52, 94, 46, 55, 74, 78, 16, 7, 69, 75, 32, 93, 64, 19, 97, 89, 70, 95, 71, 60, 80, 98, 44, 85, 63, 67, 82, 65, 96, 88, 99]\n"
          ],
          "name": "stdout"
        }
      ]
    }
  ]
}