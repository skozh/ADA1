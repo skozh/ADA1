{
  "nbformat": 4,
  "nbformat_minor": 0,
  "metadata": {
    "colab": {
      "name": "Task5.ipynb",
      "provenance": [],
      "collapsed_sections": [],
      "authorship_tag": "ABX9TyN1sQU2L60VKXhrzO0Gyby8",
      "include_colab_link": true
    },
    "kernelspec": {
      "name": "python3",
      "display_name": "Python 3"
    }
  },
  "cells": [
    {
      "cell_type": "markdown",
      "metadata": {
        "id": "view-in-github",
        "colab_type": "text"
      },
      "source": [
        "<a href=\"https://colab.research.google.com/github/skozh/ADA1/blob/master/Task5.ipynb\" target=\"_parent\"><img src=\"https://colab.research.google.com/assets/colab-badge.svg\" alt=\"Open In Colab\"/></a>"
      ]
    },
    {
      "cell_type": "code",
      "metadata": {
        "id": "MUgFyBCbQV1M"
      },
      "source": [
        "import numpy as np\n",
        "import matplotlib.pyplot as plt\n",
        "import networkx as nx\n",
        "from collections import defaultdict"
      ],
      "execution_count": null,
      "outputs": []
    },
    {
      "cell_type": "markdown",
      "metadata": {
        "id": "x9EGBNtBbri-"
      },
      "source": [
        "**Random Adjacency Matrix**"
      ]
    },
    {
      "cell_type": "code",
      "metadata": {
        "id": "hO1dnWewXQBZ",
        "outputId": "74acd488-27ee-4b37-b52c-193e1567959c",
        "colab": {
          "base_uri": "https://localhost:8080/",
          "height": 319
        }
      },
      "source": [
        "G = nx.random_tree(100)\n",
        "nx.draw(G)\n",
        "plt.show()"
      ],
      "execution_count": null,
      "outputs": [
        {
          "output_type": "display_data",
          "data": {
            "image/png": "[encoded data removed]",
            "text/plain": [
              "<Figure size 432x288 with 1 Axes>"
            ]
          },
          "metadata": {
            "tags": []
          }
        }
      ]
    },
    {
      "cell_type": "code",
      "metadata": {
        "id": "UKDOuPjRXiK-",
        "outputId": "e8440321-bd45-41bb-8510-dd5ed7f0e23f",
        "colab": {
          "base_uri": "https://localhost:8080/",
          "height": 136
        }
      },
      "source": [
        "adj = nx.adjacency_matrix(G).toarray()\n",
        "adj"
      ],
      "execution_count": null,
      "outputs": [
        {
          "output_type": "execute_result",
          "data": {
            "text/plain": [
              "array([[0, 0, 0, ..., 0, 0, 0],\n",
              "       [0, 0, 0, ..., 0, 1, 0],\n",
              "       [0, 0, 0, ..., 0, 0, 0],\n",
              "       ...,\n",
              "       [0, 0, 0, ..., 0, 0, 0],\n",
              "       [0, 1, 0, ..., 0, 0, 0],\n",
              "       [0, 0, 0, ..., 0, 0, 0]], dtype=int64)"
            ]
          },
          "metadata": {
            "tags": []
          },
          "execution_count": 3
        }
      ]
    },
    {
      "cell_type": "code",
      "metadata": {
        "id": "Z5zZKPUhVu3Q",
        "outputId": "b7791f34-c40c-41b6-f9dd-5c2b4fb26dec",
        "colab": {
          "base_uri": "https://localhost:8080/",
          "height": 425
        }
      },
      "source": [
        "np.where(adj==1)"
      ],
      "execution_count": null,
      "outputs": [
        {
          "output_type": "execute_result",
          "data": {
            "text/plain": [
              "(array([ 0,  0,  1,  1,  2,  3,  3,  4,  4,  5,  5,  5,  5,  6,  6,  7,  7,\n",
              "         7,  8,  8,  8,  9,  9, 10, 10, 11, 11, 12, 12, 13, 13, 14, 14, 14,\n",
              "        15, 16, 16, 17, 18, 19, 20, 20, 20, 21, 22, 22, 23, 23, 24, 24, 25,\n",
              "        25, 26, 26, 26, 27, 27, 28, 29, 30, 30, 31, 31, 31, 32, 33, 33, 33,\n",
              "        33, 34, 34, 34, 35, 36, 37, 37, 38, 38, 39, 39, 39, 39, 40, 40, 41,\n",
              "        42, 42, 43, 44, 45, 45, 46, 46, 47, 47, 47, 48, 48, 49, 49, 50, 51,\n",
              "        51, 51, 51, 52, 53, 53, 53, 53, 54, 54, 55, 56, 56, 57, 58, 59, 59,\n",
              "        60, 60, 61, 61, 62, 63, 63, 64, 65, 65, 66, 66, 67, 67, 67, 68, 68,\n",
              "        68, 69, 69, 69, 70, 70, 70, 71, 72, 72, 73, 74, 74, 74, 75, 76, 76,\n",
              "        76, 77, 78, 79, 80, 80, 81, 81, 82, 82, 82, 83, 83, 84, 84, 84, 85,\n",
              "        85, 85, 86, 86, 87, 88, 88, 89, 89, 89, 90, 90, 90, 90, 91, 92, 92,\n",
              "        92, 93, 94, 94, 94, 95, 96, 97, 98, 98, 99]),\n",
              " array([39, 67, 66, 98, 74, 19, 39, 14, 54, 21, 27, 65, 81, 18, 54, 27, 31,\n",
              "        51, 23, 38, 77, 26, 88, 53, 74, 28, 69, 15, 16, 70, 85,  4, 80, 84,\n",
              "        12, 12, 48, 26,  6,  3, 40, 68, 74,  5, 37, 85,  8, 85, 46, 47, 53,\n",
              "        92,  9, 17, 60,  5,  7, 11, 34, 40, 71,  7, 34, 82, 45, 70, 73, 75,\n",
              "        80, 29, 31, 94, 53, 76, 22, 98,  8, 69,  0,  3, 44, 47, 20, 30, 92,\n",
              "        58, 82, 51, 39, 32, 53, 24, 89, 24, 39, 99, 16, 59, 76, 89, 90,  7,\n",
              "        43, 63, 68, 76, 10, 25, 35, 45,  4,  6, 81, 88, 96, 67, 42, 48, 84,\n",
              "        26, 65, 72, 83, 94, 51, 83, 66,  5, 60,  1, 64,  0, 57, 70, 20, 51,\n",
              "        91, 11, 38, 90, 13, 33, 67, 30, 61, 90, 33,  2, 10, 20, 33, 36, 49,\n",
              "        52,  8, 90, 86, 14, 33,  5, 55, 31, 42, 97, 61, 63, 14, 59, 95, 13,\n",
              "        22, 23, 79, 89, 92,  9, 56, 46, 49, 86, 50, 69, 72, 78, 68, 25, 41,\n",
              "        87, 94, 34, 62, 93, 84, 56, 82,  1, 37, 47]))"
            ]
          },
          "metadata": {
            "tags": []
          },
          "execution_count": 4
        }
      ]
    },
    {
      "cell_type": "markdown",
      "metadata": {
        "id": "rXrAchDWb0KU"
      },
      "source": [
        "**Adjacency List**"
      ]
    },
    {
      "cell_type": "code",
      "metadata": {
        "id": "SmZKRuej_KU1"
      },
      "source": [
        "class Node: \n",
        "  \n",
        "  def __init__(self): \n",
        "    self.graph = defaultdict(list) \n",
        "\n",
        "\n",
        "  def add_edge(self, u, v): \n",
        "    self.graph[u].append(v) \n",
        "\n",
        "\n",
        "  def DFS_Marking(self, v, dfs_marked, dfs_result): \n",
        "    dfs_marked[v] = True\n",
        "    dfs_result.append(v) \n",
        "    for i in self.graph[v]: \n",
        "      if dfs_marked[i] == False: \n",
        "        self.DFS_Marking(i, dfs_marked, dfs_result)\n",
        "    return dfs_result \n",
        "\n",
        "\n",
        "  def DFS(self, v):\n",
        "    dfs_result = [] \n",
        "    dfs_marked = [False] * (max(self.graph)+1) \n",
        "    return self.DFS_Marking(v, dfs_marked, dfs_result)\n",
        "\n",
        "\n",
        "  def BFS(self, s):\n",
        "    bfs_result = [] \n",
        "    bfs_marked = [False] * (len(self.graph)) \n",
        "    queue = [] \n",
        "    queue.append(s) \n",
        "    bfs_marked[s] = True\n",
        "    while queue: \n",
        "      s = queue.pop(0) \n",
        "      bfs_result.append(s)\n",
        "      for i in self.graph[s]: \n",
        "        if bfs_marked[i] == False: \n",
        "          queue.append(i) \n",
        "          bfs_marked[i] = True \n",
        "    return bfs_result\n",
        "\n",
        "\n",
        "  def calc_distance(self, s, d, s_method):\n",
        "    path = self.BFS(s) if s_method == \"BFS\" else self.DFS(s)\n",
        "    try:\n",
        "      distance = path.index(d)\n",
        "      ret_path = path[:distance+1]\n",
        "    except ValueError:\n",
        "      ret_path = \"No Path Found!\"\n",
        "      distance = \"N/A\"\n",
        "    return distance, ret_path"
      ],
      "execution_count": null,
      "outputs": []
    },
    {
      "cell_type": "code",
      "metadata": {
        "id": "B--U2fhvBQRw"
      },
      "source": [
        "g = Node()\n",
        "for i in range(100):\n",
        "  for j in range(100):\n",
        "    if adj[i][j] == 1:\n",
        "      g.add_edge(i, j)"
      ],
      "execution_count": null,
      "outputs": []
    },
    {
      "cell_type": "code",
      "metadata": {
        "id": "VPbTQvOnBfxi",
        "outputId": "fe4bea64-2190-43d9-e6fe-5e76951ca23d",
        "colab": {
          "base_uri": "https://localhost:8080/",
          "height": 54
        }
      },
      "source": [
        "print(str(g.BFS(68)))"
      ],
      "execution_count": null,
      "outputs": [
        {
          "output_type": "stream",
          "text": [
            "[68, 20, 51, 91, 40, 74, 7, 43, 63, 30, 2, 10, 27, 31, 83, 71, 53, 5, 34, 82, 61, 25, 35, 45, 21, 65, 81, 29, 94, 42, 97, 72, 92, 32, 60, 55, 62, 93, 58, 90, 41, 87, 26, 50, 69, 78, 9, 17, 11, 38, 88, 28, 8, 56, 23, 77, 96, 85, 13, 22, 70, 37, 33, 67, 98, 73, 75, 80, 0, 57, 1, 14, 39, 66, 4, 84, 3, 44, 47, 64, 54, 59, 95, 19, 24, 99, 6, 48, 46, 18, 16, 89, 12, 49, 86, 15, 76, 79, 36, 52]\n"
          ],
          "name": "stdout"
        }
      ]
    },
    {
      "cell_type": "code",
      "metadata": {
        "id": "otgOKMCIBlOK",
        "outputId": "8f251c86-9775-4a92-ee30-8c048f09b16a",
        "colab": {
          "base_uri": "https://localhost:8080/",
          "height": 54
        }
      },
      "source": [
        "print(str(g.DFS(9)))"
      ],
      "execution_count": null,
      "outputs": [
        {
          "output_type": "stream",
          "text": [
            "[9, 26, 17, 60, 65, 5, 21, 27, 7, 31, 34, 29, 94, 62, 93, 82, 42, 58, 97, 51, 43, 63, 83, 61, 72, 90, 50, 69, 11, 28, 38, 8, 23, 85, 13, 70, 33, 73, 75, 80, 14, 4, 54, 6, 18, 84, 59, 48, 16, 12, 15, 95, 67, 0, 39, 3, 19, 44, 47, 24, 46, 89, 49, 76, 36, 52, 86, 79, 99, 57, 22, 37, 98, 1, 66, 64, 77, 78, 68, 20, 40, 30, 71, 74, 2, 10, 53, 25, 92, 41, 87, 35, 45, 32, 91, 81, 55, 88, 56, 96]\n"
          ],
          "name": "stdout"
        }
      ]
    },
    {
      "cell_type": "code",
      "metadata": {
        "id": "-52As-Qr-rKH",
        "outputId": "ba17c0e5-63ca-4054-d974-28f15a5588cc",
        "colab": {
          "base_uri": "https://localhost:8080/",
          "height": 71
        }
      },
      "source": [
        "distance, path = g.calc_distance(4, 99, \"DFS\")\n",
        "print(\"Distance = \"+str(distance))\n",
        "print(\"Path = \"+str(path))"
      ],
      "execution_count": null,
      "outputs": [
        {
          "output_type": "stream",
          "text": [
            "Distance = 86\n",
            "Path = [4, 14, 80, 33, 70, 13, 85, 22, 37, 98, 1, 66, 64, 23, 8, 38, 69, 11, 28, 90, 50, 72, 61, 83, 63, 51, 7, 27, 5, 21, 65, 60, 26, 9, 88, 56, 96, 17, 81, 55, 31, 34, 29, 94, 62, 93, 82, 42, 58, 97, 43, 68, 20, 40, 30, 71, 74, 2, 10, 53, 25, 92, 41, 87, 35, 45, 32, 91, 78, 77, 67, 0, 39, 3, 19, 44, 47, 24, 46, 89, 49, 76, 36, 52, 86, 79, 99]\n"
          ],
          "name": "stdout"
        }
      ]
    },
    {
      "cell_type": "code",
      "metadata": {
        "id": "LzuOF7D5ZUQF",
        "outputId": "d723d175-9eb5-46a2-d228-044f678c4e52",
        "colab": {
          "base_uri": "https://localhost:8080/",
          "height": 51
        }
      },
      "source": [
        "distance, path = g.calc_distance(4, 99, \"BFS\")\n",
        "print(\"Distance = \"+str(distance))\n",
        "print(\"Path = \"+str(path))"
      ],
      "execution_count": null,
      "outputs": [
        {
          "output_type": "stream",
          "text": [
            "Distance = 35\n",
            "Path = [4, 14, 54, 80, 84, 6, 33, 59, 95, 18, 70, 73, 75, 48, 13, 67, 16, 85, 0, 57, 12, 22, 23, 39, 15, 37, 8, 3, 44, 47, 98, 38, 77, 19, 24, 99]\n"
          ],
          "name": "stdout"
        }
      ]
    }
  ]
}