{
  "nbformat": 4,
  "nbformat_minor": 0,
  "metadata": {
    "colab": {
      "name": "Task5.ipynb",
      "provenance": [],
      "collapsed_sections": [],
      "authorship_tag": "ABX9TyPMWdCzlvyUDJPaYpaTA3Tt",
      "include_colab_link": true
    },
    "kernelspec": {
      "name": "python3",
      "display_name": "Python 3"
    }
  },
  "cells": [
    {
      "cell_type": "markdown",
      "metadata": {
        "id": "view-in-github",
        "colab_type": "text"
      },
      "source": [
        "<a href=\"https://colab.research.google.com/github/skozh/ADA1/blob/master/Task5.ipynb\" target=\"_parent\"><img src=\"https://colab.research.google.com/assets/colab-badge.svg\" alt=\"Open In Colab\"/></a>"
      ]
    },
    {
      "cell_type": "code",
      "metadata": {
        "id": "MUgFyBCbQV1M"
      },
      "source": [
        "import numpy as np\n",
        "import matplotlib.pyplot as plt\n",
        "import networkx as nx\n",
        "from collections import defaultdict"
      ],
      "execution_count": 1,
      "outputs": []
    },
    {
      "cell_type": "markdown",
      "metadata": {
        "id": "x9EGBNtBbri-"
      },
      "source": [
        "**Random Adjacency Matrix**"
      ]
    },
    {
      "cell_type": "code",
      "metadata": {
        "id": "hO1dnWewXQBZ",
        "outputId": "3598351b-2973-4399-8622-31e1ce879fd5",
        "colab": {
          "base_uri": "https://localhost:8080/",
          "height": 319
        }
      },
      "source": [
        "G = nx.random_tree(100)\n",
        "nx.draw(G)\n",
        "plt.show()"
      ],
      "execution_count": 2,
      "outputs": [
        {
          "output_type": "display_data",
          "data": {
            "image/png": "[encoded data removed]",
            "text/plain": [
              "<Figure size 432x288 with 1 Axes>"
            ]
          },
          "metadata": {
            "tags": []
          }
        }
      ]
    },
    {
      "cell_type": "code",
      "metadata": {
        "id": "UKDOuPjRXiK-",
        "outputId": "a0e0f9c3-7a97-49df-d8f2-306809916975",
        "colab": {
          "base_uri": "https://localhost:8080/",
          "height": 136
        }
      },
      "source": [
        "adj = nx.adjacency_matrix(G).toarray()\n",
        "adj"
      ],
      "execution_count": 3,
      "outputs": [
        {
          "output_type": "execute_result",
          "data": {
            "text/plain": [
              "array([[0, 0, 0, ..., 0, 0, 0],\n",
              "       [0, 0, 0, ..., 0, 0, 1],\n",
              "       [0, 0, 0, ..., 0, 0, 0],\n",
              "       ...,\n",
              "       [0, 0, 0, ..., 0, 0, 0],\n",
              "       [0, 0, 0, ..., 0, 0, 0],\n",
              "       [0, 1, 0, ..., 0, 0, 0]], dtype=int64)"
            ]
          },
          "metadata": {
            "tags": []
          },
          "execution_count": 3
        }
      ]
    },
    {
      "cell_type": "code",
      "metadata": {
        "id": "Z5zZKPUhVu3Q",
        "outputId": "9cad0fdc-4516-41a4-aa40-63513c77f29f",
        "colab": {
          "base_uri": "https://localhost:8080/",
          "height": 425
        }
      },
      "source": [
        "np.where(adj==1)"
      ],
      "execution_count": 4,
      "outputs": [
        {
          "output_type": "execute_result",
          "data": {
            "text/plain": [
              "(array([ 0,  1,  1,  1,  2,  2,  3,  3,  4,  4,  5,  5,  6,  7,  7,  7,  7,\n",
              "         8,  8,  9,  9,  9, 10, 11, 11, 11, 12, 12, 12, 12, 13, 13, 13, 14,\n",
              "        14, 15, 15, 15, 16, 17, 17, 18, 19, 19, 20, 21, 21, 21, 22, 23, 23,\n",
              "        24, 25, 26, 26, 26, 27, 27, 28, 28, 28, 29, 30, 31, 31, 32, 33, 33,\n",
              "        33, 34, 34, 34, 34, 35, 35, 36, 37, 37, 37, 37, 38, 38, 39, 39, 39,\n",
              "        40, 41, 41, 41, 42, 42, 42, 43, 43, 44, 45, 46, 46, 47, 47, 47, 48,\n",
              "        48, 49, 49, 49, 50, 50, 51, 52, 53, 53, 53, 54, 54, 55, 56, 56, 57,\n",
              "        57, 58, 59, 59, 59, 60, 60, 60, 60, 61, 61, 62, 63, 64, 65, 65, 65,\n",
              "        65, 66, 67, 67, 67, 68, 69, 69, 69, 70, 71, 71, 72, 72, 73, 74, 74,\n",
              "        75, 76, 76, 76, 77, 78, 78, 78, 79, 80, 81, 82, 83, 83, 83, 84, 84,\n",
              "        85, 85, 86, 86, 87, 87, 88, 88, 88, 88, 89, 90, 91, 91, 92, 92, 92,\n",
              "        93, 94, 95, 96, 96, 96, 97, 98, 99, 99, 99]),\n",
              " array([91, 27, 62, 99, 25, 96, 34, 67,  8, 48, 15, 54, 60, 47, 59, 60, 73,\n",
              "         4, 94, 37, 74, 96, 59, 37, 48, 82, 38, 45, 93, 99, 26, 40, 69, 65,\n",
              "        71,  5, 20, 74, 86, 26, 56, 84, 42, 92, 15, 28, 41, 98, 33, 42, 54,\n",
              "        85,  2, 13, 17, 67,  1, 34, 21, 43, 63, 78, 88, 39, 42, 49, 22, 41,\n",
              "        65,  3, 27, 66, 91, 65, 90, 60,  9, 11, 58, 84, 12, 79, 31, 57, 88,\n",
              "        13, 21, 33, 86, 19, 23, 31, 28, 69, 88, 12, 57, 68,  7, 64, 92,  4,\n",
              "        11, 32, 52, 69, 53, 70, 96, 49, 50, 55, 72,  5, 23, 53, 17, 61, 39,\n",
              "        46, 37,  7, 10, 83,  6,  7, 36, 80, 56, 81,  1, 28, 47, 14, 33, 35,\n",
              "        87, 34,  3, 26, 92, 46, 13, 43, 49, 50, 14, 78, 53, 88,  7,  9, 15,\n",
              "        99, 77, 78, 85, 76, 29, 71, 76, 38, 60, 61, 11, 59, 89, 97, 18, 37,\n",
              "        24, 76, 16, 41, 65, 95, 30, 39, 44, 72, 83, 35,  0, 34, 19, 47, 67,\n",
              "        12,  8, 87,  2,  9, 51, 83, 21,  1, 12, 75]))"
            ]
          },
          "metadata": {
            "tags": []
          },
          "execution_count": 4
        }
      ]
    },
    {
      "cell_type": "markdown",
      "metadata": {
        "id": "rXrAchDWb0KU"
      },
      "source": [
        "**Adjacency List**"
      ]
    },
    {
      "cell_type": "code",
      "metadata": {
        "id": "SmZKRuej_KU1"
      },
      "source": [
        "class Node: \n",
        "  \n",
        "  def __init__(self): \n",
        "    self.graph = defaultdict(list) \n",
        "\n",
        "\n",
        "  def add_edge(self, u, v): \n",
        "    self.graph[u].append(v) \n",
        "\n",
        "\n",
        "  def DFS_Marking(self, v, dfs_marked, dfs_result): \n",
        "    dfs_marked[v] = True\n",
        "    dfs_result.append(v) \n",
        "    for i in self.graph[v]: \n",
        "      if dfs_marked[i] == False: \n",
        "        self.DFS_Marking(i, dfs_marked, dfs_result)\n",
        "    return dfs_result \n",
        "\n",
        "\n",
        "  def DFS(self, v):\n",
        "    dfs_result = [] \n",
        "    dfs_marked = [False] * (max(self.graph)+1) \n",
        "    return self.DFS_Marking(v, dfs_marked, dfs_result)\n",
        "\n",
        "\n",
        "  def BFS(self, s):\n",
        "    bfs_result = [] \n",
        "    bfs_marked = [False] * (len(self.graph)) \n",
        "    queue = [] \n",
        "    queue.append(s) \n",
        "    bfs_marked[s] = True\n",
        "    while queue: \n",
        "      s = queue.pop(0) \n",
        "      bfs_result.append(s)\n",
        "      for i in self.graph[s]: \n",
        "        if bfs_marked[i] == False: \n",
        "          queue.append(i) \n",
        "          bfs_marked[i] = True \n",
        "    return bfs_result\n",
        "\n",
        "  \n",
        "  def print_list(self): \n",
        "    for i in range(len(self.graph)): \n",
        "      print(\"Adjacency list of node {}:\\n\".format(i), end=\"\") \n",
        "      curr_node = self.graph[i] \n",
        "      for i in curr_node: \n",
        "        print(\" {}\".format(i), end=\" \")\n",
        "      print(\" \\n\")\n",
        "\n",
        "\n",
        "  def calc_distance(self, s, d, s_method):\n",
        "    path = self.BFS(s) if s_method == \"BFS\" else self.DFS(s)\n",
        "    try:\n",
        "      distance = path.index(d)\n",
        "      ret_path = path[:distance+1]\n",
        "    except ValueError:\n",
        "      ret_path = \"No Path Found!\"\n",
        "      distance = \"N/A\"\n",
        "    return distance, ret_path"
      ],
      "execution_count": 5,
      "outputs": []
    },
    {
      "cell_type": "code",
      "metadata": {
        "id": "B--U2fhvBQRw"
      },
      "source": [
        "g = Node()\n",
        "for i in range(100):\n",
        "  for j in range(100):\n",
        "    if adj[i][j] == 1:\n",
        "      g.add_edge(i, j)"
      ],
      "execution_count": 6,
      "outputs": []
    },
    {
      "cell_type": "code",
      "metadata": {
        "id": "oBKVadSEkiKO",
        "outputId": "14c16bcb-ece7-4e11-9e13-c21f507bbd71",
        "colab": {
          "base_uri": "https://localhost:8080/",
          "height": 1000
        }
      },
      "source": [
        "g.print_list()"
      ],
      "execution_count": 7,
      "outputs": [
        {
          "output_type": "stream",
          "text": [
            "Adjacency list of node 0:\n",
            " 91  \n",
            "\n",
            "Adjacency list of node 1:\n",
            " 27  62  99  \n",
            "\n",
            "Adjacency list of node 2:\n",
            " 25  96  \n",
            "\n",
            "Adjacency list of node 3:\n",
            " 34  67  \n",
            "\n",
            "Adjacency list of node 4:\n",
            " 8  48  \n",
            "\n",
            "Adjacency list of node 5:\n",
            " 15  54  \n",
            "\n",
            "Adjacency list of node 6:\n",
            " 60  \n",
            "\n",
            "Adjacency list of node 7:\n",
            " 47  59  60  73  \n",
            "\n",
            "Adjacency list of node 8:\n",
            " 4  94  \n",
            "\n",
            "Adjacency list of node 9:\n",
            " 37  74  96  \n",
            "\n",
            "Adjacency list of node 10:\n",
            " 59  \n",
            "\n",
            "Adjacency list of node 11:\n",
            " 37  48  82  \n",
            "\n",
            "Adjacency list of node 12:\n",
            " 38  45  93  99  \n",
            "\n",
            "Adjacency list of node 13:\n",
            " 26  40  69  \n",
            "\n",
            "Adjacency list of node 14:\n",
            " 65  71  \n",
            "\n",
            "Adjacency list of node 15:\n",
            " 5  20  74  \n",
            "\n",
            "Adjacency list of node 16:\n",
            " 86  \n",
            "\n",
            "Adjacency list of node 17:\n",
            " 26  56  \n",
            "\n",
            "Adjacency list of node 18:\n",
            " 84  \n",
            "\n",
            "Adjacency list of node 19:\n",
            " 42  92  \n",
            "\n",
            "Adjacency list of node 20:\n",
            " 15  \n",
            "\n",
            "Adjacency list of node 21:\n",
            " 28  41  98  \n",
            "\n",
            "Adjacency list of node 22:\n",
            " 33  \n",
            "\n",
            "Adjacency list of node 23:\n",
            " 42  54  \n",
            "\n",
            "Adjacency list of node 24:\n",
            " 85  \n",
            "\n",
            "Adjacency list of node 25:\n",
            " 2  \n",
            "\n",
            "Adjacency list of node 26:\n",
            " 13  17  67  \n",
            "\n",
            "Adjacency list of node 27:\n",
            " 1  34  \n",
            "\n",
            "Adjacency list of node 28:\n",
            " 21  43  63  \n",
            "\n",
            "Adjacency list of node 29:\n",
            " 78  \n",
            "\n",
            "Adjacency list of node 30:\n",
            " 88  \n",
            "\n",
            "Adjacency list of node 31:\n",
            " 39  42  \n",
            "\n",
            "Adjacency list of node 32:\n",
            " 49  \n",
            "\n",
            "Adjacency list of node 33:\n",
            " 22  41  65  \n",
            "\n",
            "Adjacency list of node 34:\n",
            " 3  27  66  91  \n",
            "\n",
            "Adjacency list of node 35:\n",
            " 65  90  \n",
            "\n",
            "Adjacency list of node 36:\n",
            " 60  \n",
            "\n",
            "Adjacency list of node 37:\n",
            " 9  11  58  84  \n",
            "\n",
            "Adjacency list of node 38:\n",
            " 12  79  \n",
            "\n",
            "Adjacency list of node 39:\n",
            " 31  57  88  \n",
            "\n",
            "Adjacency list of node 40:\n",
            " 13  \n",
            "\n",
            "Adjacency list of node 41:\n",
            " 21  33  86  \n",
            "\n",
            "Adjacency list of node 42:\n",
            " 19  23  31  \n",
            "\n",
            "Adjacency list of node 43:\n",
            " 28  69  \n",
            "\n",
            "Adjacency list of node 44:\n",
            " 88  \n",
            "\n",
            "Adjacency list of node 45:\n",
            " 12  \n",
            "\n",
            "Adjacency list of node 46:\n",
            " 57  68  \n",
            "\n",
            "Adjacency list of node 47:\n",
            " 7  64  92  \n",
            "\n",
            "Adjacency list of node 48:\n",
            " 4  11  \n",
            "\n",
            "Adjacency list of node 49:\n",
            " 32  52  69  \n",
            "\n",
            "Adjacency list of node 50:\n",
            " 53  70  \n",
            "\n",
            "Adjacency list of node 51:\n",
            " 96  \n",
            "\n",
            "Adjacency list of node 52:\n",
            " 49  \n",
            "\n",
            "Adjacency list of node 53:\n",
            " 50  55  72  \n",
            "\n",
            "Adjacency list of node 54:\n",
            " 5  23  \n",
            "\n",
            "Adjacency list of node 55:\n",
            " 53  \n",
            "\n",
            "Adjacency list of node 56:\n",
            " 17  61  \n",
            "\n",
            "Adjacency list of node 57:\n",
            " 39  46  \n",
            "\n",
            "Adjacency list of node 58:\n",
            " 37  \n",
            "\n",
            "Adjacency list of node 59:\n",
            " 7  10  83  \n",
            "\n",
            "Adjacency list of node 60:\n",
            " 6  7  36  80  \n",
            "\n",
            "Adjacency list of node 61:\n",
            " 56  81  \n",
            "\n",
            "Adjacency list of node 62:\n",
            " 1  \n",
            "\n",
            "Adjacency list of node 63:\n",
            " 28  \n",
            "\n",
            "Adjacency list of node 64:\n",
            " 47  \n",
            "\n",
            "Adjacency list of node 65:\n",
            " 14  33  35  87  \n",
            "\n",
            "Adjacency list of node 66:\n",
            " 34  \n",
            "\n",
            "Adjacency list of node 67:\n",
            " 3  26  92  \n",
            "\n",
            "Adjacency list of node 68:\n",
            " 46  \n",
            "\n",
            "Adjacency list of node 69:\n",
            " 13  43  49  \n",
            "\n",
            "Adjacency list of node 70:\n",
            " 50  \n",
            "\n",
            "Adjacency list of node 71:\n",
            " 14  78  \n",
            "\n",
            "Adjacency list of node 72:\n",
            " 53  88  \n",
            "\n",
            "Adjacency list of node 73:\n",
            " 7  \n",
            "\n",
            "Adjacency list of node 74:\n",
            " 9  15  \n",
            "\n",
            "Adjacency list of node 75:\n",
            " 99  \n",
            "\n",
            "Adjacency list of node 76:\n",
            " 77  78  85  \n",
            "\n",
            "Adjacency list of node 77:\n",
            " 76  \n",
            "\n",
            "Adjacency list of node 78:\n",
            " 29  71  76  \n",
            "\n",
            "Adjacency list of node 79:\n",
            " 38  \n",
            "\n",
            "Adjacency list of node 80:\n",
            " 60  \n",
            "\n",
            "Adjacency list of node 81:\n",
            " 61  \n",
            "\n",
            "Adjacency list of node 82:\n",
            " 11  \n",
            "\n",
            "Adjacency list of node 83:\n",
            " 59  89  97  \n",
            "\n",
            "Adjacency list of node 84:\n",
            " 18  37  \n",
            "\n",
            "Adjacency list of node 85:\n",
            " 24  76  \n",
            "\n",
            "Adjacency list of node 86:\n",
            " 16  41  \n",
            "\n",
            "Adjacency list of node 87:\n",
            " 65  95  \n",
            "\n",
            "Adjacency list of node 88:\n",
            " 30  39  44  72  \n",
            "\n",
            "Adjacency list of node 89:\n",
            " 83  \n",
            "\n",
            "Adjacency list of node 90:\n",
            " 35  \n",
            "\n",
            "Adjacency list of node 91:\n",
            " 0  34  \n",
            "\n",
            "Adjacency list of node 92:\n",
            " 19  47  67  \n",
            "\n",
            "Adjacency list of node 93:\n",
            " 12  \n",
            "\n",
            "Adjacency list of node 94:\n",
            " 8  \n",
            "\n",
            "Adjacency list of node 95:\n",
            " 87  \n",
            "\n",
            "Adjacency list of node 96:\n",
            " 2  9  51  \n",
            "\n",
            "Adjacency list of node 97:\n",
            " 83  \n",
            "\n",
            "Adjacency list of node 98:\n",
            " 21  \n",
            "\n",
            "Adjacency list of node 99:\n",
            " 1  12  75  \n",
            "\n"
          ],
          "name": "stdout"
        }
      ]
    },
    {
      "cell_type": "markdown",
      "metadata": {
        "id": "c-ke4W8VlX0N"
      },
      "source": [
        "**Breadth First Search**"
      ]
    },
    {
      "cell_type": "code",
      "metadata": {
        "id": "VPbTQvOnBfxi",
        "outputId": "7cff8760-b1d8-4944-f8e5-8ea3d6c8dcdd",
        "colab": {
          "base_uri": "https://localhost:8080/",
          "height": 54
        }
      },
      "source": [
        "print(str(g.BFS(68)))"
      ],
      "execution_count": 8,
      "outputs": [
        {
          "output_type": "stream",
          "text": [
            "[68, 46, 57, 39, 31, 88, 42, 30, 44, 72, 19, 23, 53, 92, 54, 50, 55, 47, 67, 5, 70, 7, 64, 3, 26, 15, 59, 60, 73, 34, 13, 17, 20, 74, 10, 83, 6, 36, 80, 27, 66, 91, 40, 69, 56, 9, 89, 97, 1, 0, 43, 49, 61, 37, 96, 62, 99, 28, 32, 52, 81, 11, 58, 84, 2, 51, 12, 75, 21, 63, 48, 82, 18, 25, 38, 45, 93, 41, 98, 4, 79, 33, 86, 8, 22, 65, 16, 94, 14, 35, 87, 71, 90, 95, 78, 29, 76, 77, 85, 24]\n"
          ],
          "name": "stdout"
        }
      ]
    },
    {
      "cell_type": "code",
      "metadata": {
        "id": "LzuOF7D5ZUQF",
        "outputId": "754309f3-6a18-4afd-9587-5c77fdb09e2b",
        "colab": {
          "base_uri": "https://localhost:8080/",
          "height": 71
        }
      },
      "source": [
        "distance, path = g.calc_distance(4, 99, \"BFS\")\n",
        "print(\"Distance = \"+str(distance))\n",
        "print(\"Path = \"+str(path))"
      ],
      "execution_count": 11,
      "outputs": [
        {
          "output_type": "stream",
          "text": [
            "Distance = 68\n",
            "Path = [4, 8, 48, 94, 11, 37, 82, 9, 58, 84, 74, 96, 18, 15, 2, 51, 5, 20, 25, 54, 23, 42, 19, 31, 92, 39, 47, 67, 57, 88, 7, 64, 3, 26, 46, 30, 44, 72, 59, 60, 73, 34, 13, 17, 68, 53, 10, 83, 6, 36, 80, 27, 66, 91, 40, 69, 56, 50, 55, 89, 97, 1, 0, 43, 49, 61, 70, 62, 99]\n"
          ],
          "name": "stdout"
        }
      ]
    },
    {
      "cell_type": "markdown",
      "metadata": {
        "id": "BWavKGgtle9r"
      },
      "source": [
        "**Depth First Search**"
      ]
    },
    {
      "cell_type": "code",
      "metadata": {
        "id": "otgOKMCIBlOK",
        "outputId": "e3734871-5287-43b7-b9de-a9dbaec539e5",
        "colab": {
          "base_uri": "https://localhost:8080/",
          "height": 54
        }
      },
      "source": [
        "print(str(g.DFS(9)))"
      ],
      "execution_count": 9,
      "outputs": [
        {
          "output_type": "stream",
          "text": [
            "[9, 37, 11, 48, 4, 8, 94, 82, 58, 84, 18, 74, 15, 5, 54, 23, 42, 19, 92, 47, 7, 59, 10, 83, 89, 97, 60, 6, 36, 80, 73, 64, 67, 3, 34, 27, 1, 62, 99, 12, 38, 79, 45, 93, 75, 66, 91, 0, 26, 13, 40, 69, 43, 28, 21, 41, 33, 22, 65, 14, 71, 78, 29, 76, 77, 85, 24, 35, 90, 87, 95, 86, 16, 98, 63, 49, 32, 52, 17, 56, 61, 81, 31, 39, 57, 46, 68, 88, 30, 44, 72, 53, 50, 70, 55, 20, 96, 2, 25, 51]\n"
          ],
          "name": "stdout"
        }
      ]
    },
    {
      "cell_type": "code",
      "metadata": {
        "id": "-52As-Qr-rKH",
        "outputId": "e88e12cf-3331-487b-95b3-af7dcec94701",
        "colab": {
          "base_uri": "https://localhost:8080/",
          "height": 51
        }
      },
      "source": [
        "distance, path = g.calc_distance(4, 99, \"DFS\")\n",
        "print(\"Distance = \"+str(distance))\n",
        "print(\"Path = \"+str(path))"
      ],
      "execution_count": 10,
      "outputs": [
        {
          "output_type": "stream",
          "text": [
            "Distance = 34\n",
            "Path = [4, 8, 94, 48, 11, 37, 9, 74, 15, 5, 54, 23, 42, 19, 92, 47, 7, 59, 10, 83, 89, 97, 60, 6, 36, 80, 73, 64, 67, 3, 34, 27, 1, 62, 99]\n"
          ],
          "name": "stdout"
        }
      ]
    }
  ]
}