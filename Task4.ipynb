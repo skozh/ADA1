{
  "nbformat": 4,
  "nbformat_minor": 0,
  "metadata": {
    "colab": {
      "name": "Task4.ipynb",
      "provenance": [],
      "collapsed_sections": [],
      "authorship_tag": "ABX9TyNfJL932qEDzsslU3oEw/wl",
      "include_colab_link": true
    },
    "kernelspec": {
      "name": "python3",
      "display_name": "Python 3"
    }
  },
  "cells": [
    {
      "cell_type": "markdown",
      "metadata": {
        "id": "view-in-github",
        "colab_type": "text"
      },
      "source": [
        "<a href=\"https://colab.research.google.com/github/skozh/ADA1/blob/master/Task4.ipynb\" target=\"_parent\"><img src=\"https://colab.research.google.com/assets/colab-badge.svg\" alt=\"Open In Colab\"/></a>"
      ]
    },
    {
      "cell_type": "code",
      "metadata": {
        "id": "MUgFyBCbQV1M",
        "colab_type": "code",
        "colab": {}
      },
      "source": [
        "import numpy as np\n",
        "import matplotlib.pyplot as plt\n",
        "from scipy import optimize"
      ],
      "execution_count": 1,
      "outputs": []
    },
    {
      "cell_type": "markdown",
      "metadata": {
        "id": "_ClU-7sPxKBM",
        "colab_type": "text"
      },
      "source": [
        "## **Generate Noisy Data**"
      ]
    },
    {
      "cell_type": "code",
      "metadata": {
        "id": "gSowQN_OFXfl",
        "colab_type": "code",
        "colab": {
          "base_uri": "https://localhost:8080/",
          "height": 34
        },
        "outputId": "9ce1a2e1-e9b8-42aa-950f-38e24444e940"
      },
      "source": [
        "k = [*range(0, 1001, 1)]\n",
        "x = np.array([3*x/1000 for x in k])\n",
        "fx = 1/(x**2 - 3*x + 2)\n",
        "print(fx)"
      ],
      "execution_count": 2,
      "outputs": [
        {
          "output_type": "stream",
          "text": [
            "[0.5       0.5022579 0.5045317 ... 0.5045317 0.5022579 0.5      ]\n"
          ],
          "name": "stdout"
        }
      ]
    },
    {
      "cell_type": "code",
      "metadata": {
        "id": "NKVRiwSrGfVe",
        "colab_type": "code",
        "colab": {
          "base_uri": "https://localhost:8080/",
          "height": 51
        },
        "outputId": "55118b1a-bc9a-407e-e0ef-5fb774215636"
      },
      "source": [
        "y = np.zeros(1001)\n",
        "noise = np.random.normal(0,1,1001)\n",
        "for index, val in enumerate(fx):\n",
        "  if val < -100:\n",
        "    y[index] = 100 + noise[index]\n",
        "  elif val >= -100 and val <= 100:\n",
        "    y[index] = val + noise[index]\n",
        "  else:\n",
        "    y[index] = 100 + noise[index]\n",
        "\n",
        "print(y)"
      ],
      "execution_count": 3,
      "outputs": [
        {
          "output_type": "stream",
          "text": [
            "[ 1.00754247  0.68600085  0.30224352 ... -0.10371696  1.55831998\n",
            "  1.30711037]\n"
          ],
          "name": "stdout"
        }
      ]
    },
    {
      "cell_type": "code",
      "metadata": {
        "id": "MKkFHvFwrN-s",
        "colab_type": "code",
        "colab": {
          "base_uri": "https://localhost:8080/",
          "height": 282
        },
        "outputId": "9c32e621-2a87-436c-c4d8-07088e02ed9a"
      },
      "source": [
        "fig, ax = plt.subplots(1, 1)\n",
        "ax.plot(x, y, 'ob', label='data')"
      ],
      "execution_count": 4,
      "outputs": [
        {
          "output_type": "execute_result",
          "data": {
            "text/plain": [
              "[<matplotlib.lines.Line2D at 0x7ff72c930668>]"
            ]
          },
          "metadata": {
            "tags": []
          },
          "execution_count": 4
        },
        {
          "output_type": "display_data",
          "data": {
            "image/png": "[encoded data removed]",
            "text/plain": [
              "<Figure size 432x288 with 1 Axes>"
            ]
          },
          "metadata": {
            "tags": [],
            "needs_background": "light"
          }
        }
      ]
    },
    {
      "cell_type": "code",
      "metadata": {
        "id": "scBAhXVIHydv",
        "colab_type": "code",
        "colab": {}
      },
      "source": [
        "def fun_rational(x, a, b, c, d):\n",
        "  return ((a*x+b)/(x**2 + c*x + d))"
      ],
      "execution_count": 5,
      "outputs": []
    },
    {
      "cell_type": "code",
      "metadata": {
        "id": "zRRcVmOgnu6C",
        "colab_type": "code",
        "colab": {}
      },
      "source": [
        "def objective(params):\n",
        "  a, b, c, d = params\n",
        "  y_pred = fun_rational(x, a, b, c, d)\n",
        "  return np.sum((y-y_pred)**2)"
      ],
      "execution_count": 6,
      "outputs": []
    },
    {
      "cell_type": "markdown",
      "metadata": {
        "id": "PGKfl464K3nl",
        "colab_type": "text"
      },
      "source": [
        "**Nelder-Mead algorithm**"
      ]
    },
    {
      "cell_type": "code",
      "metadata": {
        "id": "jt_zPbL-IIbE",
        "colab_type": "code",
        "colab": {
          "base_uri": "https://localhost:8080/",
          "height": 238
        },
        "outputId": "b6827ef1-ebaf-4ac4-c43f-a476b64f8fda"
      },
      "source": [
        "initial = [0.1,0.1,0.1,0.1]\n",
        "result1 = optimize.minimize(fun=objective, x0=initial,method=\"Nelder-Mead\", tol=0.001) \n",
        "result1"
      ],
      "execution_count": 7,
      "outputs": [
        {
          "output_type": "execute_result",
          "data": {
            "text/plain": [
              " final_simplex: (array([[-1.08073463,  1.09097575, -2.01597386,  1.01606672],\n",
              "       [-1.08091597,  1.09115904, -2.01597389,  1.01606676],\n",
              "       [-1.08070135,  1.09094301, -2.0159753 ,  1.01606817],\n",
              "       [-1.08079962,  1.09104132, -2.01597286,  1.01606571],\n",
              "       [-1.08080877,  1.09105069, -2.01597279,  1.01606565]]), array([146168.17693316, 146168.17706837, 146168.17722718, 146168.17746515,\n",
              "       146168.17755974]))\n",
              "           fun: 146168.17693315732\n",
              "       message: 'Optimization terminated successfully.'\n",
              "          nfev: 776\n",
              "           nit: 467\n",
              "        status: 0\n",
              "       success: True\n",
              "             x: array([-1.08073463,  1.09097575, -2.01597386,  1.01606672])"
            ]
          },
          "metadata": {
            "tags": []
          },
          "execution_count": 7
        }
      ]
    },
    {
      "cell_type": "code",
      "metadata": {
        "id": "mXF7XCyXZG0l",
        "colab_type": "code",
        "colab": {
          "base_uri": "https://localhost:8080/",
          "height": 282
        },
        "outputId": "ebf3a23c-f90f-447d-c8e9-33b2cdf53bf7"
      },
      "source": [
        "fig, ax = plt.subplots(1, 1)\n",
        "ax.plot(x, y, 'ob', label='data')\n",
        "ax.plot(x, fun_rational(x, result1.x[0],result1.x[1], result1.x[2],result1.x[3]), '-k', lw=2, label='NM')\n",
        "ax.legend()"
      ],
      "execution_count": 8,
      "outputs": [
        {
          "output_type": "execute_result",
          "data": {
            "text/plain": [
              "<matplotlib.legend.Legend at 0x7ff72c3e3eb8>"
            ]
          },
          "metadata": {
            "tags": []
          },
          "execution_count": 8
        },
        {
          "output_type": "display_data",
          "data": {
            "image/png": "[encoded data removed]",
            "text/plain": [
              "<Figure size 432x288 with 1 Axes>"
            ]
          },
          "metadata": {
            "tags": [],
            "needs_background": "light"
          }
        }
      ]
    },
    {
      "cell_type": "markdown",
      "metadata": {
        "id": "oKdAOHK3L0l8",
        "colab_type": "text"
      },
      "source": [
        "**Levenberg-Marquardt algorithm**"
      ]
    },
    {
      "cell_type": "code",
      "metadata": {
        "id": "HzfGIHaCKMWp",
        "colab_type": "code",
        "colab": {
          "base_uri": "https://localhost:8080/",
          "height": 34
        },
        "outputId": "a84910aa-649e-457b-918f-d067b7f934c0"
      },
      "source": [
        "p0=[-1,1,-2,1]\n",
        "result2 = optimize.curve_fit(fun_rational, x, y, method='lm', p0=p0)[0]\n",
        "result2"
      ],
      "execution_count": 20,
      "outputs": [
        {
          "output_type": "execute_result",
          "data": {
            "text/plain": [
              "array([-1.08253799,  1.09278604, -2.01589851,  1.01599107])"
            ]
          },
          "metadata": {
            "tags": []
          },
          "execution_count": 20
        }
      ]
    },
    {
      "cell_type": "code",
      "metadata": {
        "id": "s_dwhJCFONPO",
        "colab_type": "code",
        "colab": {
          "base_uri": "https://localhost:8080/",
          "height": 282
        },
        "outputId": "c8f325fa-4ddc-4bc1-9788-483237166c92"
      },
      "source": [
        "fig, ax = plt.subplots(1, 1)\n",
        "ax.plot(x, y, 'ob', label='data')\n",
        "ax.plot(x, fun_rational(x, result2[0],result2[1], result2[2],result2[3]), '-k', lw=2, label='LM')\n",
        "ax.legend()"
      ],
      "execution_count": 21,
      "outputs": [
        {
          "output_type": "execute_result",
          "data": {
            "text/plain": [
              "<matplotlib.legend.Legend at 0x7ff72c2130b8>"
            ]
          },
          "metadata": {
            "tags": []
          },
          "execution_count": 21
        },
        {
          "output_type": "display_data",
          "data": {
            "image/png": "[encoded data removed]",
            "text/plain": [
              "<Figure size 432x288 with 1 Axes>"
            ]
          },
          "metadata": {
            "tags": [],
            "needs_background": "light"
          }
        }
      ]
    },
    {
      "cell_type": "markdown",
      "metadata": {
        "id": "jX5cpWC0Oxxa",
        "colab_type": "text"
      },
      "source": [
        "**Differential Evolution**"
      ]
    },
    {
      "cell_type": "code",
      "metadata": {
        "id": "8pdWUPi3Otbp",
        "colab_type": "code",
        "colab": {
          "base_uri": "https://localhost:8080/",
          "height": 136
        },
        "outputId": "545ae2ba-d6d2-4f81-b025-2763f5ecab2c"
      },
      "source": [
        "bounds = [(-100, 100), (-100, 100), (-100, 100), (-100, 100)]\n",
        "result3 = optimize.differential_evolution(func=objective, bounds=bounds, strategy='best2bin') \n",
        "result3"
      ],
      "execution_count": 54,
      "outputs": [
        {
          "output_type": "execute_result",
          "data": {
            "text/plain": [
              "     fun: 146168.17850497452\n",
              "     jac: array([ 1039.65285234,  1029.78083305, 15697.89019413, 15519.16939206])\n",
              " message: 'Optimization terminated successfully.'\n",
              "    nfev: 1535\n",
              "     nit: 5\n",
              " success: True\n",
              "       x: array([-1.0806198 ,  1.09086034, -2.01597688,  1.01606975])"
            ]
          },
          "metadata": {
            "tags": []
          },
          "execution_count": 54
        }
      ]
    },
    {
      "cell_type": "code",
      "metadata": {
        "id": "MKHyRIhhPgdN",
        "colab_type": "code",
        "colab": {
          "base_uri": "https://localhost:8080/",
          "height": 282
        },
        "outputId": "763a7217-6efe-4b02-c6ca-845d74492a3f"
      },
      "source": [
        "fig, ax = plt.subplots(1, 1)\n",
        "ax.plot(x, y, 'ob', label='data')\n",
        "ax.plot(x, fun_rational(x, result3.x[0],result3.x[1], result3.x[2],result3.x[3]), '-k', lw=2, label='DE')\n",
        "ax.legend()"
      ],
      "execution_count": 55,
      "outputs": [
        {
          "output_type": "execute_result",
          "data": {
            "text/plain": [
              "<matplotlib.legend.Legend at 0x7ff72ba32438>"
            ]
          },
          "metadata": {
            "tags": []
          },
          "execution_count": 55
        },
        {
          "output_type": "display_data",
          "data": {
            "image/png": "[encoded data removed]",
            "text/plain": [
              "<Figure size 432x288 with 1 Axes>"
            ]
          },
          "metadata": {
            "tags": [],
            "needs_background": "light"
          }
        }
      ]
    },
    {
      "cell_type": "markdown",
      "metadata": {
        "id": "9RGqFUr_TsTZ",
        "colab_type": "text"
      },
      "source": [
        "**Simulated Annealing**"
      ]
    },
    {
      "cell_type": "code",
      "metadata": {
        "id": "8r4f-3nySICm",
        "colab_type": "code",
        "colab": {
          "base_uri": "https://localhost:8080/",
          "height": 170
        },
        "outputId": "6027f8dd-4a61-4dcd-b77a-0dbbfa17c073"
      },
      "source": [
        "initial=[-2,1,-3,1]\n",
        "bounds = [(-100, 100), (-100, 100), (-100, 100), (-100, 100)]\n",
        "result4 = optimize.dual_annealing(func=objective, no_local_search=True, bounds=bounds, x0=initial) \n",
        "result4"
      ],
      "execution_count": 58,
      "outputs": [
        {
          "output_type": "execute_result",
          "data": {
            "text/plain": [
              "     fun: 204331.542149927\n",
              " message: ['Maximum number of iteration reached']\n",
              "    nfev: 8001\n",
              "    nhev: 0\n",
              "     nit: 1000\n",
              "    njev: 0\n",
              "  status: 0\n",
              " success: True\n",
              "       x: array([ 74.53786819, -93.93570331,  76.19635167, -77.93625352])"
            ]
          },
          "metadata": {
            "tags": []
          },
          "execution_count": 58
        }
      ]
    },
    {
      "cell_type": "code",
      "metadata": {
        "id": "HkYtDmznUXxV",
        "colab_type": "code",
        "colab": {
          "base_uri": "https://localhost:8080/",
          "height": 282
        },
        "outputId": "df67ce0a-9ced-424d-8693-6af6a55dbfe8"
      },
      "source": [
        "fig, ax = plt.subplots(1, 1)\n",
        "ax.plot(x, y, 'ob', label='data')\n",
        "ax.plot(x, fun_rational(x, result4.x[0],result4.x[1], result4.x[2],result4.x[3]), '-k', lw=2, label='SA')\n",
        "ax.legend()"
      ],
      "execution_count": 59,
      "outputs": [
        {
          "output_type": "execute_result",
          "data": {
            "text/plain": [
              "<matplotlib.legend.Legend at 0x7ff72bc03898>"
            ]
          },
          "metadata": {
            "tags": []
          },
          "execution_count": 59
        },
        {
          "output_type": "display_data",
          "data": {
            "image/png": "[encoded data removed]",
            "text/plain": [
              "<Figure size 432x288 with 1 Axes>"
            ]
          },
          "metadata": {
            "tags": [],
            "needs_background": "light"
          }
        }
      ]
    },
    {
      "cell_type": "markdown",
      "metadata": {
        "id": "KhZ90uokc6st",
        "colab_type": "text"
      },
      "source": [
        "**Combined Plot**"
      ]
    },
    {
      "cell_type": "code",
      "metadata": {
        "id": "SIg_mLFwciVB",
        "colab_type": "code",
        "colab": {
          "base_uri": "https://localhost:8080/",
          "height": 299
        },
        "outputId": "d372a85b-5803-4531-f902-1a8476d91a1e"
      },
      "source": [
        "plt.figure(figsize=(20,10))\n",
        "fig, ax = plt.subplots(1, 1)\n",
        "ax.plot(x, y, 'ob', label='data')\n",
        "ax.plot(x, fun_rational(x, result1.x[0],result1.x[1], result1.x[2],result1.x[3]), '-m', lw=2, label='NM')\n",
        "ax.plot(x, fun_rational(x, result2[0],result2[1], result2[2],result2[3]), '-g', lw=2, label='LM')\n",
        "ax.plot(x, fun_rational(x, result3.x[0],result3.x[1], result3.x[2],result3.x[3]), '-r', lw=2, label='DE')\n",
        "ax.plot(x, fun_rational(x, result4.x[0],result4.x[1], result4.x[2],result4.x[3]), '-c', lw=2, label='SA')\n",
        "ax.legend()"
      ],
      "execution_count": 63,
      "outputs": [
        {
          "output_type": "execute_result",
          "data": {
            "text/plain": [
              "<matplotlib.legend.Legend at 0x7ff72b6da860>"
            ]
          },
          "metadata": {
            "tags": []
          },
          "execution_count": 63
        },
        {
          "output_type": "display_data",
          "data": {
            "text/plain": [
              "<Figure size 1440x720 with 0 Axes>"
            ]
          },
          "metadata": {
            "tags": []
          }
        },
        {
          "output_type": "display_data",
          "data": {
            "image/png": "[encoded data removed]",
            "text/plain": [
              "<Figure size 432x288 with 1 Axes>"
            ]
          },
          "metadata": {
            "tags": [],
            "needs_background": "light"
          }
        }
      ]
    }
  ]
}