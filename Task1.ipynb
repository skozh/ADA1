{
  "nbformat": 4,
  "nbformat_minor": 0,
  "metadata": {
    "kernelspec": {
      "display_name": "Python 3",
      "language": "python",
      "name": "python3"
    },
    "language_info": {
      "codemirror_mode": {
        "name": "ipython",
        "version": 3
      },
      "file_extension": ".py",
      "mimetype": "text/x-python",
      "name": "python",
      "nbconvert_exporter": "python",
      "pygments_lexer": "ipython3",
      "version": "3.6.9"
    },
    "colab": {
      "name": "Task1.ipynb",
      "provenance": [],
      "include_colab_link": true
    }
  },
  "cells": [
    {
      "cell_type": "markdown",
      "metadata": {
        "id": "view-in-github",
        "colab_type": "text"
      },
      "source": [
        "<a href=\"https://colab.research.google.com/github/skozh/ADA1/blob/master/Task1.ipynb\" target=\"_parent\"><img src=\"https://colab.research.google.com/assets/colab-badge.svg\" alt=\"Open In Colab\"/></a>"
      ]
    },
    {
      "cell_type": "markdown",
      "metadata": {
        "id": "p7koMQT5S0NY",
        "colab_type": "text"
      },
      "source": [
        "## Vector Operations"
      ]
    },
    {
      "cell_type": "code",
      "metadata": {
        "id": "meaqebXIS0Nb",
        "colab_type": "code",
        "colab": {}
      },
      "source": [
        "import numpy as np\n",
        "import time"
      ],
      "execution_count": 1,
      "outputs": []
    },
    {
      "cell_type": "code",
      "metadata": {
        "id": "_SdHTTqSS0Nj",
        "colab_type": "code",
        "colab": {}
      },
      "source": [
        "# Bubble Sort Algorithm\n",
        "\n",
        "def bubbleSort(arr): \n",
        "    n = len(arr) \n",
        "\n",
        "    for i in range(n-1): \n",
        "        for j in range(0, n-i-1): \n",
        "            if arr[j] > arr[j+1] : \n",
        "                arr[j], arr[j+1] = arr[j+1], arr[j] \n",
        "    return arr"
      ],
      "execution_count": 2,
      "outputs": []
    },
    {
      "cell_type": "code",
      "metadata": {
        "id": "O4cABn3v79B-",
        "colab_type": "code",
        "colab": {}
      },
      "source": [
        "# Polynomial evaluation direct method\n",
        "\n",
        "def polyvalDirect(arr, p):\n",
        "  total = 0\n",
        "  for index, val in enumerate(arr):\n",
        "    total += val*(p**index)\n",
        "  return total"
      ],
      "execution_count": 3,
      "outputs": []
    },
    {
      "cell_type": "code",
      "metadata": {
        "id": "EIYIdcJFS0Nq",
        "colab_type": "code",
        "colab": {}
      },
      "source": [
        "# Generate random vector of size 2000\n",
        "\n",
        "def generate_rv(arr):\n",
        "    return np.random.uniform(1, 100, size=(arr))\n",
        "\n",
        "\n",
        "# Select operation\n",
        "\n",
        "def fun_operation(v, n):\n",
        "    if n==0:\n",
        "        return 5\n",
        "    elif n==1:\n",
        "        return np.add.reduce(v)\n",
        "    elif n==2:\n",
        "        return np.multiply.reduce(v)\n",
        "    elif n==3:\n",
        "        return bubbleSort(v)\n",
        "    elif n==4:\n",
        "        return np.sort(v, kind='quicksort')\n",
        "    elif n==5:\n",
        "        return np.sort(v, kind='mergesort') # timsort\n",
        "    elif n==6:\n",
        "        return np.polyval(v, 1.5)  # Horner's method\n",
        "    elif n==7:\n",
        "        return polyvalDirect(v, 1.5)\n",
        "    else:\n",
        "        return None"
      ],
      "execution_count": 4,
      "outputs": []
    },
    {
      "cell_type": "code",
      "metadata": {
        "id": "2MDIRruTS0Nw",
        "colab_type": "code",
        "colab": {}
      },
      "source": [
        "time_averages = np.zeros((5, 8))\n",
        "\n",
        "for run in range(5):\n",
        "    time_elapsed = np.zeros((8, 2000))\n",
        "\n",
        "    for n in range(2000):\n",
        "        v = generate_rv(arr=100)\n",
        "\n",
        "        for op in range(8):\n",
        "            start_time = time.time()\n",
        "            y = fun_operation(v, op)\n",
        "            time_elapsed[op][n] = (time.time() - start_time)\n",
        "\n",
        "    time_averages[run] = (np.mean(time_elapsed, axis=1))"
      ],
      "execution_count": 5,
      "outputs": []
    },
    {
      "cell_type": "code",
      "metadata": {
        "id": "i8vaUBKJw626",
        "colab_type": "code",
        "colab": {
          "base_uri": "https://localhost:8080/",
          "height": 170
        },
        "outputId": "a42a15ab-858d-4ac5-8ec7-b777c7cec452"
      },
      "source": [
        "from tabulate import tabulate\n",
        "headers = ['Constant','Sum','Product','Bubble Sort','Quick Sort','Tim Sort','Polyval-Horners', 'Polyval-Direct']\n",
        "table = tabulate(time_averages, headers, tablefmt='psql')\n",
        "print(table)"
      ],
      "execution_count": 6,
      "outputs": [
        {
          "output_type": "stream",
          "text": [
            "+-------------+-------------+-------------+---------------+--------------+-------------+-------------------+------------------+\n",
            "|    Constant |         Sum |     Product |   Bubble Sort |   Quick Sort |    Tim Sort |   Polyval-Horners |   Polyval-Direct |\n",
            "|-------------+-------------+-------------+---------------+--------------+-------------+-------------------+------------------|\n",
            "| 4.87685e-07 | 5.25224e-06 | 2.37525e-06 |    0.00272592 |  9.89842e-06 | 4.89795e-06 |       6.12613e-05 |      5.70425e-05 |\n",
            "| 4.96864e-07 | 5.16021e-06 | 2.39599e-06 |    0.00275762 |  9.52077e-06 | 4.37963e-06 |       6.17331e-05 |      5.63439e-05 |\n",
            "| 4.68254e-07 | 4.91261e-06 | 2.28763e-06 |    0.00271853 |  8.79359e-06 | 3.90077e-06 |       5.92712e-05 |      5.59542e-05 |\n",
            "| 4.86255e-07 | 5.14567e-06 | 2.30849e-06 |    0.00270424 |  9.09805e-06 | 3.97146e-06 |       5.97622e-05 |      5.62253e-05 |\n",
            "| 4.63486e-07 | 4.96733e-06 | 2.27308e-06 |    0.00269757 |  9.12142e-06 | 3.90613e-06 |       5.93408e-05 |      5.60164e-05 |\n",
            "+-------------+-------------+-------------+---------------+--------------+-------------+-------------------+------------------+\n"
          ],
          "name": "stdout"
        }
      ]
    },
    {
      "cell_type": "code",
      "metadata": {
        "id": "ZIWKKfjrS0N_",
        "colab_type": "code",
        "colab": {
          "base_uri": "https://localhost:8080/",
          "height": 279
        },
        "outputId": "d6f6a022-cc28-4a43-db15-3e8c9db124ad"
      },
      "source": [
        "from matplotlib import pyplot as plt\n",
        "time_avgs = time_averages.transpose()\n",
        "plt.plot(time_avgs[0], label='constant')\n",
        "plt.plot(time_avgs[1], label='sum')\n",
        "plt.plot(time_avgs[2], label='product')\n",
        "plt.plot(time_avgs[3], label='bubblesort')\n",
        "plt.plot(time_avgs[4], label='quicksort')\n",
        "plt.plot(time_avgs[5], label='timsort')\n",
        "plt.plot(time_avgs[6], label='polyval-Horners')\n",
        "plt.plot(time_avgs[6], label='polyval-Direct')\n",
        "plt.xlabel('Rounds')\n",
        "plt.ylabel('Seconds')\n",
        "plt.legend()\n",
        "plt.show()"
      ],
      "execution_count": 7,
      "outputs": [
        {
          "output_type": "display_data",
          "data": {
            "image/png": "[encoded data removed]",
            "text/plain": [
              "<Figure size 432x288 with 1 Axes>"
            ]
          },
          "metadata": {
            "tags": [],
            "needs_background": "light"
          }
        }
      ]
    },
    {
      "cell_type": "markdown",
      "metadata": {
        "id": "LrzhCnD2S0OK",
        "colab_type": "text"
      },
      "source": [
        "## Matrix Operations"
      ]
    },
    {
      "cell_type": "code",
      "metadata": {
        "id": "_zbc3xuvS0ON",
        "colab_type": "code",
        "colab": {}
      },
      "source": [
        "def generate_matrix(arr):\n",
        "    return np.random.rand(arr, arr)"
      ],
      "execution_count": 8,
      "outputs": []
    },
    {
      "cell_type": "code",
      "metadata": {
        "id": "0w5bsn-NS0OY",
        "colab_type": "code",
        "colab": {}
      },
      "source": [
        "mat_time_averages = np.zeros(5)\n",
        "\n",
        "for run in range(5):\n",
        "    mat_time_elapsed = np.zeros(2000)\n",
        "    for n in range(2000):\n",
        "        A = generate_matrix(arr=100)\n",
        "        B = generate_matrix(arr=100)\n",
        "\n",
        "        start_time = time.time()\n",
        "        y = np.matmul(A, B)\n",
        "        mat_time_elapsed[n] = (time.time() - start_time)\n",
        "        \n",
        "    mat_time_averages[run] = np.mean(mat_time_elapsed)"
      ],
      "execution_count": 9,
      "outputs": []
    },
    {
      "cell_type": "code",
      "metadata": {
        "id": "JZdiFdyRS0Oe",
        "colab_type": "code",
        "colab": {
          "base_uri": "https://localhost:8080/",
          "height": 34
        },
        "outputId": "405d6493-6244-44aa-9fb8-ac874e64b92a"
      },
      "source": [
        "mat_time_averages"
      ],
      "execution_count": 10,
      "outputs": [
        {
          "output_type": "execute_result",
          "data": {
            "text/plain": [
              "array([0.0001155 , 0.00011527, 0.00011329, 0.00010898, 0.00010678])"
            ]
          },
          "metadata": {
            "tags": []
          },
          "execution_count": 10
        }
      ]
    },
    {
      "cell_type": "code",
      "metadata": {
        "id": "sMLDxHQky3zo",
        "colab_type": "code",
        "colab": {}
      },
      "source": [
        ""
      ],
      "execution_count": null,
      "outputs": []
    }
  ]
}