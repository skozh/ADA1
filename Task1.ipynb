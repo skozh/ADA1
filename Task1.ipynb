{
  "nbformat": 4,
  "nbformat_minor": 0,
  "metadata": {
    "kernelspec": {
      "display_name": "Python 3",
      "language": "python",
      "name": "python3"
    },
    "language_info": {
      "codemirror_mode": {
        "name": "ipython",
        "version": 3
      },
      "file_extension": ".py",
      "mimetype": "text/x-python",
      "name": "python",
      "nbconvert_exporter": "python",
      "pygments_lexer": "ipython3",
      "version": "3.6.9"
    },
    "colab": {
      "name": "Task1.ipynb",
      "provenance": [],
      "include_colab_link": true
    }
  },
  "cells": [
    {
      "cell_type": "markdown",
      "metadata": {
        "id": "view-in-github",
        "colab_type": "text"
      },
      "source": [
        "<a href=\"https://colab.research.google.com/github/skozh/ADA1/blob/master/Task1.ipynb\" target=\"_parent\"><img src=\"https://colab.research.google.com/assets/colab-badge.svg\" alt=\"Open In Colab\"/></a>"
      ]
    },
    {
      "cell_type": "markdown",
      "metadata": {
        "id": "p7koMQT5S0NY",
        "colab_type": "text"
      },
      "source": [
        "## Vector Operations"
      ]
    },
    {
      "cell_type": "code",
      "metadata": {
        "id": "meaqebXIS0Nb",
        "colab_type": "code",
        "colab": {}
      },
      "source": [
        "import numpy as np\n",
        "import time"
      ],
      "execution_count": 1,
      "outputs": []
    },
    {
      "cell_type": "code",
      "metadata": {
        "id": "_SdHTTqSS0Nj",
        "colab_type": "code",
        "colab": {}
      },
      "source": [
        "# Bubble Sort Algorithm\n",
        "\n",
        "def bubbleSort(arr): \n",
        "    n = len(arr) \n",
        "\n",
        "    for i in range(n-1): \n",
        "        for j in range(0, n-i-1): \n",
        "            if arr[j] > arr[j+1] : \n",
        "                arr[j], arr[j+1] = arr[j+1], arr[j] \n",
        "    return arr"
      ],
      "execution_count": 2,
      "outputs": []
    },
    {
      "cell_type": "code",
      "metadata": {
        "id": "EIYIdcJFS0Nq",
        "colab_type": "code",
        "colab": {}
      },
      "source": [
        "# Generate random vector of size 2000\n",
        "\n",
        "def generate_rv(arr):\n",
        "    return np.random.uniform(1, 100, size=(arr))\n",
        "\n",
        "\n",
        "# Select operation\n",
        "\n",
        "def fun_operation(v, n):\n",
        "    if n==0:\n",
        "        return 5\n",
        "    elif n==1:\n",
        "        return np.add.reduce(v)\n",
        "    elif n==2:\n",
        "        return np.multiply.reduce(v)\n",
        "    elif n==3:\n",
        "        return bubbleSort(v)\n",
        "    elif n==4:\n",
        "        return np.sort(v, kind='quicksort')\n",
        "    elif n==5:\n",
        "        return np.sort(v, kind='mergesort') # timsort\n",
        "    elif n==6:\n",
        "        return np.polyval(v, 1.5)\n",
        "    else:\n",
        "        return None"
      ],
      "execution_count": 3,
      "outputs": []
    },
    {
      "cell_type": "code",
      "metadata": {
        "id": "2MDIRruTS0Nw",
        "colab_type": "code",
        "colab": {}
      },
      "source": [
        "time_averages = np.zeros((5, 7))\n",
        "\n",
        "for run in range(5):\n",
        "    time_elapsed = np.zeros((7, 2000))\n",
        "\n",
        "    for n in range(2000):\n",
        "        v = generate_rv(arr=100)\n",
        "\n",
        "        for op in range(7):\n",
        "            start_time = time.time()\n",
        "            y = fun_operation(v, op)\n",
        "            time_elapsed[op][n] = (time.time() - start_time)\n",
        "\n",
        "    time_averages[run] = (np.mean(time_elapsed, axis=1))"
      ],
      "execution_count": 4,
      "outputs": []
    },
    {
      "cell_type": "code",
      "metadata": {
        "id": "qePFdYQwS0N4",
        "colab_type": "code",
        "colab": {
          "base_uri": "https://localhost:8080/",
          "height": 51
        },
        "outputId": "1bab1e26-cd8d-4841-dd02-0e5fd153313b"
      },
      "source": [
        "time_avgs = time_averages.transpose()\n",
        "time_avgs[0]"
      ],
      "execution_count": 5,
      "outputs": [
        {
          "output_type": "execute_result",
          "data": {
            "text/plain": [
              "array([5.22732735e-07, 5.12957573e-07, 5.01036644e-07, 4.94360924e-07,\n",
              "       4.86254692e-07])"
            ]
          },
          "metadata": {
            "tags": []
          },
          "execution_count": 5
        }
      ]
    },
    {
      "cell_type": "code",
      "metadata": {
        "id": "ZIWKKfjrS0N_",
        "colab_type": "code",
        "colab": {
          "base_uri": "https://localhost:8080/",
          "height": 279
        },
        "outputId": "089f30bb-cfd7-45ab-c211-5fbf9b646418"
      },
      "source": [
        "from matplotlib import pyplot as plt\n",
        "plt.plot(time_avgs[0], label='constant')\n",
        "plt.plot(time_avgs[1], label='sum')\n",
        "plt.plot(time_avgs[2], label='product')\n",
        "plt.plot(time_avgs[3], label='bubblesort')\n",
        "plt.plot(time_avgs[4], label='quicksort')\n",
        "plt.plot(time_avgs[5], label='timsort')\n",
        "plt.plot(time_avgs[6], label='polyval-Horners')\n",
        "plt.xlabel('Rounds')\n",
        "plt.ylabel('Seconds')\n",
        "plt.legend()\n",
        "plt.show()"
      ],
      "execution_count": 6,
      "outputs": [
        {
          "output_type": "display_data",
          "data": {
            "image/png": "[encoded data removed]",
            "text/plain": [
              "<Figure size 432x288 with 1 Axes>"
            ]
          },
          "metadata": {
            "tags": [],
            "needs_background": "light"
          }
        }
      ]
    },
    {
      "cell_type": "markdown",
      "metadata": {
        "id": "LrzhCnD2S0OK",
        "colab_type": "text"
      },
      "source": [
        "## Matrix Operations"
      ]
    },
    {
      "cell_type": "code",
      "metadata": {
        "id": "_zbc3xuvS0ON",
        "colab_type": "code",
        "colab": {}
      },
      "source": [
        "def generate_matrix(arr):\n",
        "    return np.random.rand(arr, arr)"
      ],
      "execution_count": 7,
      "outputs": []
    },
    {
      "cell_type": "code",
      "metadata": {
        "id": "0w5bsn-NS0OY",
        "colab_type": "code",
        "colab": {}
      },
      "source": [
        "mat_time_averages = np.zeros(5)\n",
        "\n",
        "for run in range(5):\n",
        "    mat_time_elapsed = np.zeros(2000)\n",
        "    for n in range(2000):\n",
        "        A = generate_matrix(arr=100)\n",
        "        B = generate_matrix(arr=100)\n",
        "\n",
        "        start_time = time.time()\n",
        "        y = np.matmul(A, B)\n",
        "        mat_time_elapsed[n] = (time.time() - start_time)\n",
        "        \n",
        "    mat_time_averages[run] = np.mean(mat_time_elapsed)"
      ],
      "execution_count": 8,
      "outputs": []
    },
    {
      "cell_type": "code",
      "metadata": {
        "id": "JZdiFdyRS0Oe",
        "colab_type": "code",
        "colab": {
          "base_uri": "https://localhost:8080/",
          "height": 34
        },
        "outputId": "aa490399-f58e-49df-baf5-91aa1478552d"
      },
      "source": [
        "mat_time_averages"
      ],
      "execution_count": 9,
      "outputs": [
        {
          "output_type": "execute_result",
          "data": {
            "text/plain": [
              "array([0.00011609, 0.00012961, 0.00011488, 0.00010276, 0.00010643])"
            ]
          },
          "metadata": {
            "tags": []
          },
          "execution_count": 9
        }
      ]
    }
  ]
}